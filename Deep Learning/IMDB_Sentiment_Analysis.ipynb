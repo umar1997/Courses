{
  "nbformat": 4,
  "nbformat_minor": 0,
  "metadata": {
    "accelerator": "GPU",
    "colab": {
      "name": "PA6_20100120.ipynb",
      "provenance": [],
      "collapsed_sections": [],
      "machine_shape": "hm"
    },
    "kernelspec": {
      "display_name": "Python 3",
      "language": "python",
      "name": "python3"
    },
    "language_info": {
      "codemirror_mode": {
        "name": "ipython",
        "version": 3
      },
      "file_extension": ".py",
      "mimetype": "text/x-python",
      "name": "python",
      "nbconvert_exporter": "python",
      "pygments_lexer": "ipython3",
      "version": "3.7.1"
    }
  },
  "cells": [
    {
      "cell_type": "markdown",
      "metadata": {
        "colab_type": "text",
        "id": "xQXc2RLkcunR"
      },
      "source": [
        "# Sentiment Analysis on IMDB Movie Review dataset"
      ]
    },
    {
      "cell_type": "markdown",
      "metadata": {
        "colab_type": "text",
        "id": "p6LppVHVcehz"
      },
      "source": [
        "Note: If you are using the Google Colab and want to use tensorflow < 2: you will have to downgrade using this link. https://colab.research.google.com/notebooks/tensorflow_version.ipynb"
      ]
    },
    {
      "cell_type": "markdown",
      "metadata": {
        "colab_type": "text",
        "id": "PmM9nJuqc61S"
      },
      "source": [
        "Sentiment analysis is one of the key areas of research in NLP and Sequence modelling. We will be using LSTMs and Bi-directional LSTMs to predict two classes - positive or negative sentiment.\n",
        "\n",
        "\n",
        "You will be reading the dataset from here: https://drive.google.com/file/d/127PCwycL0oToSF6l-c2oFuBkacYsmlgK/view?usp=sharing\n",
        "\n",
        "You can use this blog for understanding: https://towardsdatascience.com/word-embeddings-for-sentiment-analysis-65f42ea5d26e"
      ]
    },
    {
      "cell_type": "code",
      "metadata": {
        "ExecuteTime": {
          "end_time": "2020-04-07T13:31:26.633881Z",
          "start_time": "2020-04-07T13:31:26.624745Z"
        },
        "_cell_guid": "b1076dfc-b9ad-4769-8c92-a6c4dae69d19",
        "_uuid": "8f2839f25d086af736a60e9eeb907d3b93b6e0e5",
        "colab_type": "code",
        "id": "hT5xlQy1_UY6",
        "outputId": "d60a4740-90d2-4be4-e0a7-c5b97bcc4015",
        "colab": {
          "base_uri": "https://localhost:8080/",
          "height": 34
        }
      },
      "source": [
        "import re\n",
        "import numpy as np \n",
        "import pandas as pd\n",
        "\n",
        "import matplotlib.pyplot as plt; plt.rcdefaults()\n",
        "import seaborn as sns\n",
        "%matplotlib inline\n",
        "\n",
        "import tensorflow as tf\n",
        "from tensorflow import keras\n",
        "\n",
        "from keras.datasets import imdb\n",
        "from keras.models import Sequential\n",
        "from keras.layers import Dense, LSTM, Conv1D, MaxPooling1D, Conv1D, Dropout, Bidirectional\n",
        "from keras.layers.embeddings import Embedding\n",
        "from keras.preprocessing import sequence\n",
        "from sklearn.model_selection import train_test_split\n",
        "\n",
        "# !pip install wordcloud==1.4.1 --yes\n",
        "from wordcloud import WordCloud, STOPWORDS\n",
        "\n",
        "print('Libraries Imported')"
      ],
      "execution_count": 2,
      "outputs": [
        {
          "output_type": "stream",
          "text": [
            "Libraries Imported\n"
          ],
          "name": "stdout"
        }
      ]
    },
    {
      "cell_type": "markdown",
      "metadata": {
        "colab_type": "text",
        "id": "apFydSt_d1bv"
      },
      "source": [
        "All the relevant libraries are imported. \n",
        "You are free to change as you please. \n",
        "Using the GPU backend is recommended as LSTMs are computationally expensive to train.\n",
        "\n"
      ]
    },
    {
      "cell_type": "markdown",
      "metadata": {
        "colab_type": "text",
        "id": "kgb27C2ceFmU"
      },
      "source": [
        "## Data handling - exploration and cleaning\n",
        "\n"
      ]
    },
    {
      "cell_type": "markdown",
      "metadata": {
        "colab_type": "text",
        "id": "4XNC2zKWeNcP"
      },
      "source": [
        "\n",
        "\n",
        "1.   You are expected to read the dataset into a dataframe.\n",
        "2.   This is a real world dataset and you will be expected to clean the dataset.\n",
        "\n",
        "1.   This includes removing trailing spaces and HTML tags.\n",
        "\n",
        "\n",
        "\n",
        "\n"
      ]
    },
    {
      "cell_type": "code",
      "metadata": {
        "id": "VSJoswKis8Ki",
        "colab_type": "code",
        "outputId": "1b95f851-0f0b-4247-8562-d17616886c02",
        "colab": {
          "base_uri": "https://localhost:8080/",
          "height": 34
        }
      },
      "source": [
        "from google.colab import drive\n",
        "import os\n",
        "\n",
        "drive.mount('/content/drive')\n",
        "dir = \"/content/drive/My Drive/Datasets/\"\n",
        "files = os.listdir(dir)"
      ],
      "execution_count": 3,
      "outputs": [
        {
          "output_type": "stream",
          "text": [
            "Mounted at /content/drive\n"
          ],
          "name": "stdout"
        }
      ]
    },
    {
      "cell_type": "code",
      "metadata": {
        "ExecuteTime": {
          "end_time": "2020-04-07T13:31:49.259950Z",
          "start_time": "2020-04-07T13:31:47.540221Z"
        },
        "colab_type": "code",
        "id": "7azvBQpa_UZy",
        "outputId": "4382f0a4-05b8-4330-b02c-d754723ecd34",
        "colab": {
          "base_uri": "https://localhost:8080/",
          "height": 390
        }
      },
      "source": [
        "df = pd.read_csv(dir + 'IMDB Dataset.csv')\n",
        "Categorical_to_Numeric = {'sentiment':     {'positive': 1, 'negative': 0}}\n",
        "df.replace(Categorical_to_Numeric, inplace=True)\n",
        "print(len(df))\n",
        "df.head(11)"
      ],
      "execution_count": 4,
      "outputs": [
        {
          "output_type": "stream",
          "text": [
            "50000\n"
          ],
          "name": "stdout"
        },
        {
          "output_type": "execute_result",
          "data": {
            "text/html": [
              "<div>\n",
              "<style scoped>\n",
              "    .dataframe tbody tr th:only-of-type {\n",
              "        vertical-align: middle;\n",
              "    }\n",
              "\n",
              "    .dataframe tbody tr th {\n",
              "        vertical-align: top;\n",
              "    }\n",
              "\n",
              "    .dataframe thead th {\n",
              "        text-align: right;\n",
              "    }\n",
              "</style>\n",
              "<table border=\"1\" class=\"dataframe\">\n",
              "  <thead>\n",
              "    <tr style=\"text-align: right;\">\n",
              "      <th></th>\n",
              "      <th>review</th>\n",
              "      <th>sentiment</th>\n",
              "    </tr>\n",
              "  </thead>\n",
              "  <tbody>\n",
              "    <tr>\n",
              "      <th>0</th>\n",
              "      <td>One of the other reviewers has mentioned that ...</td>\n",
              "      <td>1</td>\n",
              "    </tr>\n",
              "    <tr>\n",
              "      <th>1</th>\n",
              "      <td>A wonderful little production. &lt;br /&gt;&lt;br /&gt;The...</td>\n",
              "      <td>1</td>\n",
              "    </tr>\n",
              "    <tr>\n",
              "      <th>2</th>\n",
              "      <td>I thought this was a wonderful way to spend ti...</td>\n",
              "      <td>1</td>\n",
              "    </tr>\n",
              "    <tr>\n",
              "      <th>3</th>\n",
              "      <td>Basically there's a family where a little boy ...</td>\n",
              "      <td>0</td>\n",
              "    </tr>\n",
              "    <tr>\n",
              "      <th>4</th>\n",
              "      <td>Petter Mattei's \"Love in the Time of Money\" is...</td>\n",
              "      <td>1</td>\n",
              "    </tr>\n",
              "    <tr>\n",
              "      <th>5</th>\n",
              "      <td>Probably my all-time favorite movie, a story o...</td>\n",
              "      <td>1</td>\n",
              "    </tr>\n",
              "    <tr>\n",
              "      <th>6</th>\n",
              "      <td>I sure would like to see a resurrection of a u...</td>\n",
              "      <td>1</td>\n",
              "    </tr>\n",
              "    <tr>\n",
              "      <th>7</th>\n",
              "      <td>This show was an amazing, fresh &amp; innovative i...</td>\n",
              "      <td>0</td>\n",
              "    </tr>\n",
              "    <tr>\n",
              "      <th>8</th>\n",
              "      <td>Encouraged by the positive comments about this...</td>\n",
              "      <td>0</td>\n",
              "    </tr>\n",
              "    <tr>\n",
              "      <th>9</th>\n",
              "      <td>If you like original gut wrenching laughter yo...</td>\n",
              "      <td>1</td>\n",
              "    </tr>\n",
              "    <tr>\n",
              "      <th>10</th>\n",
              "      <td>Phil the Alien is one of those quirky films wh...</td>\n",
              "      <td>0</td>\n",
              "    </tr>\n",
              "  </tbody>\n",
              "</table>\n",
              "</div>"
            ],
            "text/plain": [
              "                                               review  sentiment\n",
              "0   One of the other reviewers has mentioned that ...          1\n",
              "1   A wonderful little production. <br /><br />The...          1\n",
              "2   I thought this was a wonderful way to spend ti...          1\n",
              "3   Basically there's a family where a little boy ...          0\n",
              "4   Petter Mattei's \"Love in the Time of Money\" is...          1\n",
              "5   Probably my all-time favorite movie, a story o...          1\n",
              "6   I sure would like to see a resurrection of a u...          1\n",
              "7   This show was an amazing, fresh & innovative i...          0\n",
              "8   Encouraged by the positive comments about this...          0\n",
              "9   If you like original gut wrenching laughter yo...          1\n",
              "10  Phil the Alien is one of those quirky films wh...          0"
            ]
          },
          "metadata": {
            "tags": []
          },
          "execution_count": 4
        }
      ]
    },
    {
      "cell_type": "markdown",
      "metadata": {
        "colab_type": "text",
        "id": "5EAO393yfEK5"
      },
      "source": [
        "### Data Cleaning - write the techniques you employed and the achieved results"
      ]
    },
    {
      "cell_type": "code",
      "metadata": {
        "id": "8yJsFGks1e9L",
        "colab_type": "code",
        "outputId": "951f27d6-5ed8-430e-9ecc-8fabd8a2b209",
        "colab": {
          "base_uri": "https://localhost:8080/",
          "height": 34
        }
      },
      "source": [
        "import nltk\n",
        "# nltk.download('stopwords')\n",
        "from nltk.corpus import stopwords\n",
        "stop_words = list(stopwords.words('english'))\n",
        "len(stop_words)"
      ],
      "execution_count": 6,
      "outputs": [
        {
          "output_type": "execute_result",
          "data": {
            "text/plain": [
              "179"
            ]
          },
          "metadata": {
            "tags": []
          },
          "execution_count": 6
        }
      ]
    },
    {
      "cell_type": "code",
      "metadata": {
        "ExecuteTime": {
          "end_time": "2020-04-07T13:31:59.990645Z",
          "start_time": "2020-04-07T13:31:59.942014Z"
        },
        "colab_type": "code",
        "id": "FVgxG8nE_UaT",
        "outputId": "38a21fb9-5dac-4a4f-d609-415fd2ce9b31",
        "colab": {
          "base_uri": "https://localhost:8080/",
          "height": 34
        }
      },
      "source": [
        "# WRITE CODE HERE\n",
        "word_list = []\n",
        "word_length = []\n",
        "sentence_list = []\n",
        "for i in range(len(df)):\n",
        "  text = re.sub(r'\\b\\w{1,3}\\b', '', df.iloc[i]['review'])\n",
        "  words = (re.sub('[^A-Za-z\\s]+',' ', text)).lower().split()\n",
        "  sentence = \"\"\n",
        "  for w in words:\n",
        "    if w in stop_words:\n",
        "      continue\n",
        "    else:\n",
        "      sentence += w + ' '\n",
        "  sentence_list.append(sentence)\n",
        "  word_length.append(len(words))\n",
        "  word_list += words\n",
        "df['Updated_Reviews'] = pd.Series(sentence_list)\n",
        "len(word_list)"
      ],
      "execution_count": 7,
      "outputs": [
        {
          "output_type": "execute_result",
          "data": {
            "text/plain": [
              "6657479"
            ]
          },
          "metadata": {
            "tags": []
          },
          "execution_count": 7
        }
      ]
    },
    {
      "cell_type": "code",
      "metadata": {
        "id": "gio94VhO3K7I",
        "colab_type": "code",
        "outputId": "596fc799-9df3-4d83-8efc-4f4a8c5decdf",
        "colab": {
          "base_uri": "https://localhost:8080/",
          "height": 373
        }
      },
      "source": [
        "df.head(11)"
      ],
      "execution_count": 8,
      "outputs": [
        {
          "output_type": "execute_result",
          "data": {
            "text/html": [
              "<div>\n",
              "<style scoped>\n",
              "    .dataframe tbody tr th:only-of-type {\n",
              "        vertical-align: middle;\n",
              "    }\n",
              "\n",
              "    .dataframe tbody tr th {\n",
              "        vertical-align: top;\n",
              "    }\n",
              "\n",
              "    .dataframe thead th {\n",
              "        text-align: right;\n",
              "    }\n",
              "</style>\n",
              "<table border=\"1\" class=\"dataframe\">\n",
              "  <thead>\n",
              "    <tr style=\"text-align: right;\">\n",
              "      <th></th>\n",
              "      <th>review</th>\n",
              "      <th>sentiment</th>\n",
              "      <th>Updated_Reviews</th>\n",
              "    </tr>\n",
              "  </thead>\n",
              "  <tbody>\n",
              "    <tr>\n",
              "      <th>0</th>\n",
              "      <td>One of the other reviewers has mentioned that ...</td>\n",
              "      <td>1</td>\n",
              "      <td>reviewers mentioned watching episode hooked ri...</td>\n",
              "    </tr>\n",
              "    <tr>\n",
              "      <th>1</th>\n",
              "      <td>A wonderful little production. &lt;br /&gt;&lt;br /&gt;The...</td>\n",
              "      <td>1</td>\n",
              "      <td>wonderful little production filming technique ...</td>\n",
              "    </tr>\n",
              "    <tr>\n",
              "      <th>2</th>\n",
              "      <td>I thought this was a wonderful way to spend ti...</td>\n",
              "      <td>1</td>\n",
              "      <td>thought wonderful spend time summer weekend si...</td>\n",
              "    </tr>\n",
              "    <tr>\n",
              "      <th>3</th>\n",
              "      <td>Basically there's a family where a little boy ...</td>\n",
              "      <td>0</td>\n",
              "      <td>basically family little jake thinks zombie clo...</td>\n",
              "    </tr>\n",
              "    <tr>\n",
              "      <th>4</th>\n",
              "      <td>Petter Mattei's \"Love in the Time of Money\" is...</td>\n",
              "      <td>1</td>\n",
              "      <td>petter mattei love time money visually stunnin...</td>\n",
              "    </tr>\n",
              "    <tr>\n",
              "      <th>5</th>\n",
              "      <td>Probably my all-time favorite movie, a story o...</td>\n",
              "      <td>1</td>\n",
              "      <td>probably time favorite movie story selflessnes...</td>\n",
              "    </tr>\n",
              "    <tr>\n",
              "      <th>6</th>\n",
              "      <td>I sure would like to see a resurrection of a u...</td>\n",
              "      <td>1</td>\n",
              "      <td>sure would like resurrection dated seahunt ser...</td>\n",
              "    </tr>\n",
              "    <tr>\n",
              "      <th>7</th>\n",
              "      <td>This show was an amazing, fresh &amp; innovative i...</td>\n",
              "      <td>0</td>\n",
              "      <td>show amazing fresh innovative idea first aired...</td>\n",
              "    </tr>\n",
              "    <tr>\n",
              "      <th>8</th>\n",
              "      <td>Encouraged by the positive comments about this...</td>\n",
              "      <td>0</td>\n",
              "      <td>encouraged positive comments film looking forw...</td>\n",
              "    </tr>\n",
              "    <tr>\n",
              "      <th>9</th>\n",
              "      <td>If you like original gut wrenching laughter yo...</td>\n",
              "      <td>1</td>\n",
              "      <td>like original wrenching laughter like movie yo...</td>\n",
              "    </tr>\n",
              "    <tr>\n",
              "      <th>10</th>\n",
              "      <td>Phil the Alien is one of those quirky films wh...</td>\n",
              "      <td>0</td>\n",
              "      <td>phil alien quirky films humour based around od...</td>\n",
              "    </tr>\n",
              "  </tbody>\n",
              "</table>\n",
              "</div>"
            ],
            "text/plain": [
              "                                               review  ...                                    Updated_Reviews\n",
              "0   One of the other reviewers has mentioned that ...  ...  reviewers mentioned watching episode hooked ri...\n",
              "1   A wonderful little production. <br /><br />The...  ...  wonderful little production filming technique ...\n",
              "2   I thought this was a wonderful way to spend ti...  ...  thought wonderful spend time summer weekend si...\n",
              "3   Basically there's a family where a little boy ...  ...  basically family little jake thinks zombie clo...\n",
              "4   Petter Mattei's \"Love in the Time of Money\" is...  ...  petter mattei love time money visually stunnin...\n",
              "5   Probably my all-time favorite movie, a story o...  ...  probably time favorite movie story selflessnes...\n",
              "6   I sure would like to see a resurrection of a u...  ...  sure would like resurrection dated seahunt ser...\n",
              "7   This show was an amazing, fresh & innovative i...  ...  show amazing fresh innovative idea first aired...\n",
              "8   Encouraged by the positive comments about this...  ...  encouraged positive comments film looking forw...\n",
              "9   If you like original gut wrenching laughter yo...  ...  like original wrenching laughter like movie yo...\n",
              "10  Phil the Alien is one of those quirky films wh...  ...  phil alien quirky films humour based around od...\n",
              "\n",
              "[11 rows x 3 columns]"
            ]
          },
          "metadata": {
            "tags": []
          },
          "execution_count": 8
        }
      ]
    },
    {
      "cell_type": "markdown",
      "metadata": {
        "colab_type": "text",
        "id": "uRVWsc1Lf0Af"
      },
      "source": [
        "**Write about the techniques used to clean:**\n",
        "\n",
        "1) I used Regular Expressions to get rid of all characters except proper words with alphabets in them only\n",
        "\n",
        "2) I removed all the words whose length was below 3 cause either they were stop words or were HTML tags.\n",
        "\n",
        "3) I got rid of all the stop words using the NLTK library which were 179 in total"
      ]
    },
    {
      "cell_type": "markdown",
      "metadata": {
        "id": "sr-rVAXOuk-4",
        "colab_type": "text"
      },
      "source": [
        "### Test Train Split"
      ]
    },
    {
      "cell_type": "code",
      "metadata": {
        "id": "aYEPmEVIUlAF",
        "colab_type": "code",
        "outputId": "8c96088d-bc61-47cf-8f25-25655dcf386d",
        "colab": {
          "base_uri": "https://localhost:8080/",
          "height": 84
        }
      },
      "source": [
        "X_train, X_test, Y_train, Y_test = train_test_split(df['Updated_Reviews'].values, df['sentiment'].values, test_size=0.3, random_state=42)\n",
        "print('Training Data: ',len(X_train))\n",
        "print('Training Data: ',len(Y_train))\n",
        "print('Testing Data: ',len(X_test))\n",
        "print('Testing Data: ',len(Y_test))"
      ],
      "execution_count": 9,
      "outputs": [
        {
          "output_type": "stream",
          "text": [
            "Training Data:  35000\n",
            "Training Data:  35000\n",
            "Testing Data:  15000\n",
            "Testing Data:  15000\n"
          ],
          "name": "stdout"
        }
      ]
    },
    {
      "cell_type": "markdown",
      "metadata": {
        "colab_type": "text",
        "id": "xQw0av-Zgcyc"
      },
      "source": [
        "### Data Exploration"
      ]
    },
    {
      "cell_type": "markdown",
      "metadata": {
        "colab_type": "text",
        "id": "M4n5GmwQgrOh"
      },
      "source": [
        "\n",
        "\n",
        "1.   You are required to report the total number of distinct tokens present in the data set.\n",
        "2.   Find out the minimum and max length of a review.\n",
        "\n",
        "An integral part of visualization when it comes to textual data is the generating of a word cloud.\n",
        "\n",
        "1.   \n",
        "This task is open-ended and you can use any library of your choice. \n",
        "NLTK is one such library. \n",
        "2.   \n",
        "Make sure to keep note of stop words.\n",
        "\n",
        "##Example:\n",
        "\n",
        "\n",
        "![alt text](https://getthematic.com/wp-content/uploads/2018/03/Harris-Word-Cloud-e1522406279125.png)\n",
        "\n",
        "\n"
      ]
    },
    {
      "cell_type": "markdown",
      "metadata": {
        "id": "l66jO21rxspc",
        "colab_type": "text"
      },
      "source": [
        "https://matplotlib.org/tutorials/colors/colormaps.html"
      ]
    },
    {
      "cell_type": "code",
      "metadata": {
        "id": "d8l5S7MZzbzb",
        "colab_type": "code",
        "colab": {}
      },
      "source": [
        "comment = \"\"\n",
        "for w in word_list:\n",
        "  comment += w + ' '\n",
        "comment"
      ],
      "execution_count": 0,
      "outputs": []
    },
    {
      "cell_type": "code",
      "metadata": {
        "colab_type": "code",
        "id": "WC2IxMnwi9xz",
        "outputId": "71017714-2bfa-41f0-fb81-39419c432fc0",
        "colab": {
          "base_uri": "https://localhost:8080/",
          "height": 310
        }
      },
      "source": [
        "#WRITE CODE HERE\n",
        "stopwords = set(STOPWORDS)\n",
        "\n",
        "cloud = WordCloud(\n",
        "    background_color='white',\n",
        "    max_words=2000,\n",
        "    collocations=False,\n",
        "    colormap=\"nipy_spectral\",\n",
        "    min_font_size = 6,\n",
        "    stopwords=stopwords\n",
        ")\n",
        "\n",
        "cloud.generate(comment)\n",
        "\n",
        "fig = plt.figure()\n",
        "fig.set_figwidth(10)\n",
        "fig.set_figheight(10)\n",
        "\n",
        "plt.imshow(cloud, interpolation='bilinear')\n",
        "plt.axis('off')\n",
        "plt.show()"
      ],
      "execution_count": 11,
      "outputs": [
        {
          "output_type": "display_data",
          "data": {
            "image/png": "[encoded data removed]",
            "text/plain": [
              "<Figure size 720x720 with 1 Axes>"
            ]
          },
          "metadata": {
            "tags": [],
            "needs_background": "light"
          }
        }
      ]
    },
    {
      "cell_type": "markdown",
      "metadata": {
        "colab_type": "text",
        "id": "4iC2QLmai9FK"
      },
      "source": [
        "### Model processing\n",
        "\n",
        "You can use a 70:30 train/test split.\n",
        "The labels are 'positive' and negative, you should assign them integers 0 or 1 for further processing."
      ]
    },
    {
      "cell_type": "code",
      "metadata": {
        "ExecuteTime": {
          "end_time": "2020-04-07T13:32:51.202927Z",
          "start_time": "2020-04-07T13:32:50.093015Z"
        },
        "colab_type": "code",
        "id": "yRKTkhOR_Ub-",
        "colab": {}
      },
      "source": [
        "from keras.preprocessing.text import text_to_word_sequence\n",
        "from keras.preprocessing.text import Tokenizer\n",
        "from keras.preprocessing.sequence import pad_sequences"
      ],
      "execution_count": 0,
      "outputs": []
    },
    {
      "cell_type": "markdown",
      "metadata": {
        "colab_type": "text",
        "id": "_ymi3ltfpBpX"
      },
      "source": [
        "### Tokenizer\n",
        "You will need to use fit a tokenizer over your training and testing data.\n",
        "\n",
        "What does a tokenizer do?\n",
        "It creates a dictionary of word to integer mappings. It updates internal vocabulary based on a list of texts. You should read up on the documentation before diving into the code. \n",
        "\n",
        "You will also be using the the text_to_sequence function will return integers based on a respective tokenizer.\n",
        "\n",
        "Make sure you **pad** your sequences to max length using sequence.pad_sequences()\n",
        "\n",
        "\n"
      ]
    },
    {
      "cell_type": "code",
      "metadata": {
        "ExecuteTime": {
          "end_time": "2020-04-07T13:33:17.380066Z",
          "start_time": "2020-04-07T13:32:51.886856Z"
        },
        "colab_type": "code",
        "id": "kJrQ9E5R_UcH",
        "colab": {}
      },
      "source": [
        "# WRITE CODE HERE\n",
        "vocab_size = 6000\n",
        "embedding_dim = 20\n",
        "max_length = 180\n",
        "trunc_type = 'post'\n",
        "padding_type = 'post'\n",
        "oov_tok = '<OOV>'"
      ],
      "execution_count": 0,
      "outputs": []
    },
    {
      "cell_type": "code",
      "metadata": {
        "id": "Zz_cWSNzXmVY",
        "colab_type": "code",
        "outputId": "af26ddf1-ede1-48dc-9b08-9b711aba5a44",
        "colab": {
          "base_uri": "https://localhost:8080/",
          "height": 34
        }
      },
      "source": [
        "tokenizer = Tokenizer(num_words = vocab_size, oov_token = '<OOV>')\n",
        "tokenizer.fit_on_texts(X_train)\n",
        "word_index = tokenizer.word_index\n",
        "len(word_index)"
      ],
      "execution_count": 14,
      "outputs": [
        {
          "output_type": "execute_result",
          "data": {
            "text/plain": [
              "83500"
            ]
          },
          "metadata": {
            "tags": []
          },
          "execution_count": 14
        }
      ]
    },
    {
      "cell_type": "code",
      "metadata": {
        "id": "zEhr5f5eZMo8",
        "colab_type": "code",
        "colab": {}
      },
      "source": [
        "training_labels = Y_train\n",
        "testing_labels = Y_test\n",
        "\n",
        "training_sequences = tokenizer.texts_to_sequences(X_train)\n",
        "training_padded = pad_sequences(training_sequences,maxlen = max_length, padding = padding_type, truncating= trunc_type)\n",
        "\n",
        "testing_sequences = tokenizer.texts_to_sequences(X_test)\n",
        "testing_padded = pad_sequences(testing_sequences,maxlen = max_length, padding = padding_type, truncating= trunc_type)"
      ],
      "execution_count": 0,
      "outputs": []
    },
    {
      "cell_type": "markdown",
      "metadata": {
        "colab_type": "text",
        "id": "zjhYezEFx0Ov"
      },
      "source": [
        "### Model Engineering\n",
        "\n",
        "You will be required to engineer three types of models from scratch.\n",
        "\n",
        "1.   Using LSTMs\n",
        "2.   Bi-directional LSTMs\n",
        "\n",
        "1.   A model with less than 10,000 parameters - the lower the parameters, higher the score (provided accuracy is good)\n",
        "\n",
        "\n",
        "For each model:\n",
        "\n",
        "1.   You will be reporting graphs for validation accuracy and training loss.\n",
        "2.   What hyper-parameters, loss functions, optimizations, initializations were used. This should be clearly stated in your analysis.\n",
        "\n",
        "~90 percent and above is the desired accuracy. \n",
        "\n",
        "For model 3, CLEARLY report the number of parameters.\n",
        "\n",
        "\n"
      ]
    },
    {
      "cell_type": "code",
      "metadata": {
        "id": "8Ny8udZCt-60",
        "colab_type": "code",
        "colab": {}
      },
      "source": [
        "import matplotlib.pyplot as plt\n",
        "\n",
        "def plot_graphs(history, string):\n",
        "  plt.plot(history.history[string])\n",
        "  plt.plot(history.history['val_' +string])\n",
        "  plt.xlabel('Epochs')\n",
        "  plt.ylabel(string)\n",
        "  plt.legend([string, 'val_'+string])\n",
        "  plt.show()"
      ],
      "execution_count": 0,
      "outputs": []
    },
    {
      "cell_type": "markdown",
      "metadata": {
        "id": "PPFwZTFyit5M",
        "colab_type": "text"
      },
      "source": [
        "### LSTM"
      ]
    },
    {
      "cell_type": "code",
      "metadata": {
        "ExecuteTime": {
          "end_time": "2020-04-07T13:33:23.177585Z",
          "start_time": "2020-04-07T13:33:22.426163Z"
        },
        "colab_type": "code",
        "id": "x4Lkc7VA_Ucu",
        "outputId": "7b7e948b-60aa-4086-f758-8c7cbe0a187f",
        "colab": {
          "base_uri": "https://localhost:8080/",
          "height": 386
        }
      },
      "source": [
        "# CODE HERE\n",
        "LSTM = tf.keras.Sequential([\n",
        "                             tf.keras.layers.Embedding(vocab_size,embedding_dim, input_length = max_length),\n",
        "                             tf.keras.layers.SpatialDropout1D(0.3),\n",
        "                             tf.keras.layers.LSTM(64, return_sequences= True),\n",
        "                             tf.keras.layers.LSTM(32, return_sequences= True),\n",
        "                             tf.keras.layers.GlobalAveragePooling1D(),\n",
        "                             tf.keras.layers.Dense(20,activation='tanh'),\n",
        "                             tf.keras.layers.Dense(1,activation='sigmoid')\n",
        "])\n",
        "\n",
        "LSTM.compile(loss = 'binary_crossentropy',optimizer = 'adam', metrics = ['accuracy'])\n",
        "LSTM.summary()"
      ],
      "execution_count": 17,
      "outputs": [
        {
          "output_type": "stream",
          "text": [
            "Model: \"sequential\"\n",
            "_________________________________________________________________\n",
            "Layer (type)                 Output Shape              Param #   \n",
            "=================================================================\n",
            "embedding (Embedding)        (None, 180, 20)           120000    \n",
            "_________________________________________________________________\n",
            "spatial_dropout1d (SpatialDr (None, 180, 20)           0         \n",
            "_________________________________________________________________\n",
            "lstm (LSTM)                  (None, 180, 64)           21760     \n",
            "_________________________________________________________________\n",
            "lstm_1 (LSTM)                (None, 180, 32)           12416     \n",
            "_________________________________________________________________\n",
            "global_average_pooling1d (Gl (None, 32)                0         \n",
            "_________________________________________________________________\n",
            "dense (Dense)                (None, 20)                660       \n",
            "_________________________________________________________________\n",
            "dense_1 (Dense)              (None, 1)                 21        \n",
            "=================================================================\n",
            "Total params: 154,857\n",
            "Trainable params: 154,857\n",
            "Non-trainable params: 0\n",
            "_________________________________________________________________\n"
          ],
          "name": "stdout"
        }
      ]
    },
    {
      "cell_type": "code",
      "metadata": {
        "id": "R6IEcSHNeK35",
        "colab_type": "code",
        "outputId": "4ed1e42f-b6ee-4958-d61f-1d0e601e24f3",
        "colab": {
          "base_uri": "https://localhost:8080/",
          "height": 185
        }
      },
      "source": [
        "num_epochs = 5\n",
        "history = LSTM.fit(training_padded,\n",
        "          training_labels,\n",
        "          epochs = num_epochs,\n",
        "          batch_size = 256,\n",
        "          validation_data = (testing_padded, testing_labels),\n",
        "          verbose = 1)"
      ],
      "execution_count": 0,
      "outputs": [
        {
          "output_type": "stream",
          "text": [
            "Epoch 1/5\n",
            "137/137 [==============================] - 13s 96ms/step - loss: 0.4810 - accuracy: 0.7438 - val_loss: 0.3206 - val_accuracy: 0.8686\n",
            "Epoch 2/5\n",
            "137/137 [==============================] - 12s 90ms/step - loss: 0.2881 - accuracy: 0.8854 - val_loss: 0.2922 - val_accuracy: 0.8794\n",
            "Epoch 3/5\n",
            "137/137 [==============================] - 12s 88ms/step - loss: 0.2468 - accuracy: 0.9060 - val_loss: 0.3084 - val_accuracy: 0.8755\n",
            "Epoch 4/5\n",
            "137/137 [==============================] - 12s 88ms/step - loss: 0.2319 - accuracy: 0.9125 - val_loss: 0.2982 - val_accuracy: 0.8756\n",
            "Epoch 5/5\n",
            "137/137 [==============================] - 12s 87ms/step - loss: 0.2190 - accuracy: 0.9186 - val_loss: 0.3330 - val_accuracy: 0.8731\n"
          ],
          "name": "stdout"
        }
      ]
    },
    {
      "cell_type": "code",
      "metadata": {
        "id": "4E1MHBNfvzcZ",
        "colab_type": "code",
        "outputId": "ba4f590a-dc84-4e95-b834-45f36f913752",
        "colab": {
          "base_uri": "https://localhost:8080/",
          "height": 543
        }
      },
      "source": [
        "plot_graphs(history, 'accuracy')\n",
        "plot_graphs(history, 'loss')"
      ],
      "execution_count": 0,
      "outputs": [
        {
          "output_type": "display_data",
          "data": {
            "image/png": "[encoded data removed]",
            "text/plain": [
              "<Figure size 432x288 with 1 Axes>"
            ]
          },
          "metadata": {
            "tags": [],
            "needs_background": "light"
          }
        },
        {
          "output_type": "display_data",
          "data": {
            "image/png": "[encoded data removed]",
            "text/plain": [
              "<Figure size 432x288 with 1 Axes>"
            ]
          },
          "metadata": {
            "tags": [],
            "needs_background": "light"
          }
        }
      ]
    },
    {
      "cell_type": "markdown",
      "metadata": {
        "id": "MZYP6S92sSYs",
        "colab_type": "text"
      },
      "source": [
        "#### **LSTM ANALYSIS**\n",
        "For all three Models Default Intitialization was used. Andrew Ng's lectures say that an activation layer of zeros should be used for activation 0. For the LSTM Model I used a Vocabulary size of 6000 most frequent words and Max Length Sentence of 180 Words, I also used an Embedding Dimension of 20. My Truncation and Padding were both 'post' type.\n",
        "\n",
        "For the Model itself I used the Embedding layer and then a Spatial Dropout layer, which I researched on, that because simple Dropouts arent effective with RNNs and LSTMs, you should go for Weight dropping or using a Spatial Dropout Layer after the Embedding layer with a rate of 0.3. Then I used 2 LSTM layers with 64 and 32 cells which I then passed on to my Dense Layer with 20 Nuerons and an activation 'Hyperbolic Tangent (tanh)' which was recommended over 'relu' in Andrew Ng's lectures. Then I finally use a Dense layer with 1 Nueron and activation 'Sigmoid'. I used 2 LSTMS because they give a more stable or smoother loss compared to 1 LSTM.\n",
        "\n",
        "The Model had 154,857 trainable parameters.\n",
        "\n",
        "For my loss function I used 'Binary Cross Entropy' which works best with the sigmoid activation, I used the Adam optimizer as it said that SGD RMSprop and Adam are best used for LSTMs and RNNs in research papers. Then I ran this all with a Batch Size of 256 for 5 Epochs where my Val Accuracy shot up to 87% in the start then began to fall. It was first falling at a very fast rate which meant I was overfitting as my Training Accuracy went upto 98%, So I used the Spatial Dropout to regularize finally giving a Stable 87% Validation Accuracy."
      ]
    },
    {
      "cell_type": "markdown",
      "metadata": {
        "id": "pqNnn6VziliU",
        "colab_type": "text"
      },
      "source": [
        "### BIDIRECTIONAL LSTM"
      ]
    },
    {
      "cell_type": "code",
      "metadata": {
        "id": "-mN3XWWWilCI",
        "colab_type": "code",
        "outputId": "e9827ab3-abea-4b9f-a5c4-5b13036879b9",
        "colab": {
          "base_uri": "https://localhost:8080/",
          "height": 386
        }
      },
      "source": [
        "BDLSTM = tf.keras.Sequential([\n",
        "                             tf.keras.layers.Embedding(vocab_size,embedding_dim, input_length = max_length),\n",
        "                             tf.keras.layers.SpatialDropout1D(0.25),\n",
        "                             tf.keras.layers.Bidirectional(tf.keras.layers.LSTM(64, return_sequences= True)),\n",
        "                             tf.keras.layers.Bidirectional(tf.keras.layers.LSTM(32, return_sequences= True)),\n",
        "                             tf.keras.layers.GlobalMaxPool1D(),\n",
        "                             tf.keras.layers.Dense(16,activation='tanh'),\n",
        "                             tf.keras.layers.Dense(1,activation='sigmoid')\n",
        "])\n",
        "\n",
        "BDLSTM.compile(loss = 'binary_crossentropy',optimizer = 'adam', metrics = ['accuracy'])\n",
        "BDLSTM.summary()"
      ],
      "execution_count": 18,
      "outputs": [
        {
          "output_type": "stream",
          "text": [
            "Model: \"sequential_1\"\n",
            "_________________________________________________________________\n",
            "Layer (type)                 Output Shape              Param #   \n",
            "=================================================================\n",
            "embedding_1 (Embedding)      (None, 180, 20)           120000    \n",
            "_________________________________________________________________\n",
            "spatial_dropout1d_1 (Spatial (None, 180, 20)           0         \n",
            "_________________________________________________________________\n",
            "bidirectional (Bidirectional (None, 180, 128)          43520     \n",
            "_________________________________________________________________\n",
            "bidirectional_1 (Bidirection (None, 180, 64)           41216     \n",
            "_________________________________________________________________\n",
            "global_max_pooling1d (Global (None, 64)                0         \n",
            "_________________________________________________________________\n",
            "dense_2 (Dense)              (None, 16)                1040      \n",
            "_________________________________________________________________\n",
            "dense_3 (Dense)              (None, 1)                 17        \n",
            "=================================================================\n",
            "Total params: 205,793\n",
            "Trainable params: 205,793\n",
            "Non-trainable params: 0\n",
            "_________________________________________________________________\n"
          ],
          "name": "stdout"
        }
      ]
    },
    {
      "cell_type": "code",
      "metadata": {
        "id": "5nQUHh-EkRyO",
        "colab_type": "code",
        "outputId": "f2119f84-ef4b-4ac0-8b2e-091054dbdfad",
        "colab": {
          "base_uri": "https://localhost:8080/",
          "height": 185
        }
      },
      "source": [
        "history = BDLSTM.fit(training_padded,\n",
        "          training_labels,\n",
        "          batch_size = 256,\n",
        "          epochs = num_epochs,\n",
        "          validation_data = (testing_padded, testing_labels),\n",
        "          verbose = 1)"
      ],
      "execution_count": 0,
      "outputs": [
        {
          "output_type": "stream",
          "text": [
            "Epoch 1/5\n",
            "137/137 [==============================] - 29s 214ms/step - loss: 0.4682 - accuracy: 0.7534 - val_loss: 0.2985 - val_accuracy: 0.8780\n",
            "Epoch 2/5\n",
            "137/137 [==============================] - 26s 192ms/step - loss: 0.2620 - accuracy: 0.8958 - val_loss: 0.2879 - val_accuracy: 0.8819\n",
            "Epoch 3/5\n",
            "137/137 [==============================] - 25s 183ms/step - loss: 0.2246 - accuracy: 0.9132 - val_loss: 0.2882 - val_accuracy: 0.8824\n",
            "Epoch 4/5\n",
            "137/137 [==============================] - 23s 169ms/step - loss: 0.1988 - accuracy: 0.9259 - val_loss: 0.3046 - val_accuracy: 0.8754\n",
            "Epoch 5/5\n",
            "137/137 [==============================] - 23s 171ms/step - loss: 0.1792 - accuracy: 0.9321 - val_loss: 0.3241 - val_accuracy: 0.8763\n"
          ],
          "name": "stdout"
        }
      ]
    },
    {
      "cell_type": "code",
      "metadata": {
        "id": "IDB0MXpquFsT",
        "colab_type": "code",
        "outputId": "1731c57b-c681-440b-f33a-7d5b94dc5a20",
        "colab": {
          "base_uri": "https://localhost:8080/",
          "height": 541
        }
      },
      "source": [
        "plot_graphs(history, 'accuracy')\n",
        "plot_graphs(history, 'loss')"
      ],
      "execution_count": 0,
      "outputs": [
        {
          "output_type": "display_data",
          "data": {
            "image/png": "[encoded data removed]",
            "text/plain": [
              "<Figure size 432x288 with 1 Axes>"
            ]
          },
          "metadata": {
            "tags": [],
            "needs_background": "light"
          }
        },
        {
          "output_type": "display_data",
          "data": {
            "image/png": "[encoded data removed]",
            "text/plain": [
              "<Figure size 432x288 with 1 Axes>"
            ]
          },
          "metadata": {
            "tags": [],
            "needs_background": "light"
          }
        }
      ]
    },
    {
      "cell_type": "markdown",
      "metadata": {
        "id": "ZWNWgvksw66E",
        "colab_type": "text"
      },
      "source": [
        "#### **BIDIRECTIONAL LSTM ANALYSIS**\n",
        "For all three Models Default Intitialization was used. Andrew Ng's lectures say that an activation layer of zeros should be used for activation 0. For the BDLSTM Model I used a Vocabulary size of 6000 most frequent words and Max Length Sentence of 180 Words, I also used an Embedding Dimension of 20. My Truncation and Padding were both 'post' type.\n",
        "\n",
        "For the Model itself I used the Embedding layer and then a Spatial Dropout layer, which I researched on, that because simple Dropouts arent effective with RNNs and LSTMs, you should go for Weight dropping or using a Spatial Dropout Layer after the Embedding layer with a rate of 0.25. Then I used 2 BIdirectional LSTM layers with 64 and 32 cells, which meant 128  and 64 for both directions which I then passed on to my Global Max Pooling Layer which  Laurence Moroney taught in his lectures was better than Flatten which passed onto a Dense layer with 20 Nuerons and an activation 'Hyperbolic Tangent (tanh)' which was recommended over 'relu' in Andrew Ng's lectures. Then I finally use a Dense layer with 1 Nueron and activation 'Sigmoid'. I used 2 LSTMS because they give a more stable or smoother loss compared to 1 LSTM.\n",
        "\n",
        "The Model had 205,793 trainable parameters.\n",
        "\n",
        "For my loss function I used 'Binary Cross Entropy' which works best with the sigmoid activation, I used the Adam optimizer as it said that SGD RMSprop and Adam are best used for LSTMs and RNNs in research papers. Then I ran this all with a Batch Size of 256 for 5 Epochs where my Val Accuracy shot up to 88% in the start then began to fall. It was first falling at a very fast rate which meant I was overfitting as my Training Accuracy went upto 99%, So I used the Spatial Dropout to regularize finally giving a Stable 88% Validation Accuracy."
      ]
    },
    {
      "cell_type": "markdown",
      "metadata": {
        "id": "wW781izm4C3v",
        "colab_type": "text"
      },
      "source": [
        "### LESS THAN 10000 PARAMETERS"
      ]
    },
    {
      "cell_type": "code",
      "metadata": {
        "id": "MJ6n2UV81CpG",
        "colab_type": "code",
        "colab": {}
      },
      "source": [
        "# WRITE CODE HERE\n",
        "vocab_size = 1000\n",
        "embedding_dim = 8\n",
        "max_length = 100\n",
        "trunc_type = 'post'\n",
        "padding_type = 'post'\n",
        "oov_tok = '<OOV>'"
      ],
      "execution_count": 0,
      "outputs": []
    },
    {
      "cell_type": "code",
      "metadata": {
        "id": "TLOTbf7K1HhJ",
        "colab_type": "code",
        "outputId": "20507832-41ab-493e-f153-549d6d0276d7",
        "colab": {
          "base_uri": "https://localhost:8080/",
          "height": 34
        }
      },
      "source": [
        "tokenizer = Tokenizer(num_words = vocab_size, oov_token = '<OOV>')\n",
        "tokenizer.fit_on_texts(X_train)\n",
        "word_index = tokenizer.word_index\n",
        "len(word_index)"
      ],
      "execution_count": 20,
      "outputs": [
        {
          "output_type": "execute_result",
          "data": {
            "text/plain": [
              "83500"
            ]
          },
          "metadata": {
            "tags": []
          },
          "execution_count": 20
        }
      ]
    },
    {
      "cell_type": "code",
      "metadata": {
        "id": "oa7aD5ob1MRS",
        "colab_type": "code",
        "colab": {}
      },
      "source": [
        "training_labels = Y_train\n",
        "testing_labels = Y_test\n",
        "\n",
        "training_sequences = tokenizer.texts_to_sequences(X_train)\n",
        "training_padded = pad_sequences(training_sequences,maxlen = max_length, padding = padding_type, truncating= trunc_type)\n",
        "\n",
        "testing_sequences = tokenizer.texts_to_sequences(X_test)\n",
        "testing_padded = pad_sequences(testing_sequences,maxlen = max_length, padding = padding_type, truncating= trunc_type)"
      ],
      "execution_count": 0,
      "outputs": []
    },
    {
      "cell_type": "code",
      "metadata": {
        "id": "PnFaBZJm4BOF",
        "colab_type": "code",
        "outputId": "1e199ae7-fbdb-4927-f8d9-cab8acbf2675",
        "colab": {
          "base_uri": "https://localhost:8080/",
          "height": 319
        }
      },
      "source": [
        "MODEL10K = tf.keras.Sequential([\n",
        "                             tf.keras.layers.Embedding(vocab_size,embedding_dim, input_length = max_length),\n",
        "                             tf.keras.layers.SpatialDropout1D(0.05),\n",
        "                             tf.keras.layers.GlobalAveragePooling1D(),\n",
        "                             tf.keras.layers.Dense(8,activation='tanh'),\n",
        "                             tf.keras.layers.Dense(1,activation='sigmoid')\n",
        "])\n",
        "\n",
        "MODEL10K.compile(loss = 'binary_crossentropy',optimizer = 'adam', metrics = ['accuracy'])\n",
        "MODEL10K.summary()"
      ],
      "execution_count": 26,
      "outputs": [
        {
          "output_type": "stream",
          "text": [
            "Model: \"sequential_4\"\n",
            "_________________________________________________________________\n",
            "Layer (type)                 Output Shape              Param #   \n",
            "=================================================================\n",
            "embedding_4 (Embedding)      (None, 100, 8)            8000      \n",
            "_________________________________________________________________\n",
            "spatial_dropout1d_4 (Spatial (None, 100, 8)            0         \n",
            "_________________________________________________________________\n",
            "global_average_pooling1d_3 ( (None, 8)                 0         \n",
            "_________________________________________________________________\n",
            "dense_8 (Dense)              (None, 8)                 72        \n",
            "_________________________________________________________________\n",
            "dense_9 (Dense)              (None, 1)                 9         \n",
            "=================================================================\n",
            "Total params: 8,081\n",
            "Trainable params: 8,081\n",
            "Non-trainable params: 0\n",
            "_________________________________________________________________\n"
          ],
          "name": "stdout"
        }
      ]
    },
    {
      "cell_type": "code",
      "metadata": {
        "id": "QhSEcOhe4kyF",
        "colab_type": "code",
        "outputId": "3bd6f220-d308-4a7f-cabc-98aab8f2e52b",
        "colab": {
          "base_uri": "https://localhost:8080/",
          "height": 521
        }
      },
      "source": [
        "num_epochs = 15\n",
        "history = MODEL10K.fit(training_padded,\n",
        "          training_labels,\n",
        "          batch_size = 256,\n",
        "          epochs = num_epochs,\n",
        "          validation_data = (testing_padded, testing_labels),\n",
        "          verbose = 1)"
      ],
      "execution_count": 27,
      "outputs": [
        {
          "output_type": "stream",
          "text": [
            "Epoch 1/15\n",
            "137/137 [==============================] - 1s 6ms/step - loss: 0.6844 - accuracy: 0.6453 - val_loss: 0.6661 - val_accuracy: 0.7437\n",
            "Epoch 2/15\n",
            "137/137 [==============================] - 1s 6ms/step - loss: 0.6224 - accuracy: 0.7575 - val_loss: 0.5665 - val_accuracy: 0.7775\n",
            "Epoch 3/15\n",
            "137/137 [==============================] - 1s 6ms/step - loss: 0.5124 - accuracy: 0.7956 - val_loss: 0.4651 - val_accuracy: 0.8111\n",
            "Epoch 4/15\n",
            "137/137 [==============================] - 1s 6ms/step - loss: 0.4329 - accuracy: 0.8215 - val_loss: 0.4134 - val_accuracy: 0.8236\n",
            "Epoch 5/15\n",
            "137/137 [==============================] - 1s 6ms/step - loss: 0.3947 - accuracy: 0.8315 - val_loss: 0.3908 - val_accuracy: 0.8326\n",
            "Epoch 6/15\n",
            "137/137 [==============================] - 1s 6ms/step - loss: 0.3766 - accuracy: 0.8365 - val_loss: 0.3798 - val_accuracy: 0.8366\n",
            "Epoch 7/15\n",
            "137/137 [==============================] - 1s 6ms/step - loss: 0.3664 - accuracy: 0.8404 - val_loss: 0.3739 - val_accuracy: 0.8389\n",
            "Epoch 8/15\n",
            "137/137 [==============================] - 1s 6ms/step - loss: 0.3599 - accuracy: 0.8444 - val_loss: 0.3702 - val_accuracy: 0.8395\n",
            "Epoch 9/15\n",
            "137/137 [==============================] - 1s 6ms/step - loss: 0.3554 - accuracy: 0.8461 - val_loss: 0.3680 - val_accuracy: 0.8416\n",
            "Epoch 10/15\n",
            "137/137 [==============================] - 1s 6ms/step - loss: 0.3523 - accuracy: 0.8458 - val_loss: 0.3665 - val_accuracy: 0.8419\n",
            "Epoch 11/15\n",
            "137/137 [==============================] - 1s 6ms/step - loss: 0.3500 - accuracy: 0.8469 - val_loss: 0.3655 - val_accuracy: 0.8429\n",
            "Epoch 12/15\n",
            "137/137 [==============================] - 1s 6ms/step - loss: 0.3485 - accuracy: 0.8485 - val_loss: 0.3676 - val_accuracy: 0.8401\n",
            "Epoch 13/15\n",
            "137/137 [==============================] - 1s 6ms/step - loss: 0.3479 - accuracy: 0.8490 - val_loss: 0.3653 - val_accuracy: 0.8425\n",
            "Epoch 14/15\n",
            "137/137 [==============================] - 1s 6ms/step - loss: 0.3467 - accuracy: 0.8493 - val_loss: 0.3646 - val_accuracy: 0.8441\n",
            "Epoch 15/15\n",
            "137/137 [==============================] - 1s 6ms/step - loss: 0.3459 - accuracy: 0.8495 - val_loss: 0.3652 - val_accuracy: 0.8416\n"
          ],
          "name": "stdout"
        }
      ]
    },
    {
      "cell_type": "code",
      "metadata": {
        "id": "rCYDeyHm1xQ3",
        "colab_type": "code",
        "outputId": "fbeea280-60c5-4808-9c7c-9232e974dc53",
        "colab": {
          "base_uri": "https://localhost:8080/",
          "height": 541
        }
      },
      "source": [
        "plot_graphs(history, 'accuracy')\n",
        "plot_graphs(history, 'loss')"
      ],
      "execution_count": 0,
      "outputs": [
        {
          "output_type": "display_data",
          "data": {
            "image/png": "[encoded data removed]",
            "text/plain": [
              "<Figure size 432x288 with 1 Axes>"
            ]
          },
          "metadata": {
            "tags": [],
            "needs_background": "light"
          }
        },
        {
          "output_type": "display_data",
          "data": {
            "image/png": "[encoded data removed]",
            "text/plain": [
              "<Figure size 432x288 with 1 Axes>"
            ]
          },
          "metadata": {
            "tags": [],
            "needs_background": "light"
          }
        }
      ]
    },
    {
      "cell_type": "markdown",
      "metadata": {
        "id": "nfu9wQFSyrEO",
        "colab_type": "text"
      },
      "source": [
        "#### **MODEL10K ANALYSIS**\n",
        "For all three Models Default Intitialization was used. Andrew Ng's lectures say that an activation layer of zeros should be used for activation 0. For the Less than 10K Parameters Model I used a Vocabulary size of 1000 most frequent words and Max Length Sentence of 100 Words, I also used an Embedding Dimension of 8. My Truncation and Padding were both 'post' type.\n",
        "\n",
        "For the Model itself I used the Embedding layer and then a Spatial Dropout layer, which I researched on, that because simple Dropouts arent effective with RNNs and LSTMs, you should go for Weight dropping or using a Spatial Dropout Layer after the Embedding layer with a rate of 0.05 which went to the Global Max Pooling Layer which  Laurence Moroney taught in his lectures was better than Flatten which I then passed on to my Dense Layer with 8 Nuerons and an activation 'Hyperbolic Tangent (tanh)' which was recommended over 'relu' in Andrew Ng's lectures. Then I finally use a Dense layer with 1 Nueron and activation 'Sigmoid'. \n",
        "\n",
        "The Model had **8081** trainable parameters only.\n",
        "\n",
        "For my loss function I used 'Binary Cross Entropy' which works best with the sigmoid activation, I used the Adam optimizer as it said that SGD RMSprop and Adam are best used for LSTMs and RNNs in research papers. Then I ran this all with a Batch Size of 256 for 15 Epochs where my Val Accuracy rose up to 84% gradually in the start and remained steady at that Validation Accuracy"
      ]
    },
    {
      "cell_type": "code",
      "metadata": {
        "id": "BY4I7lR52NRn",
        "colab_type": "code",
        "colab": {}
      },
      "source": [
        "BASE_DIR = \"/content/drive/My Drive/Colab Notebooks/Deep Learning/Models/\"\n",
        "# LSTM.save_weights(BASE_DIR + 'LSTM_Model' + '.hdf5')\n",
        "# BDLSTM.save_weights(BASE_DIR + 'BDLSTM_Model' + '.hdf5')\n",
        "# MODEL10K.save_weights(BASE_DIR + '10K_Model' + '.hdf5')\n",
        "\n",
        "LSTM.load_weights(BASE_DIR + 'LSTM_Model' + '.hdf5')\n",
        "BDLSTM.load_weights(BASE_DIR + 'BDLSTM_Model' + '.hdf5')\n",
        "MODEL10K.load_weights(BASE_DIR + '10K_Model' + '.hdf5')"
      ],
      "execution_count": 0,
      "outputs": []
    },
    {
      "cell_type": "markdown",
      "metadata": {
        "colab_type": "text",
        "id": "AGwyrHW-zcUF"
      },
      "source": [
        "### Model Predictions. For your best performing model\n",
        "\n",
        "Come up with ten sample sentences NOT part of the original data set. \n",
        "Use model.predict() to generate predictions and report positive or negative sentiment."
      ]
    },
    {
      "cell_type": "code",
      "metadata": {
        "id": "aCF1heLJ6tGv",
        "colab_type": "code",
        "colab": {}
      },
      "source": [
        "reviews = [\n",
        "  \" Beastie Boys Story is a great film; often hilarious but doesn't shy away from the emotion either. It feels alive, unpredictable, and cathartic\", \n",
        "  \" To Kill a Mockingbird is an absolute classic and speaks a lot for what went down during its period it takes place. The performances are great and you learn some things from\",\n",
        "  \" The Midnight Gospel cuts into viewer psyche with what feels like immense precision. In nearly every scene, I found some visual I enjoyed, one sentence I related to, or a feeling I thought only I'd had - no matter how overwhelmed I became\",\n",
        "  \" While the combination of creative talent behind the scenes is a winner, this new series is likely only going to appeal to the Adult Swim crowd. Your mile(high)age may vary\",\n",
        "  \" It's lovely to see Indian characters front and centre and comfortable in their desi identity. It's even more wonderful when the writing is so warm...\",\n",
        "  \" A topnotch adaptation of a timeless literary classic. The courtroom scene was outstanding. It seemed that the content of the book was magically transformed into\",\n",
        "  \" By the time this 'Fantasy Island' arrives at its gallingly stupid final twist, you'll be dying to go home.\",\n",
        "  \" The plot is risible. The action worse. The wait for lady Bond continues. Everything that happens in the script is more ridiculous than the previous one.\",\n",
        "  \" As viewers of this dreck, we could teach the earth's crust a few things about being deeply bored.\",\n",
        "  \" A charmless idiot, a clumsy rip-off of Jackass and one more tiresome exercise in arrested adolescence -- add them up and you have Hot Rod.\"\n",
        "]"
      ],
      "execution_count": 0,
      "outputs": []
    },
    {
      "cell_type": "code",
      "metadata": {
        "id": "3IB3EbohndwM",
        "colab_type": "code",
        "colab": {}
      },
      "source": [
        "labels = [1,1,1,1,1,1,0,0,0,0]"
      ],
      "execution_count": 0,
      "outputs": []
    },
    {
      "cell_type": "code",
      "metadata": {
        "id": "icqJQLYAgyLk",
        "colab_type": "code",
        "colab": {}
      },
      "source": [
        "assert len(reviews) == len(labels)"
      ],
      "execution_count": 0,
      "outputs": []
    },
    {
      "cell_type": "code",
      "metadata": {
        "id": "SkLEV9CngfVO",
        "colab_type": "code",
        "colab": {
          "base_uri": "https://localhost:8080/",
          "height": 185
        },
        "outputId": "73dfb100-4003-4b94-cb6a-b552da94c036"
      },
      "source": [
        "# WRITE CODE HERE\n",
        "\n",
        "test_data = []\n",
        "for i in range(len(reviews)):\n",
        "  text = re.sub(r'\\b\\w{1,3}\\b', '', reviews[i])\n",
        "  words = (re.sub('[^A-Za-z\\s]+',' ', text)).lower().split()\n",
        "  sentence = \"\"\n",
        "  for w in words:\n",
        "    if w in stop_words:\n",
        "      continue\n",
        "    else:\n",
        "      sentence += w + ' '\n",
        "  test_data.append(sentence)\n",
        "test_data"
      ],
      "execution_count": 43,
      "outputs": [
        {
          "output_type": "execute_result",
          "data": {
            "text/plain": [
              "['beastie boys story great film often hilarious away emotion either feels alive unpredictable cathartic ',\n",
              " 'kill mockingbird absolute classic speaks went period takes place performances great learn things ',\n",
              " 'midnight gospel cuts viewer psyche feels like immense precision nearly every scene found visual enjoyed sentence related feeling thought matter overwhelmed became ',\n",
              " 'combination creative talent behind scenes winner series likely going appeal adult swim crowd mile high vary ',\n",
              " 'lovely indian characters front centre comfortable desi identity even wonderful writing warm ',\n",
              " 'topnotch adaptation timeless literary classic courtroom scene outstanding seemed content book magically transformed ',\n",
              " 'time fantasy island arrives gallingly stupid final twist dying home ',\n",
              " 'plot risible action worse wait lady bond continues everything happens script ridiculous previous ',\n",
              " 'viewers dreck could teach earth crust things deeply bored ',\n",
              " 'charmless idiot clumsy jackass tiresome exercise arrested adolescence ']"
            ]
          },
          "metadata": {
            "tags": []
          },
          "execution_count": 43
        }
      ]
    },
    {
      "cell_type": "code",
      "metadata": {
        "id": "-u4Hs7Qw4EqF",
        "colab_type": "code",
        "colab": {}
      },
      "source": [
        "max_length = 180\n",
        "test_seq = tokenizer.texts_to_sequences(test_data)\n",
        "padded = pad_sequences(test_seq ,maxlen = max_length, padding = padding_type, truncating= trunc_type)"
      ],
      "execution_count": 0,
      "outputs": []
    },
    {
      "cell_type": "code",
      "metadata": {
        "id": "EQUlPc2altlQ",
        "colab_type": "code",
        "colab": {
          "base_uri": "https://localhost:8080/",
          "height": 34
        },
        "outputId": "3a4a6884-9072-425b-8b27-0f25b9a05b2b"
      },
      "source": [
        "LSTM_Labels = np.where( LSTM.predict(padded) > 0.5, 1, 0).reshape(-1)\n",
        "LSTM_Labels"
      ],
      "execution_count": 60,
      "outputs": [
        {
          "output_type": "execute_result",
          "data": {
            "text/plain": [
              "array([1, 1, 1, 1, 1, 0, 0, 0, 0, 1])"
            ]
          },
          "metadata": {
            "tags": []
          },
          "execution_count": 60
        }
      ]
    },
    {
      "cell_type": "code",
      "metadata": {
        "id": "vXSuv2VYpSKZ",
        "colab_type": "code",
        "colab": {
          "base_uri": "https://localhost:8080/",
          "height": 34
        },
        "outputId": "d0cd15af-d10e-4365-cfb1-0901d1f04b79"
      },
      "source": [
        "BDLSTM_Labels = np.where( BDLSTM.predict(padded) > 0.4, 1, 0).reshape(-1)\n",
        "BDLSTM_Labels"
      ],
      "execution_count": 61,
      "outputs": [
        {
          "output_type": "execute_result",
          "data": {
            "text/plain": [
              "array([1, 1, 1, 1, 0, 0, 0, 0, 0, 0])"
            ]
          },
          "metadata": {
            "tags": []
          },
          "execution_count": 61
        }
      ]
    },
    {
      "cell_type": "code",
      "metadata": {
        "id": "SHakTeUeqR3I",
        "colab_type": "code",
        "colab": {}
      },
      "source": [
        "max_length = 100\n",
        "test_seq = tokenizer.texts_to_sequences(test_data)\n",
        "padded = pad_sequences(test_seq ,maxlen = max_length, padding = padding_type, truncating= trunc_type)"
      ],
      "execution_count": 0,
      "outputs": []
    },
    {
      "cell_type": "code",
      "metadata": {
        "id": "uZ1UeGi6qhcg",
        "colab_type": "code",
        "colab": {
          "base_uri": "https://localhost:8080/",
          "height": 34
        },
        "outputId": "cf6b2bc4-69e9-4d8d-85a8-3c3330d5ee01"
      },
      "source": [
        "MODEL10K_Labels = np.where( MODEL10K.predict(padded) > 0.4, 1, 0).reshape(-1)\n",
        "MODEL10K_Labels"
      ],
      "execution_count": 62,
      "outputs": [
        {
          "output_type": "execute_result",
          "data": {
            "text/plain": [
              "array([1, 1, 1, 1, 0, 0, 0, 0, 0, 0])"
            ]
          },
          "metadata": {
            "tags": []
          },
          "execution_count": 62
        }
      ]
    },
    {
      "cell_type": "code",
      "metadata": {
        "id": "caQQSMFJqzVU",
        "colab_type": "code",
        "colab": {}
      },
      "source": [
        "def confusionMatrix(Y_Pred, Y_Test):\n",
        "    Y_A = pd.Series(Y_Test, name='Actual')\n",
        "    Y_P = pd.Series(Y_Pred, name='Predicted')\n",
        "    df_confusion = pd.crosstab(Y_P, Y_A, margins=True)\n",
        "    display(df_confusion)\n",
        "    return df_confusion"
      ],
      "execution_count": 0,
      "outputs": []
    },
    {
      "cell_type": "markdown",
      "metadata": {
        "id": "ShY2PTM7rml8",
        "colab_type": "text"
      },
      "source": [
        "## LSTM"
      ]
    },
    {
      "cell_type": "code",
      "metadata": {
        "id": "yxrYEgJtrlCO",
        "colab_type": "code",
        "colab": {
          "base_uri": "https://localhost:8080/",
          "height": 166
        },
        "outputId": "d7ee0bac-5c3c-4c15-b3bd-e4d19837cf6f"
      },
      "source": [
        "x = confusionMatrix(LSTM_Labels, labels)"
      ],
      "execution_count": 66,
      "outputs": [
        {
          "output_type": "display_data",
          "data": {
            "text/html": [
              "<div>\n",
              "<style scoped>\n",
              "    .dataframe tbody tr th:only-of-type {\n",
              "        vertical-align: middle;\n",
              "    }\n",
              "\n",
              "    .dataframe tbody tr th {\n",
              "        vertical-align: top;\n",
              "    }\n",
              "\n",
              "    .dataframe thead th {\n",
              "        text-align: right;\n",
              "    }\n",
              "</style>\n",
              "<table border=\"1\" class=\"dataframe\">\n",
              "  <thead>\n",
              "    <tr style=\"text-align: right;\">\n",
              "      <th>Actual</th>\n",
              "      <th>0</th>\n",
              "      <th>1</th>\n",
              "      <th>All</th>\n",
              "    </tr>\n",
              "    <tr>\n",
              "      <th>Predicted</th>\n",
              "      <th></th>\n",
              "      <th></th>\n",
              "      <th></th>\n",
              "    </tr>\n",
              "  </thead>\n",
              "  <tbody>\n",
              "    <tr>\n",
              "      <th>0</th>\n",
              "      <td>3</td>\n",
              "      <td>1</td>\n",
              "      <td>4</td>\n",
              "    </tr>\n",
              "    <tr>\n",
              "      <th>1</th>\n",
              "      <td>1</td>\n",
              "      <td>5</td>\n",
              "      <td>6</td>\n",
              "    </tr>\n",
              "    <tr>\n",
              "      <th>All</th>\n",
              "      <td>4</td>\n",
              "      <td>6</td>\n",
              "      <td>10</td>\n",
              "    </tr>\n",
              "  </tbody>\n",
              "</table>\n",
              "</div>"
            ],
            "text/plain": [
              "Actual     0  1  All\n",
              "Predicted           \n",
              "0          3  1    4\n",
              "1          1  5    6\n",
              "All        4  6   10"
            ]
          },
          "metadata": {
            "tags": []
          }
        }
      ]
    },
    {
      "cell_type": "markdown",
      "metadata": {
        "id": "jLFmT6Iprom9",
        "colab_type": "text"
      },
      "source": [
        "### BIDIRECTIONAL LSTM"
      ]
    },
    {
      "cell_type": "code",
      "metadata": {
        "id": "dmWN-YU3rls2",
        "colab_type": "code",
        "colab": {
          "base_uri": "https://localhost:8080/",
          "height": 166
        },
        "outputId": "d58b3603-46ed-4cf4-d41a-edac4ff78ac2"
      },
      "source": [
        "x = confusionMatrix(BDLSTM_Labels, labels)"
      ],
      "execution_count": 68,
      "outputs": [
        {
          "output_type": "display_data",
          "data": {
            "text/html": [
              "<div>\n",
              "<style scoped>\n",
              "    .dataframe tbody tr th:only-of-type {\n",
              "        vertical-align: middle;\n",
              "    }\n",
              "\n",
              "    .dataframe tbody tr th {\n",
              "        vertical-align: top;\n",
              "    }\n",
              "\n",
              "    .dataframe thead th {\n",
              "        text-align: right;\n",
              "    }\n",
              "</style>\n",
              "<table border=\"1\" class=\"dataframe\">\n",
              "  <thead>\n",
              "    <tr style=\"text-align: right;\">\n",
              "      <th>Actual</th>\n",
              "      <th>0</th>\n",
              "      <th>1</th>\n",
              "      <th>All</th>\n",
              "    </tr>\n",
              "    <tr>\n",
              "      <th>Predicted</th>\n",
              "      <th></th>\n",
              "      <th></th>\n",
              "      <th></th>\n",
              "    </tr>\n",
              "  </thead>\n",
              "  <tbody>\n",
              "    <tr>\n",
              "      <th>0</th>\n",
              "      <td>4</td>\n",
              "      <td>2</td>\n",
              "      <td>6</td>\n",
              "    </tr>\n",
              "    <tr>\n",
              "      <th>1</th>\n",
              "      <td>0</td>\n",
              "      <td>4</td>\n",
              "      <td>4</td>\n",
              "    </tr>\n",
              "    <tr>\n",
              "      <th>All</th>\n",
              "      <td>4</td>\n",
              "      <td>6</td>\n",
              "      <td>10</td>\n",
              "    </tr>\n",
              "  </tbody>\n",
              "</table>\n",
              "</div>"
            ],
            "text/plain": [
              "Actual     0  1  All\n",
              "Predicted           \n",
              "0          4  2    6\n",
              "1          0  4    4\n",
              "All        4  6   10"
            ]
          },
          "metadata": {
            "tags": []
          }
        }
      ]
    },
    {
      "cell_type": "markdown",
      "metadata": {
        "id": "wbxw1dwKrrao",
        "colab_type": "text"
      },
      "source": [
        "### MODEL 10K PARAMETERS"
      ]
    },
    {
      "cell_type": "code",
      "metadata": {
        "id": "1xB9y2bFrlgI",
        "colab_type": "code",
        "colab": {
          "base_uri": "https://localhost:8080/",
          "height": 166
        },
        "outputId": "dd6e9438-499f-43f4-f09b-83783a31095a"
      },
      "source": [
        "x = confusionMatrix(MODEL10K_Labels, labels)"
      ],
      "execution_count": 69,
      "outputs": [
        {
          "output_type": "display_data",
          "data": {
            "text/html": [
              "<div>\n",
              "<style scoped>\n",
              "    .dataframe tbody tr th:only-of-type {\n",
              "        vertical-align: middle;\n",
              "    }\n",
              "\n",
              "    .dataframe tbody tr th {\n",
              "        vertical-align: top;\n",
              "    }\n",
              "\n",
              "    .dataframe thead th {\n",
              "        text-align: right;\n",
              "    }\n",
              "</style>\n",
              "<table border=\"1\" class=\"dataframe\">\n",
              "  <thead>\n",
              "    <tr style=\"text-align: right;\">\n",
              "      <th>Actual</th>\n",
              "      <th>0</th>\n",
              "      <th>1</th>\n",
              "      <th>All</th>\n",
              "    </tr>\n",
              "    <tr>\n",
              "      <th>Predicted</th>\n",
              "      <th></th>\n",
              "      <th></th>\n",
              "      <th></th>\n",
              "    </tr>\n",
              "  </thead>\n",
              "  <tbody>\n",
              "    <tr>\n",
              "      <th>0</th>\n",
              "      <td>4</td>\n",
              "      <td>2</td>\n",
              "      <td>6</td>\n",
              "    </tr>\n",
              "    <tr>\n",
              "      <th>1</th>\n",
              "      <td>0</td>\n",
              "      <td>4</td>\n",
              "      <td>4</td>\n",
              "    </tr>\n",
              "    <tr>\n",
              "      <th>All</th>\n",
              "      <td>4</td>\n",
              "      <td>6</td>\n",
              "      <td>10</td>\n",
              "    </tr>\n",
              "  </tbody>\n",
              "</table>\n",
              "</div>"
            ],
            "text/plain": [
              "Actual     0  1  All\n",
              "Predicted           \n",
              "0          4  2    6\n",
              "1          0  4    4\n",
              "All        4  6   10"
            ]
          },
          "metadata": {
            "tags": []
          }
        }
      ]
    },
    {
      "cell_type": "markdown",
      "metadata": {
        "id": "x_nlxVQmzvGn",
        "colab_type": "text"
      },
      "source": [
        "### Prediction Analysis\n",
        "I used real movie reviews posted on Rotten TOmatoes for my prediction Analysis, where I used 10 relatively small reviews which may have brought some bias, but the results arent all bad as can be seen in the Confusion Matrices above where 1s indicate Positive Sentiment and 0s indicate negative"
      ]
    }
  ]
}