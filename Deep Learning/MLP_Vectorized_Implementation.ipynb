{
  "nbformat": 4,
  "nbformat_minor": 0,
  "metadata": {
    "kernelspec": {
      "display_name": "Python 3",
      "language": "python",
      "name": "python3"
    },
    "language_info": {
      "codemirror_mode": {
        "name": "ipython",
        "version": 3
      },
      "file_extension": ".py",
      "mimetype": "text/x-python",
      "name": "python",
      "nbconvert_exporter": "python",
      "pygments_lexer": "ipython3",
      "version": "3.7.1"
    },
    "notify_time": "5",
    "toc": {
      "base_numbering": 1,
      "nav_menu": {},
      "number_sections": true,
      "sideBar": true,
      "skip_h1_title": false,
      "title_cell": "Table of Contents",
      "title_sidebar": "Contents",
      "toc_cell": false,
      "toc_position": {},
      "toc_section_display": true,
      "toc_window_display": false
    },
    "colab": {
      "name": "PA1_20100120.ipynb",
      "provenance": [],
      "collapsed_sections": []
    },
    "widgets": {
      "application/vnd.jupyter.widget-state+json": {
        "f55984e4adaa416aab58f588c4868a99": {
          "model_module": "@jupyter-widgets/controls",
          "model_name": "HBoxModel",
          "state": {
            "_view_name": "HBoxView",
            "_dom_classes": [],
            "_model_name": "HBoxModel",
            "_view_module": "@jupyter-widgets/controls",
            "_model_module_version": "1.5.0",
            "_view_count": null,
            "_view_module_version": "1.5.0",
            "box_style": "",
            "layout": "IPY_MODEL_fd7877f4474645a89ae6e9bd314e4685",
            "_model_module": "@jupyter-widgets/controls",
            "children": [
              "IPY_MODEL_fbbb2fa1cb224675bc4221f39706b207",
              "IPY_MODEL_65cdfb3315ca49a487c64dcb71c48bfe"
            ]
          }
        },
        "fd7877f4474645a89ae6e9bd314e4685": {
          "model_module": "@jupyter-widgets/base",
          "model_name": "LayoutModel",
          "state": {
            "_view_name": "LayoutView",
            "grid_template_rows": null,
            "right": null,
            "justify_content": null,
            "_view_module": "@jupyter-widgets/base",
            "overflow": null,
            "_model_module_version": "1.2.0",
            "_view_count": null,
            "flex_flow": null,
            "width": null,
            "min_width": null,
            "border": null,
            "align_items": null,
            "bottom": null,
            "_model_module": "@jupyter-widgets/base",
            "top": null,
            "grid_column": null,
            "overflow_y": null,
            "overflow_x": null,
            "grid_auto_flow": null,
            "grid_area": null,
            "grid_template_columns": null,
            "flex": null,
            "_model_name": "LayoutModel",
            "justify_items": null,
            "grid_row": null,
            "max_height": null,
            "align_content": null,
            "visibility": null,
            "align_self": null,
            "height": null,
            "min_height": null,
            "padding": null,
            "grid_auto_rows": null,
            "grid_gap": null,
            "max_width": null,
            "order": null,
            "_view_module_version": "1.2.0",
            "grid_template_areas": null,
            "object_position": null,
            "object_fit": null,
            "grid_auto_columns": null,
            "margin": null,
            "display": null,
            "left": null
          }
        },
        "fbbb2fa1cb224675bc4221f39706b207": {
          "model_module": "@jupyter-widgets/controls",
          "model_name": "IntProgressModel",
          "state": {
            "_view_name": "ProgressView",
            "style": "IPY_MODEL_5bc091c0bd0c414eb003cbe299c16fcb",
            "_dom_classes": [],
            "description": "",
            "_model_name": "IntProgressModel",
            "bar_style": "success",
            "max": 2000,
            "_view_module": "@jupyter-widgets/controls",
            "_model_module_version": "1.5.0",
            "value": 2000,
            "_view_count": null,
            "_view_module_version": "1.5.0",
            "orientation": "horizontal",
            "min": 0,
            "description_tooltip": null,
            "_model_module": "@jupyter-widgets/controls",
            "layout": "IPY_MODEL_169d1ebc7d764e00a4ed72dbf20da044"
          }
        },
        "65cdfb3315ca49a487c64dcb71c48bfe": {
          "model_module": "@jupyter-widgets/controls",
          "model_name": "HTMLModel",
          "state": {
            "_view_name": "HTMLView",
            "style": "IPY_MODEL_94b07df8a3794ae993eba963a1107808",
            "_dom_classes": [],
            "description": "",
            "_model_name": "HTMLModel",
            "placeholder": "​",
            "_view_module": "@jupyter-widgets/controls",
            "_model_module_version": "1.5.0",
            "value": "100% 2000/2000 [00:41&lt;00:00, 48.46it/s]",
            "_view_count": null,
            "_view_module_version": "1.5.0",
            "description_tooltip": null,
            "_model_module": "@jupyter-widgets/controls",
            "layout": "IPY_MODEL_e90fd073edab43a0b1f8c21eef5cea38"
          }
        },
        "5bc091c0bd0c414eb003cbe299c16fcb": {
          "model_module": "@jupyter-widgets/controls",
          "model_name": "ProgressStyleModel",
          "state": {
            "_view_name": "StyleView",
            "_model_name": "ProgressStyleModel",
            "description_width": "",
            "_view_module": "@jupyter-widgets/base",
            "_model_module_version": "1.5.0",
            "_view_count": null,
            "_view_module_version": "1.2.0",
            "bar_color": null,
            "_model_module": "@jupyter-widgets/controls"
          }
        },
        "169d1ebc7d764e00a4ed72dbf20da044": {
          "model_module": "@jupyter-widgets/base",
          "model_name": "LayoutModel",
          "state": {
            "_view_name": "LayoutView",
            "grid_template_rows": null,
            "right": null,
            "justify_content": null,
            "_view_module": "@jupyter-widgets/base",
            "overflow": null,
            "_model_module_version": "1.2.0",
            "_view_count": null,
            "flex_flow": null,
            "width": null,
            "min_width": null,
            "border": null,
            "align_items": null,
            "bottom": null,
            "_model_module": "@jupyter-widgets/base",
            "top": null,
            "grid_column": null,
            "overflow_y": null,
            "overflow_x": null,
            "grid_auto_flow": null,
            "grid_area": null,
            "grid_template_columns": null,
            "flex": null,
            "_model_name": "LayoutModel",
            "justify_items": null,
            "grid_row": null,
            "max_height": null,
            "align_content": null,
            "visibility": null,
            "align_self": null,
            "height": null,
            "min_height": null,
            "padding": null,
            "grid_auto_rows": null,
            "grid_gap": null,
            "max_width": null,
            "order": null,
            "_view_module_version": "1.2.0",
            "grid_template_areas": null,
            "object_position": null,
            "object_fit": null,
            "grid_auto_columns": null,
            "margin": null,
            "display": null,
            "left": null
          }
        },
        "94b07df8a3794ae993eba963a1107808": {
          "model_module": "@jupyter-widgets/controls",
          "model_name": "DescriptionStyleModel",
          "state": {
            "_view_name": "StyleView",
            "_model_name": "DescriptionStyleModel",
            "description_width": "",
            "_view_module": "@jupyter-widgets/base",
            "_model_module_version": "1.5.0",
            "_view_count": null,
            "_view_module_version": "1.2.0",
            "_model_module": "@jupyter-widgets/controls"
          }
        },
        "e90fd073edab43a0b1f8c21eef5cea38": {
          "model_module": "@jupyter-widgets/base",
          "model_name": "LayoutModel",
          "state": {
            "_view_name": "LayoutView",
            "grid_template_rows": null,
            "right": null,
            "justify_content": null,
            "_view_module": "@jupyter-widgets/base",
            "overflow": null,
            "_model_module_version": "1.2.0",
            "_view_count": null,
            "flex_flow": null,
            "width": null,
            "min_width": null,
            "border": null,
            "align_items": null,
            "bottom": null,
            "_model_module": "@jupyter-widgets/base",
            "top": null,
            "grid_column": null,
            "overflow_y": null,
            "overflow_x": null,
            "grid_auto_flow": null,
            "grid_area": null,
            "grid_template_columns": null,
            "flex": null,
            "_model_name": "LayoutModel",
            "justify_items": null,
            "grid_row": null,
            "max_height": null,
            "align_content": null,
            "visibility": null,
            "align_self": null,
            "height": null,
            "min_height": null,
            "padding": null,
            "grid_auto_rows": null,
            "grid_gap": null,
            "max_width": null,
            "order": null,
            "_view_module_version": "1.2.0",
            "grid_template_areas": null,
            "object_position": null,
            "object_fit": null,
            "grid_auto_columns": null,
            "margin": null,
            "display": null,
            "left": null
          }
        },
        "9baf8539d6b444948277a34a08e93a0b": {
          "model_module": "@jupyter-widgets/controls",
          "model_name": "HBoxModel",
          "state": {
            "_view_name": "HBoxView",
            "_dom_classes": [],
            "_model_name": "HBoxModel",
            "_view_module": "@jupyter-widgets/controls",
            "_model_module_version": "1.5.0",
            "_view_count": null,
            "_view_module_version": "1.5.0",
            "box_style": "",
            "layout": "IPY_MODEL_9a530a7be1cd4b2cb0d6567253ae29d3",
            "_model_module": "@jupyter-widgets/controls",
            "children": [
              "IPY_MODEL_023234bc3d8044258ae2f4ee62310e8e",
              "IPY_MODEL_c4efc65d68b843dabf03752505dd31c0"
            ]
          }
        },
        "9a530a7be1cd4b2cb0d6567253ae29d3": {
          "model_module": "@jupyter-widgets/base",
          "model_name": "LayoutModel",
          "state": {
            "_view_name": "LayoutView",
            "grid_template_rows": null,
            "right": null,
            "justify_content": null,
            "_view_module": "@jupyter-widgets/base",
            "overflow": null,
            "_model_module_version": "1.2.0",
            "_view_count": null,
            "flex_flow": null,
            "width": null,
            "min_width": null,
            "border": null,
            "align_items": null,
            "bottom": null,
            "_model_module": "@jupyter-widgets/base",
            "top": null,
            "grid_column": null,
            "overflow_y": null,
            "overflow_x": null,
            "grid_auto_flow": null,
            "grid_area": null,
            "grid_template_columns": null,
            "flex": null,
            "_model_name": "LayoutModel",
            "justify_items": null,
            "grid_row": null,
            "max_height": null,
            "align_content": null,
            "visibility": null,
            "align_self": null,
            "height": null,
            "min_height": null,
            "padding": null,
            "grid_auto_rows": null,
            "grid_gap": null,
            "max_width": null,
            "order": null,
            "_view_module_version": "1.2.0",
            "grid_template_areas": null,
            "object_position": null,
            "object_fit": null,
            "grid_auto_columns": null,
            "margin": null,
            "display": null,
            "left": null
          }
        },
        "023234bc3d8044258ae2f4ee62310e8e": {
          "model_module": "@jupyter-widgets/controls",
          "model_name": "IntProgressModel",
          "state": {
            "_view_name": "ProgressView",
            "style": "IPY_MODEL_b8b545c388424bfeb0007e5c28b7d24a",
            "_dom_classes": [],
            "description": "",
            "_model_name": "IntProgressModel",
            "bar_style": "success",
            "max": 3000,
            "_view_module": "@jupyter-widgets/controls",
            "_model_module_version": "1.5.0",
            "value": 3000,
            "_view_count": null,
            "_view_module_version": "1.5.0",
            "orientation": "horizontal",
            "min": 0,
            "description_tooltip": null,
            "_model_module": "@jupyter-widgets/controls",
            "layout": "IPY_MODEL_d6b0b44620294727851bf4157c79b4fb"
          }
        },
        "c4efc65d68b843dabf03752505dd31c0": {
          "model_module": "@jupyter-widgets/controls",
          "model_name": "HTMLModel",
          "state": {
            "_view_name": "HTMLView",
            "style": "IPY_MODEL_dca83f467a63453e96428c18bb2600d3",
            "_dom_classes": [],
            "description": "",
            "_model_name": "HTMLModel",
            "placeholder": "​",
            "_view_module": "@jupyter-widgets/controls",
            "_model_module_version": "1.5.0",
            "value": "100% 3000/3000 [00:01&lt;00:00, 2091.92it/s]",
            "_view_count": null,
            "_view_module_version": "1.5.0",
            "description_tooltip": null,
            "_model_module": "@jupyter-widgets/controls",
            "layout": "IPY_MODEL_283058afee234a45b561f104e1ac07a2"
          }
        },
        "b8b545c388424bfeb0007e5c28b7d24a": {
          "model_module": "@jupyter-widgets/controls",
          "model_name": "ProgressStyleModel",
          "state": {
            "_view_name": "StyleView",
            "_model_name": "ProgressStyleModel",
            "description_width": "",
            "_view_module": "@jupyter-widgets/base",
            "_model_module_version": "1.5.0",
            "_view_count": null,
            "_view_module_version": "1.2.0",
            "bar_color": null,
            "_model_module": "@jupyter-widgets/controls"
          }
        },
        "d6b0b44620294727851bf4157c79b4fb": {
          "model_module": "@jupyter-widgets/base",
          "model_name": "LayoutModel",
          "state": {
            "_view_name": "LayoutView",
            "grid_template_rows": null,
            "right": null,
            "justify_content": null,
            "_view_module": "@jupyter-widgets/base",
            "overflow": null,
            "_model_module_version": "1.2.0",
            "_view_count": null,
            "flex_flow": null,
            "width": null,
            "min_width": null,
            "border": null,
            "align_items": null,
            "bottom": null,
            "_model_module": "@jupyter-widgets/base",
            "top": null,
            "grid_column": null,
            "overflow_y": null,
            "overflow_x": null,
            "grid_auto_flow": null,
            "grid_area": null,
            "grid_template_columns": null,
            "flex": null,
            "_model_name": "LayoutModel",
            "justify_items": null,
            "grid_row": null,
            "max_height": null,
            "align_content": null,
            "visibility": null,
            "align_self": null,
            "height": null,
            "min_height": null,
            "padding": null,
            "grid_auto_rows": null,
            "grid_gap": null,
            "max_width": null,
            "order": null,
            "_view_module_version": "1.2.0",
            "grid_template_areas": null,
            "object_position": null,
            "object_fit": null,
            "grid_auto_columns": null,
            "margin": null,
            "display": null,
            "left": null
          }
        },
        "dca83f467a63453e96428c18bb2600d3": {
          "model_module": "@jupyter-widgets/controls",
          "model_name": "DescriptionStyleModel",
          "state": {
            "_view_name": "StyleView",
            "_model_name": "DescriptionStyleModel",
            "description_width": "",
            "_view_module": "@jupyter-widgets/base",
            "_model_module_version": "1.5.0",
            "_view_count": null,
            "_view_module_version": "1.2.0",
            "_model_module": "@jupyter-widgets/controls"
          }
        },
        "283058afee234a45b561f104e1ac07a2": {
          "model_module": "@jupyter-widgets/base",
          "model_name": "LayoutModel",
          "state": {
            "_view_name": "LayoutView",
            "grid_template_rows": null,
            "right": null,
            "justify_content": null,
            "_view_module": "@jupyter-widgets/base",
            "overflow": null,
            "_model_module_version": "1.2.0",
            "_view_count": null,
            "flex_flow": null,
            "width": null,
            "min_width": null,
            "border": null,
            "align_items": null,
            "bottom": null,
            "_model_module": "@jupyter-widgets/base",
            "top": null,
            "grid_column": null,
            "overflow_y": null,
            "overflow_x": null,
            "grid_auto_flow": null,
            "grid_area": null,
            "grid_template_columns": null,
            "flex": null,
            "_model_name": "LayoutModel",
            "justify_items": null,
            "grid_row": null,
            "max_height": null,
            "align_content": null,
            "visibility": null,
            "align_self": null,
            "height": null,
            "min_height": null,
            "padding": null,
            "grid_auto_rows": null,
            "grid_gap": null,
            "max_width": null,
            "order": null,
            "_view_module_version": "1.2.0",
            "grid_template_areas": null,
            "object_position": null,
            "object_fit": null,
            "grid_auto_columns": null,
            "margin": null,
            "display": null,
            "left": null
          }
        },
        "4bd07e51ce0343cebfec5ccecfdad815": {
          "model_module": "@jupyter-widgets/controls",
          "model_name": "HBoxModel",
          "state": {
            "_view_name": "HBoxView",
            "_dom_classes": [],
            "_model_name": "HBoxModel",
            "_view_module": "@jupyter-widgets/controls",
            "_model_module_version": "1.5.0",
            "_view_count": null,
            "_view_module_version": "1.5.0",
            "box_style": "",
            "layout": "IPY_MODEL_f849b586963e4afb88b5a145b7f63d9f",
            "_model_module": "@jupyter-widgets/controls",
            "children": [
              "IPY_MODEL_c4ae9d19eb124944b0a5a9a2c3ead439",
              "IPY_MODEL_ba44de319e7a4dd9a38aca64058238fe"
            ]
          }
        },
        "f849b586963e4afb88b5a145b7f63d9f": {
          "model_module": "@jupyter-widgets/base",
          "model_name": "LayoutModel",
          "state": {
            "_view_name": "LayoutView",
            "grid_template_rows": null,
            "right": null,
            "justify_content": null,
            "_view_module": "@jupyter-widgets/base",
            "overflow": null,
            "_model_module_version": "1.2.0",
            "_view_count": null,
            "flex_flow": null,
            "width": null,
            "min_width": null,
            "border": null,
            "align_items": null,
            "bottom": null,
            "_model_module": "@jupyter-widgets/base",
            "top": null,
            "grid_column": null,
            "overflow_y": null,
            "overflow_x": null,
            "grid_auto_flow": null,
            "grid_area": null,
            "grid_template_columns": null,
            "flex": null,
            "_model_name": "LayoutModel",
            "justify_items": null,
            "grid_row": null,
            "max_height": null,
            "align_content": null,
            "visibility": null,
            "align_self": null,
            "height": null,
            "min_height": null,
            "padding": null,
            "grid_auto_rows": null,
            "grid_gap": null,
            "max_width": null,
            "order": null,
            "_view_module_version": "1.2.0",
            "grid_template_areas": null,
            "object_position": null,
            "object_fit": null,
            "grid_auto_columns": null,
            "margin": null,
            "display": null,
            "left": null
          }
        },
        "c4ae9d19eb124944b0a5a9a2c3ead439": {
          "model_module": "@jupyter-widgets/controls",
          "model_name": "IntProgressModel",
          "state": {
            "_view_name": "ProgressView",
            "style": "IPY_MODEL_a906e0b322554dd482104fad363552c5",
            "_dom_classes": [],
            "description": "",
            "_model_name": "IntProgressModel",
            "bar_style": "success",
            "max": 20000,
            "_view_module": "@jupyter-widgets/controls",
            "_model_module_version": "1.5.0",
            "value": 20000,
            "_view_count": null,
            "_view_module_version": "1.5.0",
            "orientation": "horizontal",
            "min": 0,
            "description_tooltip": null,
            "_model_module": "@jupyter-widgets/controls",
            "layout": "IPY_MODEL_14f6d2d31e01460e91e1c6aaf31d839b"
          }
        },
        "ba44de319e7a4dd9a38aca64058238fe": {
          "model_module": "@jupyter-widgets/controls",
          "model_name": "HTMLModel",
          "state": {
            "_view_name": "HTMLView",
            "style": "IPY_MODEL_37958f6cba2641c89face4ed6c066222",
            "_dom_classes": [],
            "description": "",
            "_model_name": "HTMLModel",
            "placeholder": "​",
            "_view_module": "@jupyter-widgets/controls",
            "_model_module_version": "1.5.0",
            "value": "100% 20000/20000 [13:08&lt;00:00, 25.35it/s]",
            "_view_count": null,
            "_view_module_version": "1.5.0",
            "description_tooltip": null,
            "_model_module": "@jupyter-widgets/controls",
            "layout": "IPY_MODEL_3bc7d7ba37f949938891ccae951197d4"
          }
        },
        "a906e0b322554dd482104fad363552c5": {
          "model_module": "@jupyter-widgets/controls",
          "model_name": "ProgressStyleModel",
          "state": {
            "_view_name": "StyleView",
            "_model_name": "ProgressStyleModel",
            "description_width": "",
            "_view_module": "@jupyter-widgets/base",
            "_model_module_version": "1.5.0",
            "_view_count": null,
            "_view_module_version": "1.2.0",
            "bar_color": null,
            "_model_module": "@jupyter-widgets/controls"
          }
        },
        "14f6d2d31e01460e91e1c6aaf31d839b": {
          "model_module": "@jupyter-widgets/base",
          "model_name": "LayoutModel",
          "state": {
            "_view_name": "LayoutView",
            "grid_template_rows": null,
            "right": null,
            "justify_content": null,
            "_view_module": "@jupyter-widgets/base",
            "overflow": null,
            "_model_module_version": "1.2.0",
            "_view_count": null,
            "flex_flow": null,
            "width": null,
            "min_width": null,
            "border": null,
            "align_items": null,
            "bottom": null,
            "_model_module": "@jupyter-widgets/base",
            "top": null,
            "grid_column": null,
            "overflow_y": null,
            "overflow_x": null,
            "grid_auto_flow": null,
            "grid_area": null,
            "grid_template_columns": null,
            "flex": null,
            "_model_name": "LayoutModel",
            "justify_items": null,
            "grid_row": null,
            "max_height": null,
            "align_content": null,
            "visibility": null,
            "align_self": null,
            "height": null,
            "min_height": null,
            "padding": null,
            "grid_auto_rows": null,
            "grid_gap": null,
            "max_width": null,
            "order": null,
            "_view_module_version": "1.2.0",
            "grid_template_areas": null,
            "object_position": null,
            "object_fit": null,
            "grid_auto_columns": null,
            "margin": null,
            "display": null,
            "left": null
          }
        },
        "37958f6cba2641c89face4ed6c066222": {
          "model_module": "@jupyter-widgets/controls",
          "model_name": "DescriptionStyleModel",
          "state": {
            "_view_name": "StyleView",
            "_model_name": "DescriptionStyleModel",
            "description_width": "",
            "_view_module": "@jupyter-widgets/base",
            "_model_module_version": "1.5.0",
            "_view_count": null,
            "_view_module_version": "1.2.0",
            "_model_module": "@jupyter-widgets/controls"
          }
        },
        "3bc7d7ba37f949938891ccae951197d4": {
          "model_module": "@jupyter-widgets/base",
          "model_name": "LayoutModel",
          "state": {
            "_view_name": "LayoutView",
            "grid_template_rows": null,
            "right": null,
            "justify_content": null,
            "_view_module": "@jupyter-widgets/base",
            "overflow": null,
            "_model_module_version": "1.2.0",
            "_view_count": null,
            "flex_flow": null,
            "width": null,
            "min_width": null,
            "border": null,
            "align_items": null,
            "bottom": null,
            "_model_module": "@jupyter-widgets/base",
            "top": null,
            "grid_column": null,
            "overflow_y": null,
            "overflow_x": null,
            "grid_auto_flow": null,
            "grid_area": null,
            "grid_template_columns": null,
            "flex": null,
            "_model_name": "LayoutModel",
            "justify_items": null,
            "grid_row": null,
            "max_height": null,
            "align_content": null,
            "visibility": null,
            "align_self": null,
            "height": null,
            "min_height": null,
            "padding": null,
            "grid_auto_rows": null,
            "grid_gap": null,
            "max_width": null,
            "order": null,
            "_view_module_version": "1.2.0",
            "grid_template_areas": null,
            "object_position": null,
            "object_fit": null,
            "grid_auto_columns": null,
            "margin": null,
            "display": null,
            "left": null
          }
        },
        "92aca2a2911f4fd68be0fe25b682b765": {
          "model_module": "@jupyter-widgets/controls",
          "model_name": "HBoxModel",
          "state": {
            "_view_name": "HBoxView",
            "_dom_classes": [],
            "_model_name": "HBoxModel",
            "_view_module": "@jupyter-widgets/controls",
            "_model_module_version": "1.5.0",
            "_view_count": null,
            "_view_module_version": "1.5.0",
            "box_style": "",
            "layout": "IPY_MODEL_236f030f4dbb433e8bd729e802670ef4",
            "_model_module": "@jupyter-widgets/controls",
            "children": [
              "IPY_MODEL_edc9ef144d4e4f589ed17733b7d3d9f0",
              "IPY_MODEL_ac35de990f01462fb962bca0c6780c08"
            ]
          }
        },
        "236f030f4dbb433e8bd729e802670ef4": {
          "model_module": "@jupyter-widgets/base",
          "model_name": "LayoutModel",
          "state": {
            "_view_name": "LayoutView",
            "grid_template_rows": null,
            "right": null,
            "justify_content": null,
            "_view_module": "@jupyter-widgets/base",
            "overflow": null,
            "_model_module_version": "1.2.0",
            "_view_count": null,
            "flex_flow": null,
            "width": null,
            "min_width": null,
            "border": null,
            "align_items": null,
            "bottom": null,
            "_model_module": "@jupyter-widgets/base",
            "top": null,
            "grid_column": null,
            "overflow_y": null,
            "overflow_x": null,
            "grid_auto_flow": null,
            "grid_area": null,
            "grid_template_columns": null,
            "flex": null,
            "_model_name": "LayoutModel",
            "justify_items": null,
            "grid_row": null,
            "max_height": null,
            "align_content": null,
            "visibility": null,
            "align_self": null,
            "height": null,
            "min_height": null,
            "padding": null,
            "grid_auto_rows": null,
            "grid_gap": null,
            "max_width": null,
            "order": null,
            "_view_module_version": "1.2.0",
            "grid_template_areas": null,
            "object_position": null,
            "object_fit": null,
            "grid_auto_columns": null,
            "margin": null,
            "display": null,
            "left": null
          }
        },
        "edc9ef144d4e4f589ed17733b7d3d9f0": {
          "model_module": "@jupyter-widgets/controls",
          "model_name": "IntProgressModel",
          "state": {
            "_view_name": "ProgressView",
            "style": "IPY_MODEL_348ed94413e349ddaaf51c208c841350",
            "_dom_classes": [],
            "description": "",
            "_model_name": "IntProgressModel",
            "bar_style": "success",
            "max": 5000,
            "_view_module": "@jupyter-widgets/controls",
            "_model_module_version": "1.5.0",
            "value": 5000,
            "_view_count": null,
            "_view_module_version": "1.5.0",
            "orientation": "horizontal",
            "min": 0,
            "description_tooltip": null,
            "_model_module": "@jupyter-widgets/controls",
            "layout": "IPY_MODEL_68ce36808efd4ee783aff11176eb4d93"
          }
        },
        "ac35de990f01462fb962bca0c6780c08": {
          "model_module": "@jupyter-widgets/controls",
          "model_name": "HTMLModel",
          "state": {
            "_view_name": "HTMLView",
            "style": "IPY_MODEL_bb4e80ae1a6e456c8480092f47c93d5d",
            "_dom_classes": [],
            "description": "",
            "_model_name": "HTMLModel",
            "placeholder": "​",
            "_view_module": "@jupyter-widgets/controls",
            "_model_module_version": "1.5.0",
            "value": "100% 5000/5000 [02:42&lt;00:00, 31.44it/s]",
            "_view_count": null,
            "_view_module_version": "1.5.0",
            "description_tooltip": null,
            "_model_module": "@jupyter-widgets/controls",
            "layout": "IPY_MODEL_66543b907d5b4ac4b422e05e951e877a"
          }
        },
        "348ed94413e349ddaaf51c208c841350": {
          "model_module": "@jupyter-widgets/controls",
          "model_name": "ProgressStyleModel",
          "state": {
            "_view_name": "StyleView",
            "_model_name": "ProgressStyleModel",
            "description_width": "",
            "_view_module": "@jupyter-widgets/base",
            "_model_module_version": "1.5.0",
            "_view_count": null,
            "_view_module_version": "1.2.0",
            "bar_color": null,
            "_model_module": "@jupyter-widgets/controls"
          }
        },
        "68ce36808efd4ee783aff11176eb4d93": {
          "model_module": "@jupyter-widgets/base",
          "model_name": "LayoutModel",
          "state": {
            "_view_name": "LayoutView",
            "grid_template_rows": null,
            "right": null,
            "justify_content": null,
            "_view_module": "@jupyter-widgets/base",
            "overflow": null,
            "_model_module_version": "1.2.0",
            "_view_count": null,
            "flex_flow": null,
            "width": null,
            "min_width": null,
            "border": null,
            "align_items": null,
            "bottom": null,
            "_model_module": "@jupyter-widgets/base",
            "top": null,
            "grid_column": null,
            "overflow_y": null,
            "overflow_x": null,
            "grid_auto_flow": null,
            "grid_area": null,
            "grid_template_columns": null,
            "flex": null,
            "_model_name": "LayoutModel",
            "justify_items": null,
            "grid_row": null,
            "max_height": null,
            "align_content": null,
            "visibility": null,
            "align_self": null,
            "height": null,
            "min_height": null,
            "padding": null,
            "grid_auto_rows": null,
            "grid_gap": null,
            "max_width": null,
            "order": null,
            "_view_module_version": "1.2.0",
            "grid_template_areas": null,
            "object_position": null,
            "object_fit": null,
            "grid_auto_columns": null,
            "margin": null,
            "display": null,
            "left": null
          }
        },
        "bb4e80ae1a6e456c8480092f47c93d5d": {
          "model_module": "@jupyter-widgets/controls",
          "model_name": "DescriptionStyleModel",
          "state": {
            "_view_name": "StyleView",
            "_model_name": "DescriptionStyleModel",
            "description_width": "",
            "_view_module": "@jupyter-widgets/base",
            "_model_module_version": "1.5.0",
            "_view_count": null,
            "_view_module_version": "1.2.0",
            "_model_module": "@jupyter-widgets/controls"
          }
        },
        "66543b907d5b4ac4b422e05e951e877a": {
          "model_module": "@jupyter-widgets/base",
          "model_name": "LayoutModel",
          "state": {
            "_view_name": "LayoutView",
            "grid_template_rows": null,
            "right": null,
            "justify_content": null,
            "_view_module": "@jupyter-widgets/base",
            "overflow": null,
            "_model_module_version": "1.2.0",
            "_view_count": null,
            "flex_flow": null,
            "width": null,
            "min_width": null,
            "border": null,
            "align_items": null,
            "bottom": null,
            "_model_module": "@jupyter-widgets/base",
            "top": null,
            "grid_column": null,
            "overflow_y": null,
            "overflow_x": null,
            "grid_auto_flow": null,
            "grid_area": null,
            "grid_template_columns": null,
            "flex": null,
            "_model_name": "LayoutModel",
            "justify_items": null,
            "grid_row": null,
            "max_height": null,
            "align_content": null,
            "visibility": null,
            "align_self": null,
            "height": null,
            "min_height": null,
            "padding": null,
            "grid_auto_rows": null,
            "grid_gap": null,
            "max_width": null,
            "order": null,
            "_view_module_version": "1.2.0",
            "grid_template_areas": null,
            "object_position": null,
            "object_fit": null,
            "grid_auto_columns": null,
            "margin": null,
            "display": null,
            "left": null
          }
        }
      }
    }
  },
  "cells": [
    {
      "cell_type": "markdown",
      "metadata": {
        "id": "3b7x26s4xu3Z",
        "colab_type": "text"
      },
      "source": [
        "# CS 437 - Deep Learning - PA1:Neural Network Class\n",
        "\n",
        "*__Submission Instructions:__*\n",
        "- Rename this notebook to `hw1_rollnumber.ipynb` before submission on LMS.\n",
        "- All code must be written in this notebook (you do not need to submit any other files).\n",
        "- The output of all cells must be present in the version of the notebook you submit. You will be penalized if the output is absent.\n",
        "- The university honor code should be maintained. Any violation, if found, will result in disciplinary action. "
      ]
    },
    {
      "cell_type": "code",
      "metadata": {
        "id": "rANKBhihxu3d",
        "colab_type": "code",
        "outputId": "292f491e-c686-4ca5-d03f-ed079437055e",
        "colab": {}
      },
      "source": [
        "import sys\n",
        "!{sys.executable} -m pip install pydot"
      ],
      "execution_count": 0,
      "outputs": [
        {
          "output_type": "stream",
          "text": [
            "Collecting pydot\n",
            "  Downloading https://files.pythonhosted.org/packages/33/d1/b1479a770f66d962f545c2101630ce1d5592d90cb4f083d38862e93d16d2/pydot-1.4.1-py2.py3-none-any.whl\n",
            "Requirement already satisfied: pyparsing>=2.1.4 in c:\\programdata\\anaconda3\\lib\\site-packages (from pydot) (2.3.0)\n",
            "Installing collected packages: pydot\n",
            "Successfully installed pydot-1.4.1\n"
          ],
          "name": "stdout"
        }
      ]
    },
    {
      "cell_type": "code",
      "metadata": {
        "id": "MDODqfAKxzLg",
        "colab_type": "code",
        "outputId": "28002703-fc04-4c6d-ad94-c3627778b4f7",
        "colab": {
          "base_uri": "https://localhost:8080/",
          "height": 34
        }
      },
      "source": [
        "# !pip install pydot\n",
        "!pip install graphviz"
      ],
      "execution_count": 0,
      "outputs": [
        {
          "output_type": "stream",
          "text": [
            "Requirement already satisfied: graphviz in /usr/local/lib/python3.6/dist-packages (0.10.1)\n"
          ],
          "name": "stdout"
        }
      ]
    },
    {
      "cell_type": "code",
      "metadata": {
        "id": "p-Zh5MgDxu3s",
        "colab_type": "code",
        "outputId": "75cd15c7-b997-4dd1-c892-21bd1d3f81c7",
        "colab": {}
      },
      "source": [
        "!{sys.executable} -m pip install graphviz"
      ],
      "execution_count": 0,
      "outputs": [
        {
          "output_type": "stream",
          "text": [
            "Collecting graphviz\n",
            "  Downloading https://files.pythonhosted.org/packages/f5/74/dbed754c0abd63768d3a7a7b472da35b08ac442cf87d73d5850a6f32391e/graphviz-0.13.2-py2.py3-none-any.whl\n",
            "Installing collected packages: graphviz\n",
            "Successfully installed graphviz-0.13.2\n"
          ],
          "name": "stdout"
        }
      ]
    },
    {
      "cell_type": "code",
      "metadata": {
        "ExecuteTime": {
          "end_time": "2019-01-30T14:39:17.671980Z",
          "start_time": "2019-01-30T14:38:40.137027Z"
        },
        "id": "6Ss0dVMAxu30",
        "colab_type": "code",
        "colab": {}
      },
      "source": [
        "import numpy as np\n",
        "import pandas as pd\n",
        "%matplotlib inline\n",
        "import matplotlib.pyplot as plt\n",
        "plt.style.use('seaborn')\n",
        "from IPython.display import Image\n",
        "import pydot\n",
        "from tqdm import tqdm_notebook\n",
        "\n",
        "from class_tests import test_neural_network\n",
        "\n",
        "from sklearn.datasets import make_moons\n",
        "from sklearn.linear_model import LinearRegression, LogisticRegression"
      ],
      "execution_count": 0,
      "outputs": []
    },
    {
      "cell_type": "markdown",
      "metadata": {
        "id": "9GZwx0Wcxu36",
        "colab_type": "text"
      },
      "source": [
        "**Please write your roll number in the next cell**"
      ]
    },
    {
      "cell_type": "code",
      "metadata": {
        "ExecuteTime": {
          "end_time": "2019-01-30T14:36:37.383767Z",
          "start_time": "2019-01-30T14:36:37.333537Z"
        },
        "id": "la5cU67zxu38",
        "colab_type": "code",
        "colab": {}
      },
      "source": [
        "rollnumber = 20100120"
      ],
      "execution_count": 0,
      "outputs": []
    },
    {
      "cell_type": "markdown",
      "metadata": {
        "id": "dFwo4kYUxu4A",
        "colab_type": "text"
      },
      "source": [
        "In this assignment you will be creating 4 versions of the `NeuralNetwork` class. You will start with a simple 2 layer feed forward network and progressively modify the class by adding features to make it more generic. At the end you will have implemented a version which can create networks of arbitrary shape and depth, and which will work for both regression and classification tasks. \n",
        "\n",
        "Often in pratical situations, raw machine learning architecture and code is hidden behind libraries and simplfied toolkits. The purpose of this assignment is to lift that curtain and get you hands-on exprience working with the mathematical fundamentals of neural network architectures. After this, you'll know exactly how a network leverages 'gradient descent' to find optimal solutions and how forward and backward passes are implemented mathematically and in code.\n",
        "\n",
        "\n",
        "### Primary Task\n",
        "Skeleton code is provided to get you started; the main methods you need to implement correspond to the 3 steps of the training process, namely:\n",
        "1. Initialize variables and initialize weights\n",
        "2. Forward pass\n",
        "3. Backward pass AKA Backpropogation\n",
        "4. Weight Update AKA Gradient Descent\n",
        "\n",
        "__Look for comments in the code to see where you are supposed to write code.__ Essentially, you will be working on 5 functions. \n",
        "You should use the lecture [slides]() as reference for the equations. \n",
        "\n",
        "A `fit` function is what combines the previous three functions and overall trains the network to __fit__ to the provided training examples. In all the following tasks, the provided `fit` methods require the three steps of the training process to be correctly working. The function has been setup in a way that it expects the above 3 methods to take particular inputs and return particular outputs. __You are supposed to work within this restriction.__ Modification of the provided code without prior discussion with the TAs will result in a __grade deduction__. \n",
        "\n",
        "### Support code\n",
        "The class comes with a few useful methods for the activation functions, plotting and model error evaluation. Here are some points to note:\n",
        "1. Test cases have been provided for the functions (methods) you need to implement. \n",
        "2. These test cases are present in a separate python script but you will only need to use a function imported into this notebook to leverage them (usage is shown in each task). \n",
        "3. The test cases will check the 3 individual functions you will have written and but not the overall model that they fit into. \n",
        "4. The test cases expect you to implement stochastic gradient descent (and __not__ the other two implementations).\n",
        "5. The test cases are __not__ exhaustive so they do not guarantee that your solution is 100% correct. For that you should always look at the loss plot during training.\n",
        "\n",
        "To see how well your model is doing, you need to look at the dummy tasks (at the end) and make sure your model loss is going down during training. A dummy regression task of adding two numbers (sum less than 1) has been provided as well. Similarly, a dummy classification task (XOR logic gate) is also present. You can look at the shapes of the inputs and outputs matrices as well as the training trend (once you implement a full task) by using your own class (make sure you are using the correct arguments to the `__init__` method). \n",
        "\n",
        "You can find a demonstration of the neural network working on a synthetic dataset for both regression and classification at the end of the notebook. After you implement your class fully, you can play with the parameters and see the visualization change, we highly recommend that you try this. This part of the notebook will not be graded in any way, but it might give you a better insight/intuition into how the model makes decisions, and how important parameters are in terms of the usefullness of neural networks. You will explore the parameter space more thoroughly in the next assignment :P\n",
        "\n",
        "### Side note\n",
        "*The `plot_model` method will only work if you have the `pydot` python package installed along with [Graphviz](https://graphviz.gitlab.io/download/)). If you do not wish to use this then simply comment out the import for `pydot`.*\n",
        "\n",
        "### Need Help?\n",
        "If you need help, refer to your textbook (provided on LMS) which has examples and explanations for all the processes you'll have to implement, as well as rich details on functions such as `sigmoid` and `softmax`. Going over the book once before getting started is a good idea, you can also refer to the class slides and supplemental material provided with the assignment."
      ]
    },
    {
      "cell_type": "markdown",
      "metadata": {
        "heading_collapsed": true,
        "id": "oVL1OUrbxu4B",
        "colab_type": "text"
      },
      "source": [
        "## Task 1"
      ]
    },
    {
      "cell_type": "markdown",
      "metadata": {
        "hidden": true,
        "id": "rYcSY01rxu4F",
        "colab_type": "text"
      },
      "source": [
        "In this task you will implement the simplest version of a feed forward neural network - a 2 layer network. \n",
        "\n",
        "Your code will only be partially vectorized, this means that you will be passing a single data point through the network at a time. In simple terms, the running time of your `fit` method will be $O(e*n)$ where $e$ is the number of epochs and $n$ is the number of data points (assuming all functions/methods called in `fit` take constant time). \n",
        "\n",
        "This version of the network will be using the `softmax` activation function for the output layer and `sigmoid` for the hidden layer, *ie.* a classification model which learns to output the joint probability mass function of the classes in the dataset. "
      ]
    },
    {
      "cell_type": "code",
      "metadata": {
        "ExecuteTime": {
          "end_time": "2019-01-27T01:25:17.044301Z",
          "start_time": "2019-01-27T01:25:16.984346Z"
        },
        "hidden": true,
        "id": "cWe3dDfTxu4G",
        "colab_type": "code",
        "colab": {}
      },
      "source": [
        "class NeuralNetwork():\n",
        "    @staticmethod\n",
        "    def cross_entropy_loss(y_pred, y_true):\n",
        "        return -(y_true * np.log(y_pred)).sum()\n",
        "    \n",
        "    @staticmethod\n",
        "    def accuracy(y_pred, y_true):\n",
        "        return np.sum(y_pred == y_true)\n",
        "    \n",
        "    @staticmethod\n",
        "    def softmax(x):\n",
        "        expx = np.exp(x)\n",
        "        return expx / expx.sum(axis=1, keepdims=True)\n",
        "    \n",
        "    @staticmethod\n",
        "    def sigmoid(x):\n",
        "        return 1 / (1 + np.exp(-x))\n",
        "    \n",
        "    ## YOUR WORK STARTS HERE, YOU NEED TO LEAVE ALL THE OTHER FUNCTIONS AS THEY ARE\n",
        "    \n",
        "    def __init__(self, input_size, hidden_nodes, output_size):\n",
        "        '''Creates a Feed-Forward Neural Network.\n",
        "        The parameters represent the number of nodes in each layer (total 3). \n",
        "        Look at the inputs to the function'''\n",
        "        self.num_layers = 3 # includes input layer\n",
        "        self.input_shape = input_size\n",
        "        self.hidden_shape = hidden_nodes\n",
        "        self.output_shape = output_size\n",
        "        \n",
        "        self.weights_ = self.biases_ = []\n",
        "        self.__init_weights()\n",
        "    \n",
        "    def __init_weights(self):\n",
        "        np.random.seed(42)\n",
        "        '''Initializes all weights based on standard normal distribution and all biases to 0.'''\n",
        "        W_h = np.random.normal(size=(self.input_shape, self.hidden_shape)) # (2,5)\n",
        "        b_h = np.zeros(shape=(self.hidden_shape,)) # (5,)\n",
        "        \n",
        "        W_o = np.random.normal(size=(self.hidden_shape, self.output_shape)) # (5,2)\n",
        "        b_o = np.zeros(shape=(self.output_shape,)) # (2,)\n",
        "        \n",
        "        \n",
        "        self.weights_ = [W_h, W_o]\n",
        "        self.biases_  = [b_h, b_o]\n",
        "    \n",
        "    \n",
        "    def forward_pass(self, input_data):\n",
        "        '''Executes the feed forward algorithm.\n",
        "        \"input_data\" is the input to the network in row-major form\n",
        "        Returns \"activations\", which is a list of all layer outputs (excluding input layer of course)'''\n",
        "        # input_data.shape = (1,2)\n",
        "        self.input_ = input_data\n",
        "        z_h1 = np.dot(self.input_,self.weights_[0]) + self.biases_[0]\n",
        "        y_h1 = self.sigmoid(z_h1)\n",
        "        z_o = np.dot(y_h1,self.weights_[1]) + self.biases_[1]\n",
        "        y_o = self.softmax(z_o)\n",
        "#         print(y_h1.shape, y_o.shape)\n",
        "        activations = [y_h1 ,y_o]\n",
        "        \n",
        "        return activations\n",
        "    \n",
        "    def backward_pass(self, targets, layer_activations):\n",
        "        '''Executes the backpropogation algorithm.\n",
        "        \"targets\" is the ground truth/labels\n",
        "        \"layer_activations\" are the return value of the forward pass step\n",
        "        Returns \"deltas\", which is a list containing weight update values for all layers (excluding the input layer of course)'''\n",
        "        a_h1,a_o = layer_activations[0],layer_activations[1] #(1,5)(1,2)\n",
        "        \n",
        "        err_derv2 = -(targets - a_o) # (1,2)\n",
        "        sig_derv2 = np.multiply(a_o,(1-a_o)) # (1,2)\n",
        "        delta_w2 = np.multiply(err_derv2,sig_derv2) # (1,2)\n",
        "\n",
        "        err_derv1 = np.dot(delta_w2,self.weights_[1].T) # (1,2) (5,2) --> (1,5)\n",
        "        sig_derv1 = np.multiply(a_h1,(1-a_h1)) # (1,5)\n",
        "        delta_w1 = np.multiply(err_derv1,sig_derv1) # (1,5)\n",
        "\n",
        "        deltas = [delta_w1,delta_w2]\n",
        "        return deltas\n",
        "\n",
        "    def weight_update(self, deltas, layer_inputs, lr):\n",
        "        '''Executes the gradient descent algorithm.\n",
        "        \"deltas\" is return value of the backward pass step\n",
        "        \"layer_inputs\" is a list containing the inputs for all layers (including the input layer)\n",
        "        \"lr\" is the learning rate'''\n",
        "        \n",
        "        x = layer_inputs[0] # (1,2)\n",
        "        a1 = layer_inputs[1] # (1,5)\n",
        "\n",
        "        w1 = self.weights_[0] # (2,5)\n",
        "        w2 = self.weights_[1] # (5,2)\n",
        "        \n",
        "        delta_w1 = deltas[0] # (1,5)\n",
        "        delta_w2 = deltas[1] # (1,2)\n",
        "\n",
        "        b1 = self.biases_[0] # (5,)\n",
        "        b2 = self.biases_[1] # (2,)\n",
        "        \n",
        "        \n",
        "        self.weights_[1] = w2 -  lr * np.dot(delta_w2.T,a1).T # (5,2)\n",
        "#         self.biases_[1] = b2 - lr * np.sum(delta_w2) \n",
        "        self.biases_[1] = b2 - lr * delta_w2 \n",
        "        \n",
        "        self.weights_[0] = w1 - lr * np.dot(delta_w1.T,x).T\n",
        "#         self.biases_[0] = b1 - lr * np.sum(delta_w1)\n",
        "        self.biases_[0] = b1 - lr * delta_w1\n",
        "\n",
        "\n",
        "    ## YOUR WORK ENDS HERE, LEAVE ALL FOLLOWING FUNCTIONS ALONE\n",
        "    \n",
        "    def fit(self, Xs, Ys, epochs, lr=1e-3):\n",
        "        '''Trains the model on the given dataset for \"epoch\" number of itterations with step size=\"lr\". \n",
        "        Returns list containing loss for each epoch.'''\n",
        "        history = []\n",
        "        for epoch in tqdm_notebook(range(epochs)):\n",
        "            num_samples = Xs.shape[0]\n",
        "            for i in range(num_samples):\n",
        "                sample_input = Xs[i,:].reshape((1,self.input_shape))\n",
        "                sample_target = Ys[i,:].reshape((1,self.output_shape))\n",
        "                \n",
        "                activations = self.forward_pass(sample_input)\n",
        "                deltas = self.backward_pass(sample_target, activations)\n",
        "\n",
        "                layer_inputs = [sample_input] + activations[:-1]\n",
        "                self.weight_update(deltas, layer_inputs, lr)\n",
        "            \n",
        "            preds = self.predict(Xs)\n",
        "            current_loss = self.cross_entropy_loss(preds, Ys)\n",
        "            history.append(current_loss)\n",
        "        return history\n",
        "    \n",
        "    def predict(self, Xs):\n",
        "        '''Returns the model predictions (output of the last layer) for the given \"Xs\".'''\n",
        "        predictions = []\n",
        "        num_samples = Xs.shape[0]\n",
        "        for i in range(num_samples):\n",
        "            sample = Xs[i,:].reshape((1,self.input_shape))\n",
        "            sample_prediction = self.forward_pass(sample)[-1]\n",
        "            predictions.append(sample_prediction.reshape((self.output_shape,)))\n",
        "        return np.array(predictions)\n",
        "    \n",
        "    def evaluate(self, Xs, Ys):\n",
        "        '''Returns appropriate metrics for the task, calculated on the dataset passed to this method.'''\n",
        "        pred = self.predict(Xs)\n",
        "        return self.cross_entropy_loss(pred, Ys), self.accuracy(pred.argmax(axis=1), Ys.argmax(axis=1))\n",
        "    \n",
        "    def plot_model(self, filename):\n",
        "        '''Provide the \"filename\" as a string including file extension. Creates an image showing the model as a graph.'''\n",
        "        graph = pydot.Dot(graph_type='digraph')\n",
        "        graph.set_rankdir('LR')\n",
        "        graph.set_node_defaults(shape='circle', fontsize=0)\n",
        "        nodes_per_layer = [self.input_shape, self.hidden_shape, self.output_shape]\n",
        "        for i in range(self.num_layers-1):\n",
        "            for n1 in range(nodes_per_layer[i]):\n",
        "                for n2 in range(nodes_per_layer[i+1]):\n",
        "                    edge = pydot.Edge(f'l{i}n{n1}', f'l{i+1}n{n2}')\n",
        "                    graph.add_edge(edge)\n",
        "        graph.write_png(filename)"
      ],
      "execution_count": 0,
      "outputs": []
    },
    {
      "cell_type": "code",
      "metadata": {
        "ExecuteTime": {
          "end_time": "2019-01-27T01:25:23.531625Z",
          "start_time": "2019-01-27T01:25:20.453931Z"
        },
        "hidden": true,
        "scrolled": true,
        "id": "br6IItcVxu4K",
        "colab_type": "code",
        "outputId": "8d0398c1-9e6f-4c37-b5fb-b546a65de097",
        "colab": {
          "base_uri": "https://localhost:8080/",
          "height": 364
        }
      },
      "source": [
        "nn = NeuralNetwork(input_size=2, hidden_nodes=5, output_size=2)\n",
        "nn.plot_model('graph.png')\n",
        "Image('graph.png')"
      ],
      "execution_count": 0,
      "outputs": [
        {
          "output_type": "execute_result",
          "data": {
            "image/png": "[encoded data removed]",
            "text/plain": [
              "<IPython.core.display.Image object>"
            ]
          },
          "metadata": {
            "tags": []
          },
          "execution_count": 6
        }
      ]
    },
    {
      "cell_type": "code",
      "metadata": {
        "ExecuteTime": {
          "end_time": "2019-01-27T01:25:30.833998Z",
          "start_time": "2019-01-27T01:25:30.643964Z"
        },
        "hidden": true,
        "id": "ddukphA_xu4O",
        "colab_type": "code",
        "outputId": "a1d29e61-d18b-4f84-d0e1-4e6697025db9",
        "colab": {
          "base_uri": "https://localhost:8080/",
          "height": 84
        }
      },
      "source": [
        "test_neural_network(NeuralNetwork, 'task1')"
      ],
      "execution_count": 0,
      "outputs": [
        {
          "output_type": "stream",
          "text": [
            "Tests properly initialized\n",
            "Forward pass is OK\n",
            "Backward pass is OK\n",
            "Weight update is OK\n"
          ],
          "name": "stdout"
        }
      ]
    },
    {
      "cell_type": "markdown",
      "metadata": {
        "id": "YhXCLPhVxu4U",
        "colab_type": "text"
      },
      "source": [
        "### IGNORE"
      ]
    },
    {
      "cell_type": "code",
      "metadata": {
        "scrolled": true,
        "id": "b8J02zMCxu4V",
        "colab_type": "code",
        "outputId": "3ed3dada-d15d-4528-e360-c8f41608e3ee",
        "colab": {}
      },
      "source": [
        "a = np.array([[1,4],\n",
        "              [5,6]])\n",
        "b = np.array([[2,3]])\n",
        "print(a,b)\n",
        "print('For np.multiply: ',np.multiply(a,b))\n",
        "print('################################################################')\n",
        "y = [np.array([[ 0.49671415, -0.1382643 ,  0.64768854,  1.52302986, -0.23415337],\n",
        "        [-0.23413696,  1.57921282,  0.76743473, -0.46947439,  0.54256004]]),\n",
        " np.array([[-0.46341769, -0.46572975],\n",
        "        [ 0.24196227, -1.91328024],\n",
        "        [-1.72491783, -0.56228753],\n",
        "        [-1.01283112,  0.31424733],\n",
        "        [-0.90802408, -1.4123037 ]])]\n",
        "print('nn.weights_: ',nn.weights_)\n",
        "print('################################################################')\n",
        "for a,b in zip(nn.weights_, y):\n",
        "    print(a,'----')\n",
        "    print(b,'----')\n",
        "    print(np.isclose(a,b))\n",
        "print('################################################################')\n",
        "print('[(np.isclose(a,b)).all() for a,b in zip(nn.weights_, y)]: ',[(np.isclose(a,b)).all() for a,b in zip(nn.weights_, y)])\n",
        "print('################################################################')\n",
        "print('np.all([True,True]: ',np.all([True,True]))\n",
        "print('################################################################')\n",
        "print('np.all([(np.isclose(a,b)).all() for a,b in zip(nn.weights_, y): ',np.all([(np.isclose(a,b)).all() for a,b in zip(nn.weights_, y)]))"
      ],
      "execution_count": 0,
      "outputs": [
        {
          "output_type": "stream",
          "text": [
            "[[1 4]\n",
            " [5 6]] [[2 3]]\n",
            "For np.multiply:  [[ 2 12]\n",
            " [10 18]]\n",
            "################################################################\n",
            "nn.weights_:  [array([[ 0.49671415, -0.1382643 ,  0.64768854,  1.52302986, -0.23415337],\n",
            "       [-0.23413696,  1.57921282,  0.76743473, -0.46947439,  0.54256004]]), array([[-0.46341769, -0.46572975],\n",
            "       [ 0.24196227, -1.91328024],\n",
            "       [-1.72491783, -0.56228753],\n",
            "       [-1.01283112,  0.31424733],\n",
            "       [-0.90802408, -1.4123037 ]])]\n",
            "################################################################\n",
            "[[ 0.49671415 -0.1382643   0.64768854  1.52302986 -0.23415337]\n",
            " [-0.23413696  1.57921282  0.76743473 -0.46947439  0.54256004]] ----\n",
            "[[ 0.49671415 -0.1382643   0.64768854  1.52302986 -0.23415337]\n",
            " [-0.23413696  1.57921282  0.76743473 -0.46947439  0.54256004]] ----\n",
            "[[ True  True  True  True  True]\n",
            " [ True  True  True  True  True]]\n",
            "[[-0.46341769 -0.46572975]\n",
            " [ 0.24196227 -1.91328024]\n",
            " [-1.72491783 -0.56228753]\n",
            " [-1.01283112  0.31424733]\n",
            " [-0.90802408 -1.4123037 ]] ----\n",
            "[[-0.46341769 -0.46572975]\n",
            " [ 0.24196227 -1.91328024]\n",
            " [-1.72491783 -0.56228753]\n",
            " [-1.01283112  0.31424733]\n",
            " [-0.90802408 -1.4123037 ]] ----\n",
            "[[ True  True]\n",
            " [ True  True]\n",
            " [ True  True]\n",
            " [ True  True]\n",
            " [ True  True]]\n",
            "################################################################\n",
            "[(np.isclose(a,b)).all() for a,b in zip(nn.weights_, y)]:  [True, True]\n",
            "################################################################\n",
            "np.all([True,True]:  True\n",
            "################################################################\n",
            "np.all([(np.isclose(a,b)).all() for a,b in zip(nn.weights_, y):  True\n"
          ],
          "name": "stdout"
        }
      ]
    },
    {
      "cell_type": "markdown",
      "metadata": {
        "heading_collapsed": true,
        "id": "H32vbutTxu4b",
        "colab_type": "text"
      },
      "source": [
        "## Task 2"
      ]
    },
    {
      "cell_type": "markdown",
      "metadata": {
        "hidden": true,
        "id": "iB-CoPPcxu4d",
        "colab_type": "text"
      },
      "source": [
        "Now you will modify the class to allow the option to learn a regression model. You need to change some methods to account for the `mode` of the network. You can copy your code from task 1 as a starting point if you want.\n",
        "\n",
        "If the `mode` is classification, you will use your code from Task1. In case of the `mode` being regression you will apply the `sigmoid` activation function to both layers and compute the deltas for that."
      ]
    },
    {
      "cell_type": "code",
      "metadata": {
        "ExecuteTime": {
          "end_time": "2019-01-27T01:30:16.547173Z",
          "start_time": "2019-01-27T01:30:16.441918Z"
        },
        "hidden": true,
        "id": "0TIGQflexu4g",
        "colab_type": "code",
        "colab": {}
      },
      "source": [
        "class NeuralNetwork():\n",
        "    @staticmethod\n",
        "    def mean_squared_error(y_pred, y_true):\n",
        "        return np.mean((y_pred - y_true) ** 2)\n",
        "    \n",
        "    @staticmethod\n",
        "    def cross_entropy_loss(y_pred, y_true):\n",
        "        return -(y_true * np.log(y_pred)).sum()\n",
        "    \n",
        "    @staticmethod\n",
        "    def accuracy(y_pred, y_true):\n",
        "        return np.sum(y_pred == y_true)\n",
        "    \n",
        "    @staticmethod\n",
        "    def softmax(x):\n",
        "        expx = np.exp(x)\n",
        "        return expx / expx.sum(axis=1, keepdims=True)\n",
        "    \n",
        "    @staticmethod\n",
        "    def sigmoid(x):\n",
        "        return 1 / (1 + np.exp(-x))\n",
        "    \n",
        "    ## YOUR WORK STARTS HERE, YOU NEED TO LEAVE ALL THE OTHER FUNCTIONS AS THEY ARE\n",
        "    \n",
        "    def __init__(self, input_size, hidden_nodes, output_size, mode):\n",
        "        '''Creates a Feed-Forward Neural Network.\n",
        "        \"mode\" can be one of 'regression' or 'classification' and controls the output activation as well as training metric\n",
        "        The rest of the parameters represent the number of nodes in each layer (total 3).'''\n",
        "        if mode not in ['classification','regression']:\n",
        "            raise ValueError('Only \"classification\" and \"regression\" modes are supported.')\n",
        "        \n",
        "        self.num_layers = 3 # includes input layer\n",
        "        self.input_shape = input_size\n",
        "        self.hidden_shape = hidden_nodes\n",
        "        self.output_shape = output_size\n",
        "        self.mode = mode\n",
        "        \n",
        "        \n",
        "        self.weights_ = self.biases_ = []\n",
        "        self.__init_weights()\n",
        "    \n",
        "    def __init_weights(self):\n",
        "        np.random.seed(42)\n",
        "        '''Initializes all weights based on standard normal distribution and all biases to 0.'''\n",
        "        W_h = np.random.normal(size=(self.input_shape, self.hidden_shape)) # (2,5)\n",
        "        b_h = np.zeros(shape=(self.hidden_shape,)) # (5,)\n",
        "        \n",
        "        W_o = np.random.normal(size=(self.hidden_shape, self.output_shape)) # (5,2)\n",
        "        b_o = np.zeros(shape=(self.output_shape,)) # (2,)\n",
        "        \n",
        "        \n",
        "        self.weights_ = [W_h, W_o]\n",
        "        self.biases_  = [b_h, b_o]\n",
        "    \n",
        "    \n",
        "\n",
        "    \n",
        "    def forward_pass(self, input_data):\n",
        "        '''Executes the feed forward algorithm.\n",
        "        \"input_data\" is the input to the network in row-major form\n",
        "        Returns \"activations\", which is a list of all layer outputs (excluding input layer of course)'''\n",
        "        self.input_ = input_data\n",
        "        z_h1 = np.dot(self.input_,self.weights_[0]) + self.biases_[0]\n",
        "        y_h1 = self.sigmoid(z_h1)\n",
        "        z_o = np.dot(y_h1,self.weights_[1]) + self.biases_[1]\n",
        "        if self.mode == 'regression':\n",
        "            y_o = self.sigmoid(z_o)\n",
        "        else:\n",
        "            y_o = self.softmax(z_o)\n",
        "#         print(y_h1.shape, y_o.shape)\n",
        "        activations = [y_h1 ,y_o]\n",
        "        \n",
        "        return activations\n",
        "    \n",
        "    def backward_pass(self, targets, layer_activations):\n",
        "        '''Executes the backpropogation algorithm.\n",
        "        \"targets\" is the ground truth/labels\n",
        "        \"layer_activations\" are the return value of the forward pass step\n",
        "        Returns \"deltas\", which is a list containing weight update values for all layers (excluding the input layer of course)'''\n",
        "        a_h1,a_o = layer_activations[0],layer_activations[1] #(1,5)(1,2)\n",
        "        \n",
        "        err_derv2 = -(targets - a_o) # (1,2)\n",
        "        sig_derv2 = np.multiply(a_o,(1-a_o)) # (1,2)\n",
        "        delta_w2 = np.multiply(err_derv2,sig_derv2) # (1,2)\n",
        "\n",
        "        err_derv1 = np.dot(delta_w2,self.weights_[1].T) # (1,2) (5,2) --> (1,5)\n",
        "        sig_derv1 = np.multiply(a_h1,(1-a_h1)) # (1,5)\n",
        "        delta_w1 = np.multiply(err_derv1,sig_derv1) # (1,5)\n",
        "\n",
        "        deltas = [delta_w1,delta_w2]\n",
        "        return deltas\n",
        "        \n",
        "    \n",
        "    def weight_update(self, deltas, layer_inputs, lr):\n",
        "        '''Executes the gradient descent algorithm.\n",
        "        \"deltas\" is return value of the backward pass step\n",
        "        \"layer_inputs\" is a list containing the inputs for all layers (including the input layer)\n",
        "        \"lr\" is the learning rate'''\n",
        "        x = layer_inputs[0] # (1,2)\n",
        "        a1 = layer_inputs[1] # (1,5)\n",
        "\n",
        "        w1 = self.weights_[0] # (2,5)\n",
        "        w2 = self.weights_[1] # (5,2)\n",
        "        \n",
        "        delta_w1 = deltas[0] # (1,5)\n",
        "        delta_w2 = deltas[1] # (1,2)\n",
        "\n",
        "        b1 = self.biases_[0] # (5,)\n",
        "        b2 = self.biases_[1] # (2,)\n",
        "        \n",
        "        \n",
        "        self.weights_[1] = w2 -  lr * np.dot(delta_w2.T,a1).T # (5,2)\n",
        "#         self.biases_[1] = b2 - lr * np.sum(delta_w2) \n",
        "        self.biases_[1] = b2 - lr * delta_w2 \n",
        "        \n",
        "        self.weights_[0] = w1 - lr * np.dot(delta_w1.T,x).T\n",
        "#         self.biases_[0] = b1 - lr * np.sum(delta_w1)\n",
        "        self.biases_[0] = b1 - lr * delta_w1\n",
        "    ## YOUR WORK ENDS HERE, LEAVE ALL FOLLOWING FUNCTIONS ALONE\n",
        "    \n",
        "    def fit(self, Xs, Ys, epochs, lr=1e-3):\n",
        "        '''Trains the model on the given dataset for \"epoch\" number of itterations with step size=\"lr\". \n",
        "        Returns list containing loss for each epoch.'''\n",
        "        history = []\n",
        "        print(Xs.shape)\n",
        "        print(Ys.shape)\n",
        "        for epoch in tqdm_notebook(range(epochs)):\n",
        "            num_samples = Xs.shape[0]\n",
        "            for i in range(num_samples):\n",
        "                sample_input = Xs[i,:].reshape((1,self.input_shape))\n",
        "                sample_target = Ys[i,:].reshape((1,self.output_shape))\n",
        "                \n",
        "                activations = self.forward_pass(sample_input)\n",
        "                deltas = self.backward_pass(sample_target, activations)\n",
        "\n",
        "                layer_inputs = [sample_input] + activations[:-1]\n",
        "                self.weight_update(deltas, layer_inputs, lr)\n",
        "            \n",
        "            preds = self.predict(Xs)\n",
        "            if self.mode == 'regression':\n",
        "                current_loss = self.mean_squared_error(preds, Ys)\n",
        "            elif self.mode == 'classification':\n",
        "                current_loss = self.cross_entropy_loss(preds, Ys)\n",
        "            history.append(current_loss)\n",
        "        return history\n",
        "    \n",
        "    def predict(self, Xs):\n",
        "        '''Returns the model predictions (output of the last layer) for the given \"Xs\".'''\n",
        "        predictions = []\n",
        "        num_samples = Xs.shape[0]\n",
        "        for i in range(num_samples):\n",
        "            sample = Xs[i,:].reshape((1,self.input_shape))\n",
        "            sample_prediction = self.forward_pass(sample)[-1]\n",
        "            predictions.append(sample_prediction.reshape((self.output_shape,)))\n",
        "        return np.array(predictions)\n",
        "    \n",
        "    def evaluate(self, Xs, Ys):\n",
        "        '''Returns appropriate metrics for the task, calculated on the dataset passed to this method.'''\n",
        "        pred = self.predict(Xs)\n",
        "        if self.mode == 'regression':\n",
        "            return self.mean_squared_error(pred, Ys)\n",
        "        elif self.mode == 'classification':\n",
        "            return self.cross_entropy_loss(pred, Ys), self.accuracy(pred.argmax(axis=1), Ys.argmax(axis=1))\n",
        "    \n",
        "    def plot_model(self, filename):\n",
        "        '''Provide the \"filename\" as a string including file extension. Creates an image showing the model as a graph.'''\n",
        "        graph = pydot.Dot(graph_type='digraph')\n",
        "        graph.set_rankdir('LR')\n",
        "        graph.set_node_defaults(shape='circle', fontsize=0)\n",
        "        nodes_per_layer = [self.input_shape, self.hidden_shape, self.output_shape]\n",
        "        for i in range(self.num_layers-1):\n",
        "            for n1 in range(nodes_per_layer[i]):\n",
        "                for n2 in range(nodes_per_layer[i+1]):\n",
        "                    edge = pydot.Edge(f'l{i}n{n1}', f'l{i+1}n{n2}')\n",
        "                    graph.add_edge(edge)\n",
        "        graph.write_png(filename)"
      ],
      "execution_count": 0,
      "outputs": []
    },
    {
      "cell_type": "code",
      "metadata": {
        "hidden": true,
        "id": "jwxT7pJUxu4j",
        "colab_type": "code",
        "outputId": "93b816e4-2327-4ff0-eb09-b97e20ace545",
        "colab": {
          "base_uri": "https://localhost:8080/",
          "height": 364
        }
      },
      "source": [
        "nn = NeuralNetwork(input_size=2, hidden_nodes=5, output_size=1, mode='regression')\n",
        "nn.plot_model('graph.png')\n",
        "Image('graph.png')"
      ],
      "execution_count": 0,
      "outputs": [
        {
          "output_type": "execute_result",
          "data": {
            "image/png": "[encoded data removed]",
            "text/plain": [
              "<IPython.core.display.Image object>"
            ]
          },
          "metadata": {
            "tags": []
          },
          "execution_count": 9
        }
      ]
    },
    {
      "cell_type": "code",
      "metadata": {
        "hidden": true,
        "id": "wiwJOBSUxu4n",
        "colab_type": "code",
        "outputId": "edfe4dd1-4bf6-4af3-e388-a03bc3c1bce2",
        "colab": {}
      },
      "source": [
        "test_neural_network(NeuralNetwork, 'task2')"
      ],
      "execution_count": 0,
      "outputs": [
        {
          "output_type": "stream",
          "text": [
            "Tests properly initialized\n",
            "Forward pass is OK\n",
            "Backward pass is OK\n",
            "Weight update is OK\n"
          ],
          "name": "stdout"
        }
      ]
    },
    {
      "cell_type": "markdown",
      "metadata": {
        "heading_collapsed": true,
        "id": "N9wOxOFzxu4s",
        "colab_type": "text"
      },
      "source": [
        "## Task 3"
      ]
    },
    {
      "cell_type": "markdown",
      "metadata": {
        "hidden": true,
        "id": "6NVD-hBNxu4t",
        "colab_type": "text"
      },
      "source": [
        "Again, if it helps copy only your code from Task2 as a starting point in the next cell. Now you will modify the class to allow an arbitrarily shaped network. You will need to change all 3 primary methods.\n",
        "\n",
        "*Hint: The output/last layer is special in terms of the delta calculation. All the hidden layers have the same calculation (chain rule)*"
      ]
    },
    {
      "cell_type": "code",
      "metadata": {
        "ExecuteTime": {
          "end_time": "2019-01-27T01:30:16.547173Z",
          "start_time": "2019-01-27T01:30:16.441918Z"
        },
        "hidden": true,
        "id": "mS3Rp_Aexu4u",
        "colab_type": "code",
        "colab": {}
      },
      "source": [
        "class NeuralNetwork():\n",
        "    @staticmethod\n",
        "    def mean_squared_error(y_pred, y_true):\n",
        "        return np.mean((y_pred - y_true) ** 2)\n",
        "    \n",
        "    @staticmethod\n",
        "    def cross_entropy_loss(y_pred, y_true):\n",
        "        return -(y_true * np.log(y_pred)).sum()\n",
        "    \n",
        "    @staticmethod\n",
        "    def accuracy(y_pred, y_true):\n",
        "        return np.sum(y_pred == y_true)\n",
        "    \n",
        "    @staticmethod\n",
        "    def softmax(x):\n",
        "        expx = np.exp(x)\n",
        "        return expx / expx.sum(axis=1, keepdims=True)\n",
        "    \n",
        "    @staticmethod\n",
        "    def sigmoid(x):\n",
        "        return 1 / (1 + np.exp(-x))\n",
        "        \n",
        "    ## YOUR WORK STARTS HERE, YOU NEED TO LEAVE ALL THE OTHER FUNCTIONS AS THEY ARE   \n",
        "    \n",
        "    def __init__(self, nodes_per_layer, mode):\n",
        "        '''Creates a Feed-Forward Neural Network.\n",
        "        \"nodes_per_layer\" is a list containing number of nodes in each layer (including input layer)\n",
        "        \"mode\" can be one of 'regression' or 'classification' and controls the output activation as well as training metric'''\n",
        "        if len(nodes_per_layer) < 2:\n",
        "            raise ValueError('Network must have atleast 2 layers (input and output).')\n",
        "        if not (np.array(nodes_per_layer) > 0).all():\n",
        "            raise ValueError('Number of nodes in all layers must be positive.')\n",
        "        if mode not in ['classification','regression']:\n",
        "            raise ValueError('Only \"classification\" and \"regression\" modes are supported.')\n",
        "        \n",
        "        self.num_layers = len(nodes_per_layer) # includes input layer\n",
        "        self.nodes_per_layer = nodes_per_layer\n",
        "        self.input_shape = nodes_per_layer[0]\n",
        "        self.output_shape = nodes_per_layer[-1]\n",
        "        self.mode = mode\n",
        "        print(nodes_per_layer)\n",
        "        \n",
        "        self.__init_weights(nodes_per_layer)\n",
        "    \n",
        "    def __init_weights(self, nodes_per_layer):\n",
        "        '''Initializes all weights based on standard normal distribution and all biases to 0.'''\n",
        "        self.weights_ = []\n",
        "        self.biases_ = []\n",
        "        for i,_ in enumerate(nodes_per_layer):\n",
        "            if i == 0:\n",
        "                # skip input layer, it does not have weights/bias\n",
        "                continue\n",
        "            \n",
        "            weight_matrix = np.random.normal(size=(nodes_per_layer[i-1], nodes_per_layer[i]))\n",
        "            self.weights_.append(weight_matrix)\n",
        "            bias_vector = np.zeros(shape=(nodes_per_layer[i],))\n",
        "            self.biases_.append(bias_vector)\n",
        "    \n",
        "\n",
        "    def forward_pass(self, input_data):\n",
        "        '''Executes the feed forward algorithm.\n",
        "        \"input_data\" is the input to the network in row-major form\n",
        "        Returns \"activations\", which is a list of all layer outputs (excluding input layer of course)'''\n",
        "        \n",
        "        self.input_ = input_data\n",
        "        activations = []\n",
        "        for i,_ in enumerate(self.nodes_per_layer):\n",
        "            if i == 0:\n",
        "                continue\n",
        "            elif i == 1:\n",
        "                x = np.dot(self.input_,self.weights_[i-1]) + self.biases_[i-1]\n",
        "                activations.append(self.sigmoid(x))\n",
        "            elif i == (len(self.nodes_per_layer) - 1):\n",
        "                x = np.dot(activations[-1],self.weights_[i-1]) + self.biases_[i-1]\n",
        "                if self.mode == 'regression':\n",
        "                    activations.append(self.sigmoid(x))\n",
        "                else:\n",
        "                    activations.append(self.softmax(x))\n",
        "            else:\n",
        "                x = np.dot(activations[-1],self.weights_[i-1]) + self.biases_[i-1]\n",
        "                activations.append(self.sigmoid(x))\n",
        "        print(activations)\n",
        "        return activations\n",
        "    \n",
        "    def backward_pass(self, targets, layer_activations):\n",
        "        '''Executes the backpropogation algorithm.\n",
        "        \"targets\" is the ground truth/labels\n",
        "        \"layer_activations\" are the return value of the forward pass step\n",
        "        Returns \"deltas\", which is a list containing weight update values for all layers (excluding the input layer of course)'''\n",
        "\n",
        "        \n",
        "        deltas = []\n",
        "        for i in range(len(self.nodes_per_layer)-2, -1, -1):\n",
        "            if i == len(self.nodes_per_layer)-2:\n",
        "                err_derv = -(targets - layer_activations[i])\n",
        "                sig_derv = np.multiply(layer_activations[i],(1-layer_activations[i]))\n",
        "                deltas.append(np.multiply(err_derv,sig_derv))\n",
        "            \n",
        "            else:\n",
        "                err_derv = np.dot(deltas[-1],self.weights_[i+1].T)\n",
        "                sig_derv = np.multiply(layer_activations[i],(1-layer_activations[i]))\n",
        "                deltas.append(np.multiply(err_derv,sig_derv))\n",
        "        print(deltas)        \n",
        "        return list(reversed(deltas))\n",
        "    \n",
        "    def weight_update(self, deltas, layer_inputs, lr):\n",
        "        '''Executes the gradient descent algorithm.\n",
        "        \"deltas\" is return value of the backward pass step\n",
        "        \"layer_inputs\" is a list containing the inputs for all layers (including the input layer)\n",
        "        \"lr\" is the learning rate'''\n",
        "        \n",
        "        for i in range(len(self.nodes_per_layer)-1):\n",
        "            self.weights_[i] = self.weights_[i] -  lr * np.dot(deltas[i].T,layer_inputs[i]).T\n",
        "            self.biases_[i] = self.biases_[i] - lr * sum(deltas[i])   \n",
        "        print('Weights: ',self.weights_)\n",
        "        print('Biases: ', self.biases_)\n",
        "    ## YOUR WORK ENDS HERE, LEAVE ALL FOLLOWING FUNCTIONS ALONE\n",
        "    \n",
        "    def fit(self, Xs, Ys, epochs, lr=1e-3):\n",
        "        '''Trains the model on the given dataset for \"epoch\" number of itterations with step size=\"lr\". \n",
        "        Returns list containing loss for each epoch.'''\n",
        "        history = []\n",
        "        print(Xs.shape)\n",
        "        print(Ys.shape)\n",
        "        for epoch in tqdm_notebook(range(epochs)):\n",
        "            num_samples = Xs.shape[0]\n",
        "            for i in range(num_samples):\n",
        "                sample_input = Xs[i,:].reshape((1,self.input_shape))\n",
        "                sample_target = Ys[i,:].reshape((1,self.output_shape))\n",
        "                \n",
        "                activations = self.forward_pass(sample_input)\n",
        "                deltas = self.backward_pass(sample_target, activations)\n",
        "\n",
        "                layer_inputs = [sample_input] + activations[:-1]\n",
        "                self.weight_update(deltas, layer_inputs, lr)\n",
        "            \n",
        "            preds = self.predict(Xs)\n",
        "            if self.mode == 'regression':\n",
        "                current_loss = self.mean_squared_error(preds, Ys)\n",
        "            elif self.mode == 'classification':\n",
        "                current_loss = self.cross_entropy_loss(preds, Ys)\n",
        "            history.append(current_loss)\n",
        "        return history\n",
        "    \n",
        "    def predict(self, Xs):\n",
        "        '''Returns the model predictions (output of the last layer) for the given \"Xs\".'''\n",
        "        predictions = []\n",
        "        num_samples = Xs.shape[0]\n",
        "        for i in range(num_samples):\n",
        "            sample = Xs[i,:].reshape((1,self.input_shape))\n",
        "            sample_prediction = self.forward_pass(sample)[-1]\n",
        "            predictions.append(sample_prediction.reshape((self.output_shape,)))\n",
        "        return np.array(predictions)\n",
        "    \n",
        "    def evaluate(self, Xs, Ys):\n",
        "        '''Returns appropriate metrics for the task, calculated on the dataset passed to this method.'''\n",
        "        pred = self.predict(Xs)\n",
        "        if self.mode == 'regression':\n",
        "            return self.mean_squared_error(pred, Ys)\n",
        "        elif self.mode == 'classification':\n",
        "            return self.cross_entropy_loss(pred, Ys), self.accuracy(pred.argmax(axis=1), Ys.argmax(axis=1))\n",
        "    \n",
        "    def plot_model(self, filename):\n",
        "        '''Provide the \"filename\" as a string including file extension. Creates an image showing the model as a graph.'''\n",
        "        graph = pydot.Dot(graph_type='digraph')\n",
        "        graph.set_rankdir('LR')\n",
        "        graph.set_node_defaults(shape='circle', fontsize=0)\n",
        "        for i in range(self.num_layers-1):\n",
        "            for n1 in range(self.nodes_per_layer[i]):\n",
        "                for n2 in range(self.nodes_per_layer[i+1]):\n",
        "                    edge = pydot.Edge(f'l{i}n{n1}', f'l{i+1}n{n2}')\n",
        "                    graph.add_edge(edge)\n",
        "        graph.write_png(filename)"
      ],
      "execution_count": 0,
      "outputs": []
    },
    {
      "cell_type": "code",
      "metadata": {
        "hidden": true,
        "id": "v9zp4Nr_xu4z",
        "colab_type": "code",
        "outputId": "1eaab7c1-abd4-402f-8f21-9f4f316eac5f",
        "colab": {
          "base_uri": "https://localhost:8080/",
          "height": 237
        }
      },
      "source": [
        "nn = NeuralNetwork([2,3,2], 'classification')\n",
        "nn.plot_model('graph.png')\n",
        "Image('graph.png')"
      ],
      "execution_count": 0,
      "outputs": [
        {
          "output_type": "stream",
          "text": [
            "[2, 3, 2]\n"
          ],
          "name": "stdout"
        },
        {
          "output_type": "execute_result",
          "data": {
            "image/png": "[encoded data removed]",
            "text/plain": [
              "<IPython.core.display.Image object>"
            ]
          },
          "metadata": {
            "tags": []
          },
          "execution_count": 11
        }
      ]
    },
    {
      "cell_type": "code",
      "metadata": {
        "hidden": true,
        "id": "wmUwh4Mqxu45",
        "colab_type": "code",
        "outputId": "028090a0-c1f5-45b9-c6bd-9625c9e7ab8c",
        "colab": {
          "base_uri": "https://localhost:8080/",
          "height": 286
        }
      },
      "source": [
        "test_neural_network(NeuralNetwork, 'task3')"
      ],
      "execution_count": 0,
      "outputs": [
        {
          "output_type": "stream",
          "text": [
            "[2, 5, 2]\n",
            "Tests properly initialized\n",
            "[array([[0.5, 0.5, 0.5, 0.5, 0.5]]), array([[0.52150241, 0.47849759]])]\n",
            "Forward pass is OK\n",
            "[array([[-0.11940316,  0.11940316]]), array([[-6.90168415e-05, -6.43356930e-02,  3.47054337e-02,\n",
            "         3.96143410e-02, -1.50531455e-02]])]\n",
            "Backward pass is OK\n",
            "Weights:  [array([[ 0.49671415, -0.1382643 ,  0.64768854,  1.52302986, -0.23415337],\n",
            "       [-0.23413696,  1.57921282,  0.76743473, -0.46947439,  0.54256004]]), array([[-0.46282068, -0.46632677],\n",
            "       [ 0.24255929, -1.91387726],\n",
            "       [-1.72432082, -0.56288455],\n",
            "       [-1.0122341 ,  0.31365032],\n",
            "       [-0.90742706, -1.41290072]])]\n",
            "Biases:  [array([ 6.90168415e-07,  6.43356930e-04, -3.47054337e-04, -3.96143410e-04,\n",
            "        1.50531455e-04]), array([ 0.00119403, -0.00119403])]\n",
            "Weight update is OK\n"
          ],
          "name": "stdout"
        }
      ]
    },
    {
      "cell_type": "markdown",
      "metadata": {
        "heading_collapsed": true,
        "id": "FUhMWRkFxu4-",
        "colab_type": "text"
      },
      "source": [
        "## Task 5"
      ]
    },
    {
      "cell_type": "markdown",
      "metadata": {
        "hidden": true,
        "id": "YqNNd5aexu5A",
        "colab_type": "text"
      },
      "source": [
        "Again, if it helps copy only your code from Task3 as a starting point in the next cell. To cap off this assignment you will fully vectorize your implementation. This means changing the primary functions again. There will be a handout on LMS to explain this further.\n",
        "\n",
        "After you do this, the runtime of the `fit` function will just be $O(e)$ (again, assuming all functions called in the loop take constant time)."
      ]
    },
    {
      "cell_type": "code",
      "metadata": {
        "ExecuteTime": {
          "end_time": "2019-01-27T01:30:16.547173Z",
          "start_time": "2019-01-27T01:30:16.441918Z"
        },
        "hidden": true,
        "id": "tfL8SGWPxu5B",
        "colab_type": "code",
        "colab": {}
      },
      "source": [
        "class NeuralNetwork():\n",
        "    @staticmethod\n",
        "    def mean_squared_error(y_pred, y_true):\n",
        "        return np.mean((y_pred - y_true) ** 2)\n",
        "    \n",
        "    @staticmethod\n",
        "    def cross_entropy_loss(y_pred, y_true):\n",
        "        return -(y_true * np.log(y_pred)).sum()\n",
        "    \n",
        "    @staticmethod\n",
        "    def accuracy(y_pred, y_true):\n",
        "        return np.sum(y_pred == y_true)\n",
        "    \n",
        "    @staticmethod\n",
        "    def softmax(x):\n",
        "        expx = np.exp(x)\n",
        "        return expx / expx.sum(axis=1, keepdims=True)\n",
        "    \n",
        "    @staticmethod\n",
        "    def sigmoid(x):\n",
        "        return 1 / (1 + np.exp(-x))\n",
        "        \n",
        "    ## YOUR WORK STARTS HERE, YOU NEED TO LEAVE ALL THE OTHER FUNCTIONS AS THEY ARE   \n",
        "    \n",
        "    def __init__(self, nodes_per_layer, mode):\n",
        "        '''Creates a Feed-Forward Neural Network.\n",
        "        \"nodes_per_layer\" is a list containing number of nodes in each layer (including input layer)\n",
        "        \"mode\" can be one of 'regression' or 'classification' and controls the output activation as well as training metric'''\n",
        "        if len(nodes_per_layer) < 2:\n",
        "            raise ValueError('Network must have atleast 2 layers (input and output).')\n",
        "        if not (np.array(nodes_per_layer) > 0).all():\n",
        "            raise ValueError('Number of nodes in all layers must be positive.')\n",
        "        if mode not in ['classification','regression']:\n",
        "            raise ValueError('Only \"classification\" and \"regression\" modes are supported.')\n",
        "        \n",
        "        self.num_layers = len(nodes_per_layer) # includes input layer\n",
        "        self.nodes_per_layer = nodes_per_layer\n",
        "        self.input_shape = nodes_per_layer[0]\n",
        "        self.output_shape = nodes_per_layer[-1]\n",
        "        self.mode = mode\n",
        "        print(nodes_per_layer)\n",
        "        \n",
        "        self.__init_weights(nodes_per_layer)\n",
        "    \n",
        "    def __init_weights(self, nodes_per_layer):\n",
        "        '''Initializes all weights based on standard normal distribution and all biases to 0.'''\n",
        "        self.weights_ = []\n",
        "        self.biases_ = []\n",
        "        for i,_ in enumerate(nodes_per_layer):\n",
        "            if i == 0:\n",
        "                # skip input layer, it does not have weights/bias\n",
        "                continue\n",
        "            \n",
        "            weight_matrix = np.random.normal(size=(nodes_per_layer[i-1], nodes_per_layer[i]))\n",
        "            self.weights_.append(weight_matrix)\n",
        "            bias_vector = np.zeros(shape=(nodes_per_layer[i],))\n",
        "            self.biases_.append(bias_vector)\n",
        "    \n",
        "\n",
        "    def forward_pass(self, input_data):\n",
        "        '''Executes the feed forward algorithm.\n",
        "        \"input_data\" is the input to the network in row-major form\n",
        "        Returns \"activations\", which is a list of all layer outputs (excluding input layer of course)'''\n",
        "        \n",
        "        self.input_ = input_data\n",
        "        activations = []\n",
        "        for i,_ in enumerate(self.nodes_per_layer):\n",
        "            if i == 0:\n",
        "                continue\n",
        "            elif i == 1:\n",
        "                x = np.dot(self.input_,self.weights_[i-1]) + self.biases_[i-1]\n",
        "                activations.append(self.sigmoid(x))\n",
        "            elif i == (len(self.nodes_per_layer) - 1):\n",
        "                x = np.dot(activations[-1],self.weights_[i-1]) + self.biases_[i-1]\n",
        "                if self.mode == 'regression':\n",
        "                    activations.append(self.sigmoid(x))\n",
        "                else:\n",
        "                    activations.append(self.softmax(x))\n",
        "            else:\n",
        "                x = np.dot(activations[-1],self.weights_[i-1]) + self.biases_[i-1]\n",
        "                activations.append(self.sigmoid(x))\n",
        "        # print(activations)\n",
        "        return activations\n",
        "    \n",
        "    def backward_pass(self, targets, layer_activations):\n",
        "        '''Executes the backpropogation algorithm.\n",
        "        \"targets\" is the ground truth/labels\n",
        "        \"layer_activations\" are the return value of the forward pass step\n",
        "        Returns \"deltas\", which is a list containing weight update values for all layers (excluding the input layer of course)'''\n",
        "\n",
        "        \n",
        "        deltas = []\n",
        "        for i in range(len(self.nodes_per_layer)-2, -1, -1):\n",
        "            if i == len(self.nodes_per_layer)-2:\n",
        "                err_derv = -(targets - layer_activations[i])\n",
        "                sig_derv = np.multiply(layer_activations[i],(1-layer_activations[i]))\n",
        "                deltas.append(np.multiply(err_derv,sig_derv))\n",
        "            \n",
        "            else:\n",
        "                err_derv = np.dot(deltas[-1],self.weights_[i+1].T)\n",
        "                sig_derv = np.multiply(layer_activations[i],(1-layer_activations[i]))\n",
        "                deltas.append(np.multiply(err_derv,sig_derv))\n",
        "        # print(deltas)        \n",
        "        return list(reversed(deltas))\n",
        "    \n",
        "    def weight_update(self, deltas, layer_inputs, lr):\n",
        "        '''Executes the gradient descent algorithm.\n",
        "        \"deltas\" is return value of the backward pass step\n",
        "        \"layer_inputs\" is a list containing the inputs for all layers (including the input layer)\n",
        "        \"lr\" is the learning rate'''\n",
        "        \n",
        "        for i in range(len(self.nodes_per_layer)-1):\n",
        "            self.weights_[i] = self.weights_[i] -  lr * np.dot(deltas[i].T,layer_inputs[i]).T\n",
        "            self.biases_[i] = self.biases_[i] - lr * sum(deltas[i])   \n",
        "        # print('Weights: ',self.weights_)\n",
        "        # print('Biases: ', self.biases_)\n",
        "    ## YOUR WORK ENDS HERE, LEAVE ALL FOLLOWING FUNCTIONS ALONE\n",
        "    \n",
        "    def fit(self, Xs, Ys, epochs, lr=1e-3):\n",
        "        '''Trains the model on the given dataset for \"epoch\" number of itterations with step size=\"lr\". \n",
        "        Returns list containing loss for each epoch.'''\n",
        "        history = []\n",
        "        print(Xs.shape)\n",
        "        print(Ys.shape)\n",
        "        for epoch in tqdm_notebook(range(epochs)):\n",
        "            num_samples = Xs.shape[0]\n",
        "            for i in range(num_samples):\n",
        "                sample_input = Xs[i,:].reshape((1,self.input_shape))\n",
        "                sample_target = Ys[i,:].reshape((1,self.output_shape))\n",
        "                \n",
        "                activations = self.forward_pass(sample_input)\n",
        "                deltas = self.backward_pass(sample_target, activations)\n",
        "\n",
        "                layer_inputs = [sample_input] + activations[:-1]\n",
        "                self.weight_update(deltas, layer_inputs, lr)\n",
        "            \n",
        "            preds = self.predict(Xs)\n",
        "            if self.mode == 'regression':\n",
        "                current_loss = self.mean_squared_error(preds, Ys)\n",
        "            elif self.mode == 'classification':\n",
        "                current_loss = self.cross_entropy_loss(preds, Ys)\n",
        "            history.append(current_loss)\n",
        "        return history\n",
        "    \n",
        "    def predict(self, Xs):\n",
        "        '''Returns the model predictions (output of the last layer) for the given \"Xs\".'''\n",
        "        predictions = []\n",
        "        num_samples = Xs.shape[0]\n",
        "        for i in range(num_samples):\n",
        "            sample = Xs[i,:].reshape((1,self.input_shape))\n",
        "            sample_prediction = self.forward_pass(sample)[-1]\n",
        "            predictions.append(sample_prediction.reshape((self.output_shape,)))\n",
        "        return np.array(predictions)\n",
        "    \n",
        "    def evaluate(self, Xs, Ys):\n",
        "        '''Returns appropriate metrics for the task, calculated on the dataset passed to this method.'''\n",
        "        pred = self.predict(Xs)\n",
        "        if self.mode == 'regression':\n",
        "            return self.mean_squared_error(pred, Ys)\n",
        "        elif self.mode == 'classification':\n",
        "            return self.cross_entropy_loss(pred, Ys), self.accuracy(pred.argmax(axis=1), Ys.argmax(axis=1))\n",
        "    \n",
        "    def plot_model(self, filename):\n",
        "        '''Provide the \"filename\" as a string including file extension. Creates an image showing the model as a graph.'''\n",
        "        graph = pydot.Dot(graph_type='digraph')\n",
        "        graph.set_rankdir('LR')\n",
        "        graph.set_node_defaults(shape='circle', fontsize=0)\n",
        "        for i in range(self.num_layers-1):\n",
        "            for n1 in range(self.nodes_per_layer[i]):\n",
        "                for n2 in range(self.nodes_per_layer[i+1]):\n",
        "                    edge = pydot.Edge(f'l{i}n{n1}', f'l{i+1}n{n2}')\n",
        "                    graph.add_edge(edge)\n",
        "        graph.write_png(filename)"
      ],
      "execution_count": 0,
      "outputs": []
    },
    {
      "cell_type": "code",
      "metadata": {
        "hidden": true,
        "id": "EGLksNrgxu5F",
        "colab_type": "code",
        "outputId": "d6204928-25fd-431c-c8c3-95a2447123d4",
        "colab": {
          "base_uri": "https://localhost:8080/",
          "height": 381
        }
      },
      "source": [
        "nn = NeuralNetwork([2,5,2], 'classification')\n",
        "nn.plot_model('graph.png')\n",
        "Image('graph.png')"
      ],
      "execution_count": 0,
      "outputs": [
        {
          "output_type": "stream",
          "text": [
            "[2, 5, 2]\n"
          ],
          "name": "stdout"
        },
        {
          "output_type": "execute_result",
          "data": {
            "image/png": "[encoded data removed]",
            "text/plain": [
              "<IPython.core.display.Image object>"
            ]
          },
          "metadata": {
            "tags": []
          },
          "execution_count": 11
        }
      ]
    },
    {
      "cell_type": "code",
      "metadata": {
        "hidden": true,
        "id": "_IrkO6jXxu5L",
        "colab_type": "code",
        "outputId": "af630afe-4bf7-4e95-a134-a840e2fc56df",
        "colab": {
          "base_uri": "https://localhost:8080/",
          "height": 101
        }
      },
      "source": [
        "test_neural_network(NeuralNetwork, 'task5')"
      ],
      "execution_count": 0,
      "outputs": [
        {
          "output_type": "stream",
          "text": [
            "[2, 5, 2]\n",
            "Tests properly initialized\n",
            "Forward pass is OK\n",
            "Backward pass is OK\n",
            "Weight update is OK\n"
          ],
          "name": "stdout"
        }
      ]
    },
    {
      "cell_type": "markdown",
      "metadata": {
        "id": "yc2NuYpXxu5T",
        "colab_type": "text"
      },
      "source": [
        "## Dummy Regression Task"
      ]
    },
    {
      "cell_type": "code",
      "metadata": {
        "ExecuteTime": {
          "end_time": "2019-01-27T01:33:04.290893Z",
          "start_time": "2019-01-27T01:33:03.930796Z"
        },
        "id": "UJcnJX8-xu5V",
        "colab_type": "code",
        "outputId": "7271bf31-8d36-4663-e524-bb8954f54733",
        "colab": {
          "base_uri": "https://localhost:8080/",
          "height": 212
        }
      },
      "source": [
        "a = np.random.uniform(low=0.0, high=0.5, size=(150,))\n",
        "b = np.random.uniform(low=0.0, high=0.5, size=(150,))\n",
        "dataset = pd.DataFrame({\n",
        "    'var1':   a,\n",
        "    'var2':   b,\n",
        "    'output': a+b,\n",
        "})\n",
        "print(dataset.shape)\n",
        "dataset.head()"
      ],
      "execution_count": 0,
      "outputs": [
        {
          "output_type": "stream",
          "text": [
            "(150, 3)\n"
          ],
          "name": "stdout"
        },
        {
          "output_type": "execute_result",
          "data": {
            "text/html": [
              "<div>\n",
              "<style scoped>\n",
              "    .dataframe tbody tr th:only-of-type {\n",
              "        vertical-align: middle;\n",
              "    }\n",
              "\n",
              "    .dataframe tbody tr th {\n",
              "        vertical-align: top;\n",
              "    }\n",
              "\n",
              "    .dataframe thead th {\n",
              "        text-align: right;\n",
              "    }\n",
              "</style>\n",
              "<table border=\"1\" class=\"dataframe\">\n",
              "  <thead>\n",
              "    <tr style=\"text-align: right;\">\n",
              "      <th></th>\n",
              "      <th>var1</th>\n",
              "      <th>var2</th>\n",
              "      <th>output</th>\n",
              "    </tr>\n",
              "  </thead>\n",
              "  <tbody>\n",
              "    <tr>\n",
              "      <th>0</th>\n",
              "      <td>0.228035</td>\n",
              "      <td>0.322586</td>\n",
              "      <td>0.550621</td>\n",
              "    </tr>\n",
              "    <tr>\n",
              "      <th>1</th>\n",
              "      <td>0.392588</td>\n",
              "      <td>0.087183</td>\n",
              "      <td>0.479771</td>\n",
              "    </tr>\n",
              "    <tr>\n",
              "      <th>2</th>\n",
              "      <td>0.099837</td>\n",
              "      <td>0.345469</td>\n",
              "      <td>0.445306</td>\n",
              "    </tr>\n",
              "    <tr>\n",
              "      <th>3</th>\n",
              "      <td>0.257117</td>\n",
              "      <td>0.193368</td>\n",
              "      <td>0.450485</td>\n",
              "    </tr>\n",
              "    <tr>\n",
              "      <th>4</th>\n",
              "      <td>0.296207</td>\n",
              "      <td>0.468365</td>\n",
              "      <td>0.764572</td>\n",
              "    </tr>\n",
              "  </tbody>\n",
              "</table>\n",
              "</div>"
            ],
            "text/plain": [
              "       var1      var2    output\n",
              "0  0.228035  0.322586  0.550621\n",
              "1  0.392588  0.087183  0.479771\n",
              "2  0.099837  0.345469  0.445306\n",
              "3  0.257117  0.193368  0.450485\n",
              "4  0.296207  0.468365  0.764572"
            ]
          },
          "metadata": {
            "tags": []
          },
          "execution_count": 13
        }
      ]
    },
    {
      "cell_type": "code",
      "metadata": {
        "ExecuteTime": {
          "end_time": "2019-01-27T01:33:44.580767Z",
          "start_time": "2019-01-27T01:33:44.565440Z"
        },
        "id": "JIfKIlG7xu5a",
        "colab_type": "code",
        "outputId": "60629af1-8f23-4d6f-b04c-e91e8cfcc13b",
        "colab": {
          "base_uri": "https://localhost:8080/",
          "height": 381
        }
      },
      "source": [
        "nn = NeuralNetwork([2,3,5,1], 'regression')\n",
        "nn.plot_model('graph.png')\n",
        "Image('graph.png')"
      ],
      "execution_count": 0,
      "outputs": [
        {
          "output_type": "stream",
          "text": [
            "[2, 3, 5, 1]\n"
          ],
          "name": "stdout"
        },
        {
          "output_type": "execute_result",
          "data": {
            "image/png": "[encoded data removed]",
            "text/plain": [
              "<IPython.core.display.Image object>"
            ]
          },
          "metadata": {
            "tags": []
          },
          "execution_count": 14
        }
      ]
    },
    {
      "cell_type": "code",
      "metadata": {
        "ExecuteTime": {
          "end_time": "2019-01-30T14:39:43.311192Z",
          "start_time": "2019-01-30T14:39:41.481315Z"
        },
        "id": "Sk6T0-P1xu5f",
        "colab_type": "code",
        "outputId": "4bbae381-b64c-419b-acc5-47227a45db47",
        "colab": {
          "base_uri": "https://localhost:8080/",
          "height": 458,
          "referenced_widgets": [
            "f55984e4adaa416aab58f588c4868a99",
            "fd7877f4474645a89ae6e9bd314e4685",
            "fbbb2fa1cb224675bc4221f39706b207",
            "65cdfb3315ca49a487c64dcb71c48bfe",
            "5bc091c0bd0c414eb003cbe299c16fcb",
            "169d1ebc7d764e00a4ed72dbf20da044",
            "94b07df8a3794ae993eba963a1107808",
            "e90fd073edab43a0b1f8c21eef5cea38"
          ]
        }
      },
      "source": [
        "history = nn.fit(dataset[['var1','var2']].values, dataset[['output']].values, epochs=2000, lr=0.001)\n",
        "plt.plot(history);\n",
        "plt.gca().set(xlabel='Epoch', ylabel='MSE', title='Training Plot {}'.format(rollnumber));"
      ],
      "execution_count": 0,
      "outputs": [
        {
          "output_type": "stream",
          "text": [
            "(150, 2)\n",
            "(150, 1)\n"
          ],
          "name": "stdout"
        },
        {
          "output_type": "display_data",
          "data": {
            "application/vnd.jupyter.widget-view+json": {
              "model_id": "f55984e4adaa416aab58f588c4868a99",
              "version_minor": 0,
              "version_major": 2
            },
            "text/plain": [
              "HBox(children=(IntProgress(value=0, max=2000), HTML(value='')))"
            ]
          },
          "metadata": {
            "tags": []
          }
        },
        {
          "output_type": "stream",
          "text": [
            "\n"
          ],
          "name": "stdout"
        },
        {
          "output_type": "display_data",
          "data": {
            "image/png": "[encoded data removed]",
            "text/plain": [
              "<Figure size 576x396 with 1 Axes>"
            ]
          },
          "metadata": {
            "tags": []
          }
        }
      ]
    },
    {
      "cell_type": "code",
      "metadata": {
        "ExecuteTime": {
          "end_time": "2019-01-27T01:33:49.920877Z",
          "start_time": "2019-01-27T01:33:49.860922Z"
        },
        "id": "yWWs-DdWxu5z",
        "colab_type": "code",
        "outputId": "7720b5a8-7b7a-4759-fda2-3f8a6ae7460e",
        "colab": {
          "base_uri": "https://localhost:8080/",
          "height": 50
        }
      },
      "source": [
        "test_data = np.array([[0.4,0.1],\n",
        "                      [0.2,0.3]])\n",
        "nn.predict(test_data)"
      ],
      "execution_count": 0,
      "outputs": [
        {
          "output_type": "execute_result",
          "data": {
            "text/plain": [
              "array([[0.50839665],\n",
              "       [0.49844364]])"
            ]
          },
          "metadata": {
            "tags": []
          },
          "execution_count": 16
        }
      ]
    },
    {
      "cell_type": "markdown",
      "metadata": {
        "id": "6KPuhCmyxu53",
        "colab_type": "text"
      },
      "source": [
        "## Dummy Classification Task"
      ]
    },
    {
      "cell_type": "code",
      "metadata": {
        "ExecuteTime": {
          "end_time": "2019-01-27T01:33:56.370640Z",
          "start_time": "2019-01-27T01:33:56.320595Z"
        },
        "id": "hhO0DhUHxu54",
        "colab_type": "code",
        "outputId": "d94ae96c-a357-4306-f7b1-543a91f75e4a",
        "colab": {
          "base_uri": "https://localhost:8080/",
          "height": 182
        }
      },
      "source": [
        "# XOR logic operator\n",
        "dataset = pd.DataFrame({\n",
        "    'var1':   [0, 0, 1, 1],\n",
        "    'var2':   [0, 1, 0, 1],\n",
        "    'output': [0, 1, 1, 0],\n",
        "})\n",
        "dataset = pd.get_dummies(dataset, columns=['output'])\n",
        "dataset['output'] = pd.Series([0, 1, 1, 0])\n",
        "print(dataset.shape)\n",
        "dataset.head()\n",
        "# The columns 'output_0' and 'output_1' are one-hot encoded representation of the categorical column 'output'"
      ],
      "execution_count": 0,
      "outputs": [
        {
          "output_type": "stream",
          "text": [
            "(4, 5)\n"
          ],
          "name": "stdout"
        },
        {
          "output_type": "execute_result",
          "data": {
            "text/html": [
              "<div>\n",
              "<style scoped>\n",
              "    .dataframe tbody tr th:only-of-type {\n",
              "        vertical-align: middle;\n",
              "    }\n",
              "\n",
              "    .dataframe tbody tr th {\n",
              "        vertical-align: top;\n",
              "    }\n",
              "\n",
              "    .dataframe thead th {\n",
              "        text-align: right;\n",
              "    }\n",
              "</style>\n",
              "<table border=\"1\" class=\"dataframe\">\n",
              "  <thead>\n",
              "    <tr style=\"text-align: right;\">\n",
              "      <th></th>\n",
              "      <th>var1</th>\n",
              "      <th>var2</th>\n",
              "      <th>output_0</th>\n",
              "      <th>output_1</th>\n",
              "      <th>output</th>\n",
              "    </tr>\n",
              "  </thead>\n",
              "  <tbody>\n",
              "    <tr>\n",
              "      <th>0</th>\n",
              "      <td>0</td>\n",
              "      <td>0</td>\n",
              "      <td>1</td>\n",
              "      <td>0</td>\n",
              "      <td>0</td>\n",
              "    </tr>\n",
              "    <tr>\n",
              "      <th>1</th>\n",
              "      <td>0</td>\n",
              "      <td>1</td>\n",
              "      <td>0</td>\n",
              "      <td>1</td>\n",
              "      <td>1</td>\n",
              "    </tr>\n",
              "    <tr>\n",
              "      <th>2</th>\n",
              "      <td>1</td>\n",
              "      <td>0</td>\n",
              "      <td>0</td>\n",
              "      <td>1</td>\n",
              "      <td>1</td>\n",
              "    </tr>\n",
              "    <tr>\n",
              "      <th>3</th>\n",
              "      <td>1</td>\n",
              "      <td>1</td>\n",
              "      <td>1</td>\n",
              "      <td>0</td>\n",
              "      <td>0</td>\n",
              "    </tr>\n",
              "  </tbody>\n",
              "</table>\n",
              "</div>"
            ],
            "text/plain": [
              "   var1  var2  output_0  output_1  output\n",
              "0     0     0         1         0       0\n",
              "1     0     1         0         1       1\n",
              "2     1     0         0         1       1\n",
              "3     1     1         1         0       0"
            ]
          },
          "metadata": {
            "tags": []
          },
          "execution_count": 17
        }
      ]
    },
    {
      "cell_type": "code",
      "metadata": {
        "ExecuteTime": {
          "end_time": "2019-01-27T01:33:57.600944Z",
          "start_time": "2019-01-27T01:33:57.580951Z"
        },
        "id": "xSN064nwxu59",
        "colab_type": "code",
        "outputId": "dd87fbe5-26f2-4ba3-c27b-694f75ef04ff",
        "colab": {
          "base_uri": "https://localhost:8080/",
          "height": 381
        }
      },
      "source": [
        "nn = NeuralNetwork([2,5,2], 'classification')\n",
        "nn.plot_model('graph.png')\n",
        "Image('graph.png')"
      ],
      "execution_count": 0,
      "outputs": [
        {
          "output_type": "stream",
          "text": [
            "[2, 5, 2]\n"
          ],
          "name": "stdout"
        },
        {
          "output_type": "execute_result",
          "data": {
            "image/png": "[encoded data removed]",
            "text/plain": [
              "<IPython.core.display.Image object>"
            ]
          },
          "metadata": {
            "tags": []
          },
          "execution_count": 18
        }
      ]
    },
    {
      "cell_type": "code",
      "metadata": {
        "ExecuteTime": {
          "end_time": "2019-01-27T01:34:01.160593Z",
          "start_time": "2019-01-27T01:33:59.950512Z"
        },
        "id": "AT2d-bqbxu6B",
        "colab_type": "code",
        "outputId": "6ddf4677-9392-403a-9a5f-cdd99c7dd4cb",
        "colab": {
          "base_uri": "https://localhost:8080/",
          "height": 458,
          "referenced_widgets": [
            "9baf8539d6b444948277a34a08e93a0b",
            "9a530a7be1cd4b2cb0d6567253ae29d3",
            "023234bc3d8044258ae2f4ee62310e8e",
            "c4efc65d68b843dabf03752505dd31c0",
            "b8b545c388424bfeb0007e5c28b7d24a",
            "d6b0b44620294727851bf4157c79b4fb",
            "dca83f467a63453e96428c18bb2600d3",
            "283058afee234a45b561f104e1ac07a2"
          ]
        }
      },
      "source": [
        "history = nn.fit(dataset[['var1','var2']].values, dataset[['output_0','output_1']].values, epochs=3000, lr=0.01)\n",
        "plt.plot(history);\n",
        "plt.gca().set(xlabel='Epoch', ylabel='Cross-entropy', title='Training Plot {}'.format(rollnumber));"
      ],
      "execution_count": 0,
      "outputs": [
        {
          "output_type": "stream",
          "text": [
            "(4, 2)\n",
            "(4, 2)\n"
          ],
          "name": "stdout"
        },
        {
          "output_type": "display_data",
          "data": {
            "application/vnd.jupyter.widget-view+json": {
              "model_id": "9baf8539d6b444948277a34a08e93a0b",
              "version_minor": 0,
              "version_major": 2
            },
            "text/plain": [
              "HBox(children=(IntProgress(value=0, max=3000), HTML(value='')))"
            ]
          },
          "metadata": {
            "tags": []
          }
        },
        {
          "output_type": "stream",
          "text": [
            "\n"
          ],
          "name": "stdout"
        },
        {
          "output_type": "display_data",
          "data": {
            "image/png": "[encoded data removed]",
            "text/plain": [
              "<Figure size 576x396 with 1 Axes>"
            ]
          },
          "metadata": {
            "tags": []
          }
        }
      ]
    },
    {
      "cell_type": "code",
      "metadata": {
        "ExecuteTime": {
          "end_time": "2019-01-27T01:34:03.210522Z",
          "start_time": "2019-01-27T01:34:03.190866Z"
        },
        "id": "YbIrtGjKxu6G",
        "colab_type": "code",
        "outputId": "a7d41893-8832-4209-ac7e-2c60bfe50310",
        "colab": {
          "base_uri": "https://localhost:8080/",
          "height": 34
        }
      },
      "source": [
        "nn.predict(dataset[['var1','var2']].values).argmax(axis=1) == dataset[['output_0','output_1']].values.argmax(axis=1)"
      ],
      "execution_count": 0,
      "outputs": [
        {
          "output_type": "execute_result",
          "data": {
            "text/plain": [
              "array([ True, False,  True,  True])"
            ]
          },
          "metadata": {
            "tags": []
          },
          "execution_count": 20
        }
      ]
    },
    {
      "cell_type": "markdown",
      "metadata": {
        "id": "Twk-wWtUBIp1",
        "colab_type": "text"
      },
      "source": [
        "## Regression Demo"
      ]
    },
    {
      "cell_type": "code",
      "metadata": {
        "id": "t0C8g6BHz39K",
        "colab_type": "code",
        "outputId": "07eb7590-b9d1-4fd6-9615-0dda3d65137f",
        "colab": {
          "base_uri": "https://localhost:8080/",
          "height": 347
        }
      },
      "source": [
        "data_x, _ = make_moons(200, noise=0.18)\n",
        "plt.scatter(data_x[:,0], data_x[:,1]);"
      ],
      "execution_count": 0,
      "outputs": [
        {
          "output_type": "display_data",
          "data": {
            "image/png": "[encoded data removed]",
            "text/plain": [
              "<Figure size 576x396 with 1 Axes>"
            ]
          },
          "metadata": {
            "tags": []
          }
        }
      ]
    },
    {
      "cell_type": "code",
      "metadata": {
        "id": "u3n8BTe9BMpV",
        "colab_type": "code",
        "colab": {}
      },
      "source": [
        "reg = LinearRegression()\n",
        "reg = reg.fit(data_x[:,0].reshape((200,1)), data_x[:,1].reshape((200,1)));\n",
        "\n",
        "d = np.arange(-1.5, 2.5, 0.1).reshape((40,1))\n",
        "preds = reg.predict(d)"
      ],
      "execution_count": 0,
      "outputs": []
    },
    {
      "cell_type": "code",
      "metadata": {
        "id": "uLR5djeMBPIQ",
        "colab_type": "code",
        "outputId": "3ad966b2-1ae3-417e-827c-f43c5e98b23c",
        "colab": {
          "base_uri": "https://localhost:8080/",
          "height": 376
        }
      },
      "source": [
        "fig, ax = plt.subplots()\n",
        "ax.scatter(data_x[:,0].reshape((200,1)), data_x[:,1].reshape((200,1)));\n",
        "ax.plot(d.flatten(), preds.flatten(), c='tab:red', label='Prediction');\n",
        "ax.set(xlabel='Input Feature', ylabel='Target Variable', title='Linear Regression {}'.format(rollnumber));\n",
        "ax.legend();"
      ],
      "execution_count": 0,
      "outputs": [
        {
          "output_type": "display_data",
          "data": {
            "image/png": "[encoded data removed]",
            "text/plain": [
              "<Figure size 576x396 with 1 Axes>"
            ]
          },
          "metadata": {
            "tags": []
          }
        }
      ]
    },
    {
      "cell_type": "code",
      "metadata": {
        "id": "xEtICPyCBR2a",
        "colab_type": "code",
        "outputId": "eaef0bd7-1133-4b0e-efc2-b3b16729ed2c",
        "colab": {
          "base_uri": "https://localhost:8080/",
          "height": 475,
          "referenced_widgets": [
            "4bd07e51ce0343cebfec5ccecfdad815",
            "f849b586963e4afb88b5a145b7f63d9f",
            "c4ae9d19eb124944b0a5a9a2c3ead439",
            "ba44de319e7a4dd9a38aca64058238fe",
            "a906e0b322554dd482104fad363552c5",
            "14f6d2d31e01460e91e1c6aaf31d839b",
            "37958f6cba2641c89face4ed6c066222",
            "3bc7d7ba37f949938891ccae951197d4"
          ]
        }
      },
      "source": [
        "nn = NeuralNetwork([1,10,20,10,1], 'regression')\n",
        "history = nn.fit(data_x[:,0].reshape((200,1)), data_x[:,1].reshape((200,1)), epochs=20000, lr=1e-4)\n",
        "preds = nn.predict(d)\n",
        "plt.plot(history);\n",
        "plt.gca().set(xlabel='Epoch', ylabel='MSE', title='Training Plot {}'.format(rollnumber));"
      ],
      "execution_count": 0,
      "outputs": [
        {
          "output_type": "stream",
          "text": [
            "[1, 10, 20, 10, 1]\n",
            "(200, 1)\n",
            "(200, 1)\n"
          ],
          "name": "stdout"
        },
        {
          "output_type": "display_data",
          "data": {
            "application/vnd.jupyter.widget-view+json": {
              "model_id": "4bd07e51ce0343cebfec5ccecfdad815",
              "version_minor": 0,
              "version_major": 2
            },
            "text/plain": [
              "HBox(children=(IntProgress(value=0, max=20000), HTML(value='')))"
            ]
          },
          "metadata": {
            "tags": []
          }
        },
        {
          "output_type": "stream",
          "text": [
            "\n"
          ],
          "name": "stdout"
        },
        {
          "output_type": "display_data",
          "data": {
            "image/png": "[encoded data removed]",
            "text/plain": [
              "<Figure size 576x396 with 1 Axes>"
            ]
          },
          "metadata": {
            "tags": []
          }
        }
      ]
    },
    {
      "cell_type": "code",
      "metadata": {
        "id": "rynnP9wxBRZ-",
        "colab_type": "code",
        "outputId": "f53fa6d0-f339-48c4-9d01-4fe7e54ac3a4",
        "colab": {
          "base_uri": "https://localhost:8080/",
          "height": 376
        }
      },
      "source": [
        "fig, ax = plt.subplots()\n",
        "ax.scatter(data_x[:,0].reshape((200,1)), data_x[:,1].reshape((200,1)));\n",
        "ax.plot(d.flatten(), preds.flatten(), c='tab:red', label='Prediction');\n",
        "ax.set(xlabel='Input Feature', ylabel='Target Variable', title='Neural Network Regression {}'.format(rollnumber));\n",
        "ax.legend();"
      ],
      "execution_count": 0,
      "outputs": [
        {
          "output_type": "display_data",
          "data": {
            "image/png": "[encoded data removed]",
            "text/plain": [
              "<Figure size 576x396 with 1 Axes>"
            ]
          },
          "metadata": {
            "tags": []
          }
        }
      ]
    },
    {
      "cell_type": "markdown",
      "metadata": {
        "id": "vZrBxi-1BXWe",
        "colab_type": "text"
      },
      "source": [
        "## Classification Demo"
      ]
    },
    {
      "cell_type": "code",
      "metadata": {
        "id": "bH0YC6wOBaNa",
        "colab_type": "code",
        "colab": {}
      },
      "source": [
        "# Helper function to plot a decision boundary.\n",
        "# If you don't fully understand this function don't worry\n",
        "def plot_decision_boundary(pred_func, x_min, x_max, y_min, y_max, cmap, ax):\n",
        "    h = 0.01\n",
        "    # Generate a grid of points with distance h between them\n",
        "    xx, yy = np.meshgrid(np.arange(x_min, x_max, h), np.arange(y_min, y_max, h))\n",
        "    # Predict the function value for the whole gid\n",
        "    Z = pred_func(np.c_[xx.flatten(), yy.flatten()])\n",
        "    Z = Z.reshape(xx.shape)\n",
        "    # Plot the contour\n",
        "    ax.contourf(xx, yy, Z, cmap=cmap, alpha=0.5)"
      ],
      "execution_count": 0,
      "outputs": []
    },
    {
      "cell_type": "code",
      "metadata": {
        "id": "IwnmN1CbBfQj",
        "colab_type": "code",
        "outputId": "e9de3393-8f5f-4b8b-94f6-e16d6e6d883e",
        "colab": {
          "base_uri": "https://localhost:8080/",
          "height": 361
        }
      },
      "source": [
        "data_x, data_y = make_moons(200, noise=0.20)\n",
        "plt.scatter(data_x[:,0], data_x[:,1], c=data_y, cmap=plt.cm.Spectral);\n",
        "plt.gca().set(xlabel='Feature 1', ylabel='Feature 2');"
      ],
      "execution_count": 0,
      "outputs": [
        {
          "output_type": "display_data",
          "data": {
            "image/png": "[encoded data removed]",
            "text/plain": [
              "<Figure size 576x396 with 1 Axes>"
            ]
          },
          "metadata": {
            "tags": []
          }
        }
      ]
    },
    {
      "cell_type": "code",
      "metadata": {
        "id": "xbNWi5czBe9J",
        "colab_type": "code",
        "colab": {}
      },
      "source": [
        "clf = LogisticRegression(solver='lbfgs')\n",
        "clf = clf.fit(data_x, data_y);"
      ],
      "execution_count": 0,
      "outputs": []
    },
    {
      "cell_type": "code",
      "metadata": {
        "id": "2gkWPN68Bel8",
        "colab_type": "code",
        "outputId": "4358ccb0-c1df-4f67-bc79-0162511e4648",
        "colab": {
          "base_uri": "https://localhost:8080/",
          "height": 376
        }
      },
      "source": [
        "fig, ax = plt.subplots()\n",
        "x_min, x_max = data_x[:, 0].min() - .5, data_x[:, 0].max() + .5\n",
        "y_min, y_max = data_x[:, 1].min() - .5, data_x[:, 1].max() + .5\n",
        "plot_decision_boundary(lambda x: clf.predict(x), \n",
        "                       x_min, x_max, y_min, y_max, \n",
        "                       plt.cm.Spectral, ax)\n",
        "ax.scatter(data_x[:,0], data_x[:,1], c=data_y, cmap=plt.cm.Spectral);\n",
        "ax.set(xlabel='Feature 1', ylabel='Feature 2', title='Logistic Regression Classifier {}'.format(rollnumber));"
      ],
      "execution_count": 0,
      "outputs": [
        {
          "output_type": "display_data",
          "data": {
            "image/png": "[encoded data removed]",
            "text/plain": [
              "<Figure size 576x396 with 1 Axes>"
            ]
          },
          "metadata": {
            "tags": []
          }
        }
      ]
    },
    {
      "cell_type": "code",
      "metadata": {
        "id": "EICVDQ7jBePF",
        "colab_type": "code",
        "outputId": "e58c006e-fa09-485d-b04f-2ba989f4d87b",
        "colab": {
          "base_uri": "https://localhost:8080/",
          "height": 475,
          "referenced_widgets": [
            "92aca2a2911f4fd68be0fe25b682b765",
            "236f030f4dbb433e8bd729e802670ef4",
            "edc9ef144d4e4f589ed17733b7d3d9f0",
            "ac35de990f01462fb962bca0c6780c08",
            "348ed94413e349ddaaf51c208c841350",
            "68ce36808efd4ee783aff11176eb4d93",
            "bb4e80ae1a6e456c8480092f47c93d5d",
            "66543b907d5b4ac4b422e05e951e877a"
          ]
        }
      },
      "source": [
        "nn = NeuralNetwork([2,10,10,2], 'classification')\n",
        "history = nn.fit(data_x, pd.get_dummies(data_y).values, epochs=5000, lr=1e-3)\n",
        "plt.plot(history);\n",
        "plt.gca().set(xlabel='Epoch', ylabel='Cross-entropy', title='Training Plot {}'.format(rollnumber));"
      ],
      "execution_count": 0,
      "outputs": [
        {
          "output_type": "stream",
          "text": [
            "[2, 10, 10, 2]\n",
            "(200, 2)\n",
            "(200, 2)\n"
          ],
          "name": "stdout"
        },
        {
          "output_type": "display_data",
          "data": {
            "application/vnd.jupyter.widget-view+json": {
              "model_id": "92aca2a2911f4fd68be0fe25b682b765",
              "version_minor": 0,
              "version_major": 2
            },
            "text/plain": [
              "HBox(children=(IntProgress(value=0, max=5000), HTML(value='')))"
            ]
          },
          "metadata": {
            "tags": []
          }
        },
        {
          "output_type": "stream",
          "text": [
            "\n"
          ],
          "name": "stdout"
        },
        {
          "output_type": "display_data",
          "data": {
            "image/png": "[encoded data removed]",
            "text/plain": [
              "<Figure size 576x396 with 1 Axes>"
            ]
          },
          "metadata": {
            "tags": []
          }
        }
      ]
    },
    {
      "cell_type": "code",
      "metadata": {
        "id": "36p3KqGbBdiy",
        "colab_type": "code",
        "outputId": "2498ecbb-85ce-421e-a8c9-e2607886d8b4",
        "colab": {
          "base_uri": "https://localhost:8080/",
          "height": 376
        }
      },
      "source": [
        "fig, ax = plt.subplots()\n",
        "x_min, x_max = data_x[:, 0].min() - .5, data_x[:, 0].max() + .5\n",
        "y_min, y_max = data_x[:, 1].min() - .5, data_x[:, 1].max() + .5\n",
        "plot_decision_boundary(lambda x: nn.predict(x).argmax(axis=1), \n",
        "                       x_min, x_max, y_min, y_max, \n",
        "                       plt.cm.Spectral, ax)\n",
        "ax.scatter(data_x[:,0], data_x[:,1], c=data_y, cmap=plt.cm.Spectral);\n",
        "ax.set(xlabel='Feature 1', ylabel='Feature 2', title='Neural Network Classifier {}'.format(rollnumber));"
      ],
      "execution_count": 0,
      "outputs": [
        {
          "output_type": "display_data",
          "data": {
            "image/png": "[encoded data removed]",
            "text/plain": [
              "<Figure size 576x396 with 1 Axes>"
            ]
          },
          "metadata": {
            "tags": []
          }
        }
      ]
    },
    {
      "cell_type": "code",
      "metadata": {
        "id": "B2OXcnstTox5",
        "colab_type": "code",
        "colab": {}
      },
      "source": [
        ""
      ],
      "execution_count": 0,
      "outputs": []
    }
  ]
}