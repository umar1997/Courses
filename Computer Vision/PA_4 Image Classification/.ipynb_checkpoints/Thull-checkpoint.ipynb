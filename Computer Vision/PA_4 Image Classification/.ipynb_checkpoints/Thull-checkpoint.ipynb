{
 "cells": [
  {
   "cell_type": "markdown",
   "metadata": {
    "colab_type": "text",
    "id": "XtPWtWdMlSsu"
   },
   "source": [
    "# CS 436 CS5310 - Computer Vision - Assignment 4\n",
    "\n",
    "*__Submission Instructions:__*\n",
    "- Rename this notebook to `PA4_rollnumber.ipynb` before submission on LMS.\n",
    "- Code for all the tasks must be written in this notebook (you do not need to submit any other files).\n",
    "- The output of all cells must be present in the version of the notebook you submit.\n",
    "- The university honor code should be maintained. Any violation, if found, will result in disciplinary action. "
   ]
  },
  {
   "cell_type": "code",
   "execution_count": 52,
   "metadata": {
    "colab": {
     "base_uri": "https://localhost:8080/",
     "height": 34
    },
    "colab_type": "code",
    "id": "mzxpMqE8lSsx",
    "outputId": "c83d2ead-5339-4e1f-fcb1-cc1977687ebe"
   },
   "outputs": [
    {
     "name": "stdout",
     "output_type": "stream",
     "text": [
      "Drive already mounted at /content/gdrive; to attempt to forcibly remount, call drive.mount(\"/content/gdrive\", force_remount=True).\n"
     ]
    }
   ],
   "source": [
    "#Import all the required libraries\n",
    "\n",
    "import numpy as np\n",
    "%matplotlib inline\n",
    "import matplotlib.pyplot as plt\n",
    "plt.style.use('seaborn')\n",
    "import seaborn as sns\n",
    "from keras.models import load_model\n",
    "from keras.applications import vgg16\n",
    "from keras.applications.vgg16 import decode_predictions\n",
    "from keras.optimizers import SGD,Adam\n",
    "from keras.preprocessing.image import load_img\n",
    "from keras.preprocessing.image import img_to_array\n",
    "from sklearn.metrics import confusion_matrix\n",
    "from glob import glob\n",
    "import cv2\n",
    "import os\n",
    "from keras.layers import Dense,Flatten\n",
    "from keras.models import Model\n",
    "from google.colab import drive\n",
    "from keras.callbacks import ModelCheckpoint, EarlyStopping\n",
    "drive.mount('/content/gdrive')\n",
    "\n",
    "\n",
    "\n"
   ]
  },
  {
   "cell_type": "code",
   "execution_count": 3,
   "metadata": {
    "colab": {
     "base_uri": "https://localhost:8080/",
     "height": 63
    },
    "colab_type": "code",
    "id": "piI1FUK3ztmJ",
    "outputId": "1bb1c29f-d72b-48cd-8901-6f53a6b203ef"
   },
   "outputs": [
    {
     "name": "stdout",
     "output_type": "stream",
     "text": [
      "fruits-trainValidate.zip  PA4_DeepLearning.ipynb  test-multiple_fruits.zip\n"
     ]
    }
   ],
   "source": [
    "!ls \"/content/gdrive/My Drive/Colab Notebooks\"\n",
    "!unzip -qq \"/content/gdrive/My Drive/Colab Notebooks/test-multiple_fruits.zip\"\n",
    "!unzip -qq \"/content/gdrive/My Drive/Colab Notebooks/fruits-trainValidate.zip\"\n"
   ]
  },
  {
   "cell_type": "code",
   "execution_count": 0,
   "metadata": {
    "colab": {},
    "colab_type": "code",
    "id": "IUMLyHs1lSs5"
   },
   "outputs": [],
   "source": []
  },
  {
   "cell_type": "markdown",
   "metadata": {
    "colab_type": "text",
    "id": "5GBwPME6lStA",
    "toc-hr-collapsed": false
   },
   "source": [
    "## Overview\n",
    "\n",
    "In this assignment you will be exploring a few important concepts used in the deep learning projects:\n",
    "- Training image classification algorithms using Deep Learning\n",
    "- Dataset Analyses \n",
    "- Testing deep learning classifier with the test data\n",
    "- Fine-tuning / Transfer Learning\n",
    "\n",
    "We will be using a customized datasets, the links to download the data are provided to you. You will also be working with pretrained models, which could be downloaded from keras applications. You are **highly** encouraged to explore the images in dataset and model architectures in order to get the most out of this assignment. \n",
    "\n",
    "**_Dataset:_**\n",
    "- D1- Test Data for evaluating the pretrained model (VGG-16) can be found in the folder \"test-multiple_fruits\" [here](https://drive.google.com/drive/folders/1ViePNUqS3LmPkaW6vJ1cRb4YGyIkWpqz?usp=sharing)\n",
    "- D2- Data to be used for fine-tuning VGG-16 for 75 classes of fruits could be downloaded from the same link in the folder \"fruits-trainValidate\"\n",
    "\n",
    "\n",
    "**_Pretrained Models:_** \n",
    "Can be found [here](https://keras.io/applications/#applications)\n"
   ]
  },
  {
   "cell_type": "markdown",
   "metadata": {
    "colab_type": "text",
    "id": "k7Z8bO5dlStC"
   },
   "source": [
    "## Task 1: Data Preparation\n",
    "\n",
    "Evaluate the performance of a pretrained network (VGG-16) for the test-multiple_fruits data downloaded by predicting labels of each image. You will:\n",
    "- Download the VGG16 model and compile it with pretrained weights from imagenet.\n",
    "- Obtain predictions for the test-multiple_fruits D1 dataset\n",
    "- Print the predictions for all the test image from D1"
   ]
  },
  {
   "cell_type": "code",
   "execution_count": 38,
   "metadata": {
    "colab": {
     "base_uri": "https://localhost:8080/",
     "height": 935
    },
    "colab_type": "code",
    "id": "nK-qzw57lStD",
    "outputId": "fc5ba135-212e-4d70-997b-a6082d6eac9b"
   },
   "outputs": [
    {
     "name": "stdout",
     "output_type": "stream",
     "text": [
      "_________________________________________________________________\n",
      "Layer (type)                 Output Shape              Param #   \n",
      "=================================================================\n",
      "input_5 (InputLayer)         (None, 224, 224, 3)       0         \n",
      "_________________________________________________________________\n",
      "block1_conv1 (Conv2D)        (None, 224, 224, 64)      1792      \n",
      "_________________________________________________________________\n",
      "block1_conv2 (Conv2D)        (None, 224, 224, 64)      36928     \n",
      "_________________________________________________________________\n",
      "block1_pool (MaxPooling2D)   (None, 112, 112, 64)      0         \n",
      "_________________________________________________________________\n",
      "block2_conv1 (Conv2D)        (None, 112, 112, 128)     73856     \n",
      "_________________________________________________________________\n",
      "block2_conv2 (Conv2D)        (None, 112, 112, 128)     147584    \n",
      "_________________________________________________________________\n",
      "block2_pool (MaxPooling2D)   (None, 56, 56, 128)       0         \n",
      "_________________________________________________________________\n",
      "block3_conv1 (Conv2D)        (None, 56, 56, 256)       295168    \n",
      "_________________________________________________________________\n",
      "block3_conv2 (Conv2D)        (None, 56, 56, 256)       590080    \n",
      "_________________________________________________________________\n",
      "block3_conv3 (Conv2D)        (None, 56, 56, 256)       590080    \n",
      "_________________________________________________________________\n",
      "block3_pool (MaxPooling2D)   (None, 28, 28, 256)       0         \n",
      "_________________________________________________________________\n",
      "block4_conv1 (Conv2D)        (None, 28, 28, 512)       1180160   \n",
      "_________________________________________________________________\n",
      "block4_conv2 (Conv2D)        (None, 28, 28, 512)       2359808   \n",
      "_________________________________________________________________\n",
      "block4_conv3 (Conv2D)        (None, 28, 28, 512)       2359808   \n",
      "_________________________________________________________________\n",
      "block4_pool (MaxPooling2D)   (None, 14, 14, 512)       0         \n",
      "_________________________________________________________________\n",
      "block5_conv1 (Conv2D)        (None, 14, 14, 512)       2359808   \n",
      "_________________________________________________________________\n",
      "block5_conv2 (Conv2D)        (None, 14, 14, 512)       2359808   \n",
      "_________________________________________________________________\n",
      "block5_conv3 (Conv2D)        (None, 14, 14, 512)       2359808   \n",
      "_________________________________________________________________\n",
      "block5_pool (MaxPooling2D)   (None, 7, 7, 512)         0         \n",
      "_________________________________________________________________\n",
      "flatten (Flatten)            (None, 25088)             0         \n",
      "_________________________________________________________________\n",
      "fc1 (Dense)                  (None, 4096)              102764544 \n",
      "_________________________________________________________________\n",
      "fc2 (Dense)                  (None, 4096)              16781312  \n",
      "_________________________________________________________________\n",
      "predictions (Dense)          (None, 1000)              4097000   \n",
      "=================================================================\n",
      "Total params: 138,357,544\n",
      "Trainable params: 138,357,544\n",
      "Non-trainable params: 0\n",
      "_________________________________________________________________\n",
      "None\n"
     ]
    }
   ],
   "source": [
    "# vgg_imagenet = vgg16.VGG16( weights='imagenet',input_shape=(256,256,3))\n",
    "vgg_imagenet = vgg16.VGG16( weights='imagenet',input_shape=(224,224,3))\n",
    "print(vgg_imagenet.summary())\n",
    "\n",
    "# Hints\n",
    "# model = VGG16(weights='imagenet', include_top=False)\n",
    "\n",
    "\n",
    "# vgg16_pretrained = load_model(...)\n",
    "# vgg16_pretrained.summary|()\n",
    "# vgg16_pretrained.compile(...)\n",
    "\n",
    "# #vgg16.predict(...)\n",
    "# sgd = optimizers.SGD(lr=0.01, clipvalue=0.5)\n",
    "# # keras.losses.categorical_crossentropy(y_true, y_pred)\n",
    "# vgg_imagenet.compile(sgd, loss='categorical_crossentropy', metrics=None, loss_weights=None, sample_weight_mode=None, weighted_metrics=None, target_tensors=None))\n",
    "\n",
    "# images = glob(\"./test-multiple_fruits/*\")\n",
    "# allimages = np.array([ cv2.resize(cv2.cvtColor(cv2.imread(path),cv2.COLOR_BGR2RGB),(224, 224)) for path in images])\n",
    "\n",
    "\n",
    "\n"
   ]
  },
  {
   "cell_type": "code",
   "execution_count": 0,
   "metadata": {
    "colab": {},
    "colab_type": "code",
    "id": "25U8ICJ2Rs7Z"
   },
   "outputs": [],
   "source": [
    "sgd = SGD(lr=0.01, clipvalue=0.5)\n",
    "# keras.losses.categorical_crossentropy(y_true, y_pred)\n",
    "vgg_imagenet.compile(sgd, loss='categorical_crossentropy', metrics=None, loss_weights=None, sample_weight_mode=None, weighted_metrics=None, target_tensors=None)\n",
    "dire = \"test-multiple_fruits/\"\n",
    "images = os.listdir(dire)\n",
    "# print (images)\n",
    "alls = []\n",
    "for img in images:\n",
    "#     print (\"se \",img)\n",
    "    newimg = load_img(dire+img,target_size=(100,100))\n",
    "    newimg = img_to_array(newimg)\n",
    "#     sized = cv2.resize(newimg,(224, 224))\n",
    "    alls.append(newimg)\n",
    "\n",
    "aller = np.array(alls)\n",
    "  \n",
    "    \n",
    "# # img_path = 'elephant.jpg'\n",
    "# # img = image.load_img(img_path, target_size=(224, 224))\n",
    "# # x = image.img_to_array(img)\n",
    "# # x = np.expand_dims(x, axis=0)\n",
    "# # x = preprocess_input(x)\n",
    "\n",
    "# # features = model.predict(x)\n",
    "# sgd = SGD(lr=0.01, clipvalue=0.5)\n",
    "# # keras.losses.categorical_crossentropy(y_true, y_pred)\n",
    "# vgg_imagenet.compile(sgd, loss='categorical_crossentropy', metrics=None, loss_weights=None, sample_weight_mode=None, weighted_metrics=None, target_tensors=None)\n",
    "# dire = \"test-multiple_fruits/\"\n",
    "# images = os.listdir(dire)\n",
    "# print (\"OK\",images)\n",
    "# alls = []\n",
    "# # for img in images:\n",
    "# for i in range (len(images)):\n",
    "#     print (images[i])\n",
    "\n",
    "\n",
    "#     newimg = cv2.imread(images[i])\n",
    "# #     newimg = cv2.cvtColor(newimg,cv2.COLOR_BGR2RGB)\n",
    "#     sized = cv2.resize(newimg,(224, 224))\n",
    "#     alls.append(sized)\n",
    "\n",
    "# aller = np.array(alls)\n",
    "  \n",
    "    \n",
    "# # img_path = 'elephant.jpg'\n",
    "# # img = image.load_img(img_path, target_size=(224, 224))\n",
    "# # x = image.img_to_array(img)\n",
    "# # x = np.expand_dims(x, axis=0)\n",
    "# # x = preprocess_input(x)\n",
    "\n",
    "# # features = model.predict(x)"
   ]
  },
  {
   "cell_type": "code",
   "execution_count": 40,
   "metadata": {
    "colab": {
     "base_uri": "https://localhost:8080/",
     "height": 34
    },
    "colab_type": "code",
    "id": "BcC1yrDj7Q-N",
    "outputId": "3b967aca-27a9-44d8-db3e-79dabcff1339"
   },
   "outputs": [
    {
     "name": "stdout",
     "output_type": "stream",
     "text": [
      "(45, 224, 224, 3)\n"
     ]
    }
   ],
   "source": [
    "print (aller.shape)"
   ]
  },
  {
   "cell_type": "code",
   "execution_count": 0,
   "metadata": {
    "colab": {},
    "colab_type": "code",
    "id": "lW0T71V_7bV3"
   },
   "outputs": [],
   "source": [
    "predic = vgg_imagenet.predict(aller)\n",
    "# preditcion = decode_predictions(predic)[0][0]\n",
    "\n",
    "\n",
    "print (predic)"
   ]
  },
  {
   "cell_type": "markdown",
   "metadata": {
    "colab_type": "text",
    "id": "ZjlcCl5hlStL"
   },
   "source": [
    "## Batch Generator for Task 2\n",
    "You could either use this batch image generator or could write your own batch generator if required for fine-tunning"
   ]
  },
  {
   "cell_type": "code",
   "execution_count": 42,
   "metadata": {
    "colab": {
     "base_uri": "https://localhost:8080/",
     "height": 51
    },
    "colab_type": "code",
    "id": "j52Fc70flStN",
    "outputId": "daa8d6ec-6d6f-4081-8b9f-b16b259d4e3e"
   },
   "outputs": [
    {
     "name": "stdout",
     "output_type": "stream",
     "text": [
      "Found 37836 images belonging to 75 classes.\n",
      "Found 12709 images belonging to 75 classes.\n"
     ]
    }
   ],
   "source": [
    "# Image Augmentation\n",
    "#Replace the input training/validation directories with the path to your training and validation splits\n",
    "from keras.preprocessing.image import ImageDataGenerator\n",
    "from keras.applications.vgg16 import preprocess_input\n",
    "\n",
    "training_datagen = ImageDataGenerator(\n",
    "                                    rescale=1./255,   # all pixel values will be between 0 an 1\n",
    "                                    shear_range=0.2, \n",
    "                                    zoom_range=0.2,\n",
    "                                    horizontal_flip=True,\n",
    "                                    preprocessing_function=preprocess_input)\n",
    "\n",
    "validation_datagen = ImageDataGenerator(rescale = 1./255, preprocessing_function=preprocess_input)\n",
    "\n",
    "training_generator = training_datagen.flow_from_directory('fruits-360/Training/', target_size = (100,100), batch_size = 32, class_mode = 'categorical')\n",
    "validation_generator = validation_datagen.flow_from_directory('fruits-360/Validation/', target_size = (100,100), batch_size = 32, class_mode = 'categorical')"
   ]
  },
  {
   "cell_type": "code",
   "execution_count": 55,
   "metadata": {
    "colab": {
     "base_uri": "https://localhost:8080/",
     "height": 799
    },
    "colab_type": "code",
    "id": "W5gHsyN-7-Hl",
    "outputId": "c2ef48f9-ee33-4839-a546-5f5693a63855"
   },
   "outputs": [
    {
     "name": "stdout",
     "output_type": "stream",
     "text": [
      "_________________________________________________________________\n",
      "Layer (type)                 Output Shape              Param #   \n",
      "=================================================================\n",
      "input_7 (InputLayer)         (None, 100, 100, 3)       0         \n",
      "_________________________________________________________________\n",
      "block1_conv1 (Conv2D)        (None, 100, 100, 64)      1792      \n",
      "_________________________________________________________________\n",
      "block1_conv2 (Conv2D)        (None, 100, 100, 64)      36928     \n",
      "_________________________________________________________________\n",
      "block1_pool (MaxPooling2D)   (None, 50, 50, 64)        0         \n",
      "_________________________________________________________________\n",
      "block2_conv1 (Conv2D)        (None, 50, 50, 128)       73856     \n",
      "_________________________________________________________________\n",
      "block2_conv2 (Conv2D)        (None, 50, 50, 128)       147584    \n",
      "_________________________________________________________________\n",
      "block2_pool (MaxPooling2D)   (None, 25, 25, 128)       0         \n",
      "_________________________________________________________________\n",
      "block3_conv1 (Conv2D)        (None, 25, 25, 256)       295168    \n",
      "_________________________________________________________________\n",
      "block3_conv2 (Conv2D)        (None, 25, 25, 256)       590080    \n",
      "_________________________________________________________________\n",
      "block3_conv3 (Conv2D)        (None, 25, 25, 256)       590080    \n",
      "_________________________________________________________________\n",
      "block3_pool (MaxPooling2D)   (None, 12, 12, 256)       0         \n",
      "_________________________________________________________________\n",
      "block4_conv1 (Conv2D)        (None, 12, 12, 512)       1180160   \n",
      "_________________________________________________________________\n",
      "block4_conv2 (Conv2D)        (None, 12, 12, 512)       2359808   \n",
      "_________________________________________________________________\n",
      "block4_conv3 (Conv2D)        (None, 12, 12, 512)       2359808   \n",
      "_________________________________________________________________\n",
      "block4_pool (MaxPooling2D)   (None, 6, 6, 512)         0         \n",
      "_________________________________________________________________\n",
      "block5_conv1 (Conv2D)        (None, 6, 6, 512)         2359808   \n",
      "_________________________________________________________________\n",
      "block5_conv2 (Conv2D)        (None, 6, 6, 512)         2359808   \n",
      "_________________________________________________________________\n",
      "block5_conv3 (Conv2D)        (None, 6, 6, 512)         2359808   \n",
      "_________________________________________________________________\n",
      "block5_pool (MaxPooling2D)   (None, 3, 3, 512)         0         \n",
      "=================================================================\n",
      "Total params: 14,714,688\n",
      "Trainable params: 0\n",
      "Non-trainable params: 14,714,688\n",
      "_________________________________________________________________\n",
      "None\n"
     ]
    }
   ],
   "source": [
    "# total_classes = 75\n",
    "# # vgg_imagenet = vgg16.VGG16(include_top=False, weights='imagenet',input_shape=(100,100,3))\n",
    "# # sgd = SGD(lr=0.01, clipvalue=0.5)\n",
    "# # adam = Adam(0.0001)\n",
    "# vgg_imagenet.compile(optimizer = Adam(0.0001),loss = 'categorical_crossentropy')\n",
    "# print (vgg_imagenet.summary())\n",
    "\n",
    "\n"
   ]
  },
  {
   "cell_type": "code",
   "execution_count": 56,
   "metadata": {
    "colab": {
     "base_uri": "https://localhost:8080/",
     "height": 850
    },
    "colab_type": "code",
    "id": "XYsUsMyv8Bgo",
    "outputId": "5c98ff39-e161-4aaa-ff00-19bba6741f8d"
   },
   "outputs": [
    {
     "name": "stdout",
     "output_type": "stream",
     "text": [
      "_________________________________________________________________\n",
      "Layer (type)                 Output Shape              Param #   \n",
      "=================================================================\n",
      "input_8 (InputLayer)         (None, 100, 100, 3)       0         \n",
      "_________________________________________________________________\n",
      "block1_conv1 (Conv2D)        (None, 100, 100, 64)      1792      \n",
      "_________________________________________________________________\n",
      "block1_conv2 (Conv2D)        (None, 100, 100, 64)      36928     \n",
      "_________________________________________________________________\n",
      "block1_pool (MaxPooling2D)   (None, 50, 50, 64)        0         \n",
      "_________________________________________________________________\n",
      "block2_conv1 (Conv2D)        (None, 50, 50, 128)       73856     \n",
      "_________________________________________________________________\n",
      "block2_conv2 (Conv2D)        (None, 50, 50, 128)       147584    \n",
      "_________________________________________________________________\n",
      "block2_pool (MaxPooling2D)   (None, 25, 25, 128)       0         \n",
      "_________________________________________________________________\n",
      "block3_conv1 (Conv2D)        (None, 25, 25, 256)       295168    \n",
      "_________________________________________________________________\n",
      "block3_conv2 (Conv2D)        (None, 25, 25, 256)       590080    \n",
      "_________________________________________________________________\n",
      "block3_conv3 (Conv2D)        (None, 25, 25, 256)       590080    \n",
      "_________________________________________________________________\n",
      "block3_pool (MaxPooling2D)   (None, 12, 12, 256)       0         \n",
      "_________________________________________________________________\n",
      "block4_conv1 (Conv2D)        (None, 12, 12, 512)       1180160   \n",
      "_________________________________________________________________\n",
      "block4_conv2 (Conv2D)        (None, 12, 12, 512)       2359808   \n",
      "_________________________________________________________________\n",
      "block4_conv3 (Conv2D)        (None, 12, 12, 512)       2359808   \n",
      "_________________________________________________________________\n",
      "block4_pool (MaxPooling2D)   (None, 6, 6, 512)         0         \n",
      "_________________________________________________________________\n",
      "block5_conv1 (Conv2D)        (None, 6, 6, 512)         2359808   \n",
      "_________________________________________________________________\n",
      "block5_conv2 (Conv2D)        (None, 6, 6, 512)         2359808   \n",
      "_________________________________________________________________\n",
      "block5_conv3 (Conv2D)        (None, 6, 6, 512)         2359808   \n",
      "_________________________________________________________________\n",
      "block5_pool (MaxPooling2D)   (None, 3, 3, 512)         0         \n",
      "_________________________________________________________________\n",
      "flatten_4 (Flatten)          (None, 4608)              0         \n",
      "_________________________________________________________________\n",
      "dense_4 (Dense)              (None, 75)                345675    \n",
      "=================================================================\n",
      "Total params: 15,060,363\n",
      "Trainable params: 345,675\n",
      "Non-trainable params: 14,714,688\n",
      "_________________________________________________________________\n"
     ]
    }
   ],
   "source": [
    "total_classes = 75\n",
    "vgg_imagenet = vgg16.VGG16(include_top=False, weights='imagenet',input_shape=(100,100,3))\n",
    "# sgd = SGD(lr=0.01, clipvalue=0.5)\n",
    "# adam = Adam(0.0001)\n",
    "vgg_imagenet.compile(optimizer = Adam(0.0001),loss = 'categorical_crossentropy')\n",
    "#print (vgg_imagenet.summary())\n",
    "\n",
    "# Hints\n",
    "for lyr in vgg_imagenet.layers:\n",
    "    lyr.trainable = False\n",
    "       \n",
    "dec = Flatten()(vgg_imagenet.layers[-1].output)\n",
    "add = Dense(total_classes,activation='softmax')(dec)\n",
    "newvgg = Model(vgg_imagenet.layers[0].input,add)\n",
    "adam = Adam(0.001)\n",
    "# for lyr in vgg_new.layers:\n",
    "#     lyr.trainable = False\n",
    "# vgg_new.layers[-1].trainable = True\n",
    "newvgg.compile(optimizer=adam, loss='categorical_crossentropy',metrics = ['accuracy'])\n",
    "newvgg.summary()\n",
    "# add new FC layers here\n",
    "\n",
    "# print summary and compile\n",
    "\n"
   ]
  },
  {
   "cell_type": "markdown",
   "metadata": {
    "colab_type": "text",
    "id": "qQAL42QrlStW"
   },
   "source": [
    "## Task 2: Transfer Learning\n",
    "\n",
    "Next you will employ Transfer Learning and finetune the pretrained vgg-16 model you used in Task1 to better fit the fine-tune dataset D2 for 75 classes of fruits (details available in the readme file of dataset folder). You will:\n",
    "\n",
    "- Change the number of nodes in the last FC layer according to the number of classes i.e. 5 \n",
    "- Freeze everything except the FC layers and train it using the train split of D2 (using appropriate hyperparameters), validating the network for validation split of data.\n",
    "- Train (Finetune) the dataset with training split and validate it using validation split\n",
    "- Plot loss/accuracy vs epochs curves for your simulation\n",
    "\n",
    "*You can use scikit-learn's `metrics.confusion_matrix` function. Consult the relevant documentation.* \n"
   ]
  },
  {
   "cell_type": "code",
   "execution_count": 46,
   "metadata": {
    "colab": {
     "base_uri": "https://localhost:8080/",
     "height": 102
    },
    "colab_type": "code",
    "id": "9eDagkywlStX",
    "outputId": "aeddb460-09f1-405d-937d-0fc7d09daffb"
   },
   "outputs": [
    {
     "name": "stdout",
     "output_type": "stream",
     "text": [
      "1182.375\n",
      "Epoch 1/2\n",
      "10/10 [==============================] - 7s 658ms/step - loss: 2.9958 - acc: 0.3469 - val_loss: 2.6494 - val_acc: 0.3944\n",
      "Epoch 2/2\n",
      "10/10 [==============================] - 5s 545ms/step - loss: 2.4677 - acc: 0.4375 - val_loss: 2.3021 - val_acc: 0.4904\n"
     ]
    }
   ],
   "source": [
    "print ( training_generator.samples/training_generator.batch_size)\n",
    "\n",
    "history = newvgg.fit_generator(training_generator,\n",
    "                               steps_per_epoch = 10,\n",
    "                               epochs = 2,\n",
    "                               verbose = 1,\n",
    "                               validation_data = validation_generator,\n",
    "                               validation_steps = 100\n",
    ")\n",
    "newvgg.save(\"model.h5\")"
   ]
  },
  {
   "cell_type": "code",
   "execution_count": 31,
   "metadata": {
    "colab": {
     "base_uri": "https://localhost:8080/",
     "height": 707
    },
    "colab_type": "code",
    "id": "r9Sdr_-_lStf",
    "outputId": "180efd33-fd2f-4d4b-9214-54c0a0bed665"
   },
   "outputs": [
    {
     "data": {
      "image/png": "[encoded data removed]",
      "text/plain": [
       "<Figure size 576x396 with 1 Axes>"
      ]
     },
     "metadata": {
      "tags": []
     },
     "output_type": "display_data"
    },
    {
     "data": {
      "image/png": "[encoded data removed]",
      "text/plain": [
       "<Figure size 576x396 with 1 Axes>"
      ]
     },
     "metadata": {
      "tags": []
     },
     "output_type": "display_data"
    }
   ],
   "source": [
    "#Loss accuracy curves using matplot lib\n",
    "acc = history.history['acc']\n",
    "aval_acc = history.history['val_acc']\n",
    "loss = history.history['loss']\n",
    "val_loss = history.history['val_loss']\n",
    " \n",
    "epochs = range(len(acc))\n",
    " \n",
    "plt.plot(epochs, acc, 'b', label='Training acc')\n",
    "plt.plot(epochs, aval_acc, 'r', label='Validation acc')\n",
    "plt.title('Training and validation accuracy')\n",
    "plt.legend()\n",
    " \n",
    "plt.figure()\n",
    " \n",
    "plt.plot(epochs, loss, 'b', label='Training loss')\n",
    "plt.plot(epochs, val_loss, 'r', label='Validation loss')\n",
    "plt.title('Training and validation loss')\n",
    "plt.legend()\n",
    " \n",
    "plt.show()\n",
    "# https://www.learnopencv.com/keras-tutorial-fine-tuning-using-pre-trained-models/"
   ]
  },
  {
   "cell_type": "markdown",
   "metadata": {
    "colab_type": "text",
    "id": "pTg-sd7XlStl"
   },
   "source": [
    "## Task 3: Network Evaluation\n",
    "\n",
    "Next you will test your finetuned model by plotting a confusion matrix between classes predicted. You will:\n",
    "\n",
    "- Load the saved finetuned network\n",
    "- Test your model for images in validation folder of D2\n",
    "- Construct a multiclass confusion matrix (for any 10 classes) for actual and predicted class of each image and visualize the confmatrix as a heatmap\n",
    "\n",
    "*You can use scikit-learn's `metrics.confusion_matrix` function. Consult the relevant documentation.* "
   ]
  },
  {
   "cell_type": "code",
   "execution_count": 48,
   "metadata": {
    "colab": {
     "base_uri": "https://localhost:8080/",
     "height": 850
    },
    "colab_type": "code",
    "id": "oDJ2rVqDlStn",
    "outputId": "359a7ba8-5554-44de-90e4-75d7c934ba98"
   },
   "outputs": [
    {
     "name": "stdout",
     "output_type": "stream",
     "text": [
      "_________________________________________________________________\n",
      "Layer (type)                 Output Shape              Param #   \n",
      "=================================================================\n",
      "input_7 (InputLayer)         (None, 100, 100, 3)       0         \n",
      "_________________________________________________________________\n",
      "block1_conv1 (Conv2D)        (None, 100, 100, 64)      1792      \n",
      "_________________________________________________________________\n",
      "block1_conv2 (Conv2D)        (None, 100, 100, 64)      36928     \n",
      "_________________________________________________________________\n",
      "block1_pool (MaxPooling2D)   (None, 50, 50, 64)        0         \n",
      "_________________________________________________________________\n",
      "block2_conv1 (Conv2D)        (None, 50, 50, 128)       73856     \n",
      "_________________________________________________________________\n",
      "block2_conv2 (Conv2D)        (None, 50, 50, 128)       147584    \n",
      "_________________________________________________________________\n",
      "block2_pool (MaxPooling2D)   (None, 25, 25, 128)       0         \n",
      "_________________________________________________________________\n",
      "block3_conv1 (Conv2D)        (None, 25, 25, 256)       295168    \n",
      "_________________________________________________________________\n",
      "block3_conv2 (Conv2D)        (None, 25, 25, 256)       590080    \n",
      "_________________________________________________________________\n",
      "block3_conv3 (Conv2D)        (None, 25, 25, 256)       590080    \n",
      "_________________________________________________________________\n",
      "block3_pool (MaxPooling2D)   (None, 12, 12, 256)       0         \n",
      "_________________________________________________________________\n",
      "block4_conv1 (Conv2D)        (None, 12, 12, 512)       1180160   \n",
      "_________________________________________________________________\n",
      "block4_conv2 (Conv2D)        (None, 12, 12, 512)       2359808   \n",
      "_________________________________________________________________\n",
      "block4_conv3 (Conv2D)        (None, 12, 12, 512)       2359808   \n",
      "_________________________________________________________________\n",
      "block4_pool (MaxPooling2D)   (None, 6, 6, 512)         0         \n",
      "_________________________________________________________________\n",
      "block5_conv1 (Conv2D)        (None, 6, 6, 512)         2359808   \n",
      "_________________________________________________________________\n",
      "block5_conv2 (Conv2D)        (None, 6, 6, 512)         2359808   \n",
      "_________________________________________________________________\n",
      "block5_conv3 (Conv2D)        (None, 6, 6, 512)         2359808   \n",
      "_________________________________________________________________\n",
      "block5_pool (MaxPooling2D)   (None, 3, 3, 512)         0         \n",
      "_________________________________________________________________\n",
      "flatten_3 (Flatten)          (None, 4608)              0         \n",
      "_________________________________________________________________\n",
      "dense_3 (Dense)              (None, 75)                345675    \n",
      "=================================================================\n",
      "Total params: 15,060,363\n",
      "Trainable params: 345,675\n",
      "Non-trainable params: 14,714,688\n",
      "_________________________________________________________________\n"
     ]
    }
   ],
   "source": [
    "myModel = load_model('model.h5')\n",
    "myModel.summary()"
   ]
  },
  {
   "cell_type": "code",
   "execution_count": 0,
   "metadata": {
    "colab": {},
    "colab_type": "code",
    "id": "aW561I96Tvbn"
   },
   "outputs": [],
   "source": []
  },
  {
   "cell_type": "markdown",
   "metadata": {
    "colab_type": "text",
    "id": "isK0qgBLlStt"
   },
   "source": [
    "## Task 4: Prediction\n",
    "\n",
    "Next you will test your finetuned model for test-multiple_fruits images and compare the result with the results of Task 1. You will:\n",
    "\n",
    "- Predict labels for images in test-multiple_fruits D1 folder using finetuned network\n",
    "- Compare your result qualitativly and quatitatively (by visualizing some of the comparing images with their respective labels)\n",
    "- Analyse and discuss the improvement of results (if found any)\n"
   ]
  },
  {
   "cell_type": "code",
   "execution_count": 0,
   "metadata": {
    "colab": {},
    "colab_type": "code",
    "id": "rR0a0DCblStu"
   },
   "outputs": [],
   "source": []
  }
 ],
 "metadata": {
  "accelerator": "GPU",
  "colab": {
   "collapsed_sections": [],
   "name": "PA4_DeepLearning.ipynb",
   "provenance": [],
   "version": "0.3.2"
  },
  "kernelspec": {
   "display_name": "Python 3",
   "language": "python",
   "name": "python3"
  },
  "language_info": {
   "codemirror_mode": {
    "name": "ipython",
    "version": 3
   },
   "file_extension": ".py",
   "mimetype": "text/x-python",
   "name": "python",
   "nbconvert_exporter": "python",
   "pygments_lexer": "ipython3",
   "version": "3.7.1"
  }
 },
 "nbformat": 4,
 "nbformat_minor": 1
}
