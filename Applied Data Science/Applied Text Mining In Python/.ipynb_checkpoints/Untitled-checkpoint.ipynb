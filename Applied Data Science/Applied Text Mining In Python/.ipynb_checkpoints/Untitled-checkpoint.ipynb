{
 "cells": [
  {
   "cell_type": "code",
   "execution_count": null,
   "metadata": {},
   "outputs": [],
   "source": [
    "#Into to Text Mining\n",
    "# What can be done with the text? \n",
    "# 1) Parse the text -> Understand what the text means\n",
    "# 2) Find/Extract Information\n",
    "# 3) CLassify Text Documents\n",
    "# 4) Search for relevant text documents\n",
    "# 5) Sentiment Analysis -> See if something is +ve or -ve\n",
    "# 6) Topic Modelling -> What is the topic being discussed"
   ]
  },
  {
   "cell_type": "code",
   "execution_count": 35,
   "metadata": {},
   "outputs": [
    {
     "name": "stdout",
     "output_type": "stream",
     "text": [
      "Characters:  76\n",
      "['Ethics', 'are', 'built', 'right', 'into', 'the', 'ideals', 'and', 'objectives', 'of', 'the', 'United', 'Nations', '']\n",
      "['Ethics', 'built', 'right', 'into', 'ideals', 'objectives', 'United', 'Nations']\n",
      "['Ethics', 'ideals', 'objectives', 'Nations']\n",
      "{'be', 'not', 'To', 'to', 'or'}\n",
      "{'to', 'be', 'or', 'not'}\n",
      "['', 'agad', 'g', '']\n",
      "ouagadougou\n",
      "['o', 'u', 'a', 'g', 'a', 'd', 'o', 'u', 'g', 'o', 'u']\n"
     ]
    }
   ],
   "source": [
    "# HANDLING TEXT IN PYTHON\n",
    "# Primitive Construct: Sentences/Input Strings, Words/Tokens, Characters, Document/Larger Files\n",
    "t1 = 'Ethics are built right into the ideals and objectives of the United Nations '\n",
    "print('Characters: ',len(t1))\n",
    "t2 = t1.split(' ')\n",
    "print(t2)\n",
    "t3 = [w for w in t2 if len(w) > 3]\n",
    "print(t3)\n",
    "# Capitalized Letters\n",
    "t4 = [w for w in t2 if w.istitle()]\n",
    "t4\n",
    "# Endswith s\n",
    "t5 = [w for w in t2 if w.endswith('s')]\n",
    "print(t5)\n",
    "# Unique words\n",
    "t6 ='To be or not to be'\n",
    "t7 = t6.split(' ')\n",
    "t7 = set(t7)\n",
    "print(t7)\n",
    "t8 = set([w.lower() for w in t7])\n",
    "print(t8)\n",
    "# WORD COMPARISONS\n",
    "\n",
    "# s.startswith(t)\n",
    "# s.endswith(t)\n",
    "# t in s // Substring\n",
    "# s.isupper(), s.islower(), s.istitle()\n",
    "# s.isalpha() // Only a-z or A-Z (not even spaces)\n",
    "# s.isdigit() // Has to be a digit\n",
    "# s.isalnum() // Has to be alpha or digit\n",
    "# s.splitlines // split on end of line\n",
    "# s.join(t) // Join an array of words t back to senstence s\n",
    "# s.strip() // Takes or removes whitespaces\n",
    "# s.rstrip() // Takes out whitespaces from the end of the string\n",
    "# s.find(t) // find substring t starting from the start\n",
    "# s.rfind(t) // begin finding from the end\n",
    "# s.replace(u,v)\n",
    "t9 = 'ouagadougou'\n",
    "t9 = t9.split('ou')\n",
    "print(t9)\n",
    "t10 = 'ou'.join(t9)\n",
    "print(t10)\n",
    "print(list(t10)) # list of chars"
   ]
  },
  {
   "cell_type": "code",
   "execution_count": 37,
   "metadata": {},
   "outputs": [
    {
     "name": "stdout",
     "output_type": "stream",
     "text": [
      "['', '', '', '', '', '', 'A', 'quick', 'brown', 'fox', 'jumped', 'over', 'the', 'lazy', 'dog', '']\n"
     ]
    },
    {
     "data": {
      "text/plain": [
       "['A', 'quick', 'brown', 'fox', 'jumped', 'over', 'the', 'lazy', 'dog']"
      ]
     },
     "execution_count": 37,
     "metadata": {},
     "output_type": "execute_result"
    }
   ],
   "source": [
    "s = '      A quick brown fox jumped over the lazy dog '\n",
    "print(s.split(' '))\n",
    "s = s.strip().split()\n",
    "s"
   ]
  },
  {
   "cell_type": "code",
   "execution_count": 40,
   "metadata": {},
   "outputs": [
    {
     "ename": "FileNotFoundError",
     "evalue": "[Errno 2] No such file or directory: './abc.text'",
     "output_type": "error",
     "traceback": [
      "\u001b[1;31m---------------------------------------------------------------------------\u001b[0m",
      "\u001b[1;31mFileNotFoundError\u001b[0m                         Traceback (most recent call last)",
      "\u001b[1;32m<ipython-input-40-63e523a3e661>\u001b[0m in \u001b[0;36m<module>\u001b[1;34m\u001b[0m\n\u001b[1;32m----> 1\u001b[1;33m \u001b[0mf\u001b[0m \u001b[1;33m=\u001b[0m \u001b[0mopen\u001b[0m\u001b[1;33m(\u001b[0m\u001b[1;34m'./abc.text'\u001b[0m\u001b[1;33m,\u001b[0m \u001b[1;34m'r'\u001b[0m\u001b[1;33m)\u001b[0m\u001b[1;33m\u001b[0m\u001b[1;33m\u001b[0m\u001b[0m\n\u001b[0m\u001b[0;32m      2\u001b[0m \u001b[0mf\u001b[0m\u001b[1;33m.\u001b[0m\u001b[0mreadline\u001b[0m\u001b[1;33m(\u001b[0m\u001b[1;33m)\u001b[0m\u001b[1;33m\u001b[0m\u001b[1;33m\u001b[0m\u001b[0m\n",
      "\u001b[1;31mFileNotFoundError\u001b[0m: [Errno 2] No such file or directory: './abc.text'"
     ]
    }
   ],
   "source": [
    "f = open('abc.text', 'r')\n",
    "f.readline()"
   ]
  },
  {
   "cell_type": "code",
   "execution_count": null,
   "metadata": {},
   "outputs": [],
   "source": []
  },
  {
   "cell_type": "code",
   "execution_count": null,
   "metadata": {},
   "outputs": [],
   "source": []
  }
 ],
 "metadata": {
  "kernelspec": {
   "display_name": "Python 3",
   "language": "python",
   "name": "python3"
  },
  "language_info": {
   "codemirror_mode": {
    "name": "ipython",
    "version": 3
   },
   "file_extension": ".py",
   "mimetype": "text/x-python",
   "name": "python",
   "nbconvert_exporter": "python",
   "pygments_lexer": "ipython3",
   "version": "3.7.1"
  }
 },
 "nbformat": 4,
 "nbformat_minor": 2
}
