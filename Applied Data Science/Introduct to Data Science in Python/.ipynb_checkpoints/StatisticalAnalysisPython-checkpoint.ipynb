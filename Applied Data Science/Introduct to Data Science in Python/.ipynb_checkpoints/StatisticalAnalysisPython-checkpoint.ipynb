{
 "cells": [
  {
   "cell_type": "code",
   "execution_count": 16,
   "metadata": {},
   "outputs": [
    {
     "name": "stdout",
     "output_type": "stream",
     "text": [
      "0\n",
      "0.542\n",
      "6\n",
      "[0 0 0 1 0 1 1 1 0 1]\n",
      "98 tornadoes back to back in 2739.72602739726\n"
     ]
    }
   ],
   "source": [
    "# Distribution\n",
    "# Binary Distribution e.g Flipping a coin 100 times\n",
    "import numpy as np\n",
    "print(np.random.binomial(1,0.5)) # First param is the number of times we want it to run\n",
    "# Second is the chance we get a 0\n",
    "print(np.random.binomial(1000,0.5)/1000)\n",
    "#######################################\n",
    "# Doesnt neccesarily have to been evenly weighted\n",
    "chance_of_tornado  = 0.01/100\n",
    "print(np.random.binomial(100000,chance_of_tornado))\n",
    "######################################\n",
    "# Whats the chance of having this 2 days in a row\n",
    "chance_of_tornado  = 0.5\n",
    "print(np.random.binomial(1,chance_of_tornado,10))\n",
    "#####################################\n",
    "chance_of_tornado  = 0.01\n",
    "tornadoEvents = np.random.binomial(1,chance_of_tornado,1000000)\n",
    "twoDaysInaRow = 0\n",
    "for j in range(1,len(tornadoEvents)-1):\n",
    "    if tornadoEvents[j] == 1 and tornadoEvents[j-1] ==1:\n",
    "        twoDaysInaRow +=1\n",
    "print(str(twoDaysInaRow) + ' tornadoes back to back in ' + str(1000000/365))\n"
   ]
  },
  {
   "cell_type": "code",
   "execution_count": 33,
   "metadata": {},
   "outputs": [
    {
     "name": "stdout",
     "output_type": "stream",
     "text": [
      "1.0261251053072324\n",
      "*******************\n",
      "0.17215460049152265\n",
      "*******************\n",
      "-0.06863197483991408\n",
      "*******************\n",
      "2.1065780560990452\n",
      "1.4193212865930556\n"
     ]
    }
   ],
   "source": [
    "# More Distributions\n",
    "# X label is the Value of the distribution Y label is the Probability Observation occurs\n",
    "\n",
    "# If the values are the same and is a flat line (Uniform Distribution)\n",
    "# If bell shaped curve then the distribution is (Guassian Distribution)\n",
    "\n",
    "# Standard Deviation\n",
    "distr = np.random.normal(0.75, size = 1000) # 1000 samples from a normall distribution with expected value of 0.75\n",
    "distr\n",
    "print(np.sqrt(np.sum((np.mean(distr)-distr)**2)/len(distr)))\n",
    "np.std(distr)\n",
    "print('*******************')\n",
    "\n",
    "# Shape of the tails of the distribution (kurtosis)\n",
    "# -ve value means curve is alittle more flat than a normal\n",
    "# +ve means the curve is a bit more peaky than a normal\n",
    "import scipy.stats as stats\n",
    "print(stats.kurtosis(distr))\n",
    "print('*******************')\n",
    "print(stats.skew(distr))\n",
    "\n",
    "# The Chi Squared Distribution has only one parameter called the degrees of freedom. \n",
    "# The degrees of freedom is closely related to the number of samples that you take from \n",
    "# a normal population. It's important for significance testing. But what I would like you \n",
    "# to observe, is that as the degrees of freedom increases, the shape of the Chi Squared distribution \n",
    "# changes. In particular, the skew to the left begins to move towards the center. \n",
    "print('*******************')\n",
    "chidf = np.random.chisquare(2, size = 10000) # 2 is the dof\n",
    "print(stats.skew(chidf)) # We can see the skew is quite large\n",
    "# If we inc the dof we can see the skew dec\n",
    "chidf = np.random.chisquare(5, size = 10000)\n",
    "print(stats.skew(chidf))\n",
    "\n",
    "# Bimodal Distribution (2 peaks)\n",
    "# We can model these using two normal distributions with different parameters\n",
    "# These are called Guassian Mixture Models, which are useful when clustering data\n",
    "\n",
    "\n",
    "\n",
    "# Note: A distribution is just a shape that describes the probability of a value being \n",
    "# pulled when we sample a population."
   ]
  },
  {
   "cell_type": "code",
   "execution_count": null,
   "metadata": {},
   "outputs": [],
   "source": []
  }
 ],
 "metadata": {
  "kernelspec": {
   "display_name": "Python 3",
   "language": "python",
   "name": "python3"
  },
  "language_info": {
   "codemirror_mode": {
    "name": "ipython",
    "version": 3
   },
   "file_extension": ".py",
   "mimetype": "text/x-python",
   "name": "python",
   "nbconvert_exporter": "python",
   "pygments_lexer": "ipython3",
   "version": "3.7.1"
  }
 },
 "nbformat": 4,
 "nbformat_minor": 2
}
