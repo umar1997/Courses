{
 "cells": [
  {
   "cell_type": "code",
   "execution_count": 134,
   "metadata": {},
   "outputs": [
    {
     "name": "stdout",
     "output_type": "stream",
     "text": [
      "***\n",
      "[0, 2, 4, 6, 8, 10, 12, 14, 16, 18, 20, 22, 24, 26, 28, 30, 32, 34, 36, 38, 40, 42, 44, 46, 48, 50, 52, 54, 56, 58, 60, 62, 64, 66, 68, 70, 72, 74, 76, 78, 80, 82, 84, 86, 88, 90, 92, 94, 96, 98]\n",
      "***\n"
     ]
    },
    {
     "data": {
      "text/plain": [
       "array([[ 0,  0,  0,  0,  0,  0,  0,  0,  0,  0],\n",
       "       [ 0,  1,  2,  3,  4,  5,  6,  7,  8,  9],\n",
       "       [ 0,  2,  4,  6,  8, 10, 12, 14, 16, 18],\n",
       "       [ 0,  3,  6,  9, 12, 15, 18, 21, 24, 27],\n",
       "       [ 0,  4,  8, 12, 16, 20, 24, 28, 32, 36],\n",
       "       [ 0,  5, 10, 15, 20, 25, 30, 35, 40, 45],\n",
       "       [ 0,  6, 12, 18, 24, 30, 36, 42, 48, 54],\n",
       "       [ 0,  7, 14, 21, 28, 35, 42, 49, 56, 63],\n",
       "       [ 0,  8, 16, 24, 32, 40, 48, 56, 64, 72],\n",
       "       [ 0,  9, 18, 27, 36, 45, 54, 63, 72, 81]])"
      ]
     },
     "execution_count": 134,
     "metadata": {},
     "output_type": "execute_result"
    }
   ],
   "source": [
    "# To check if something is inside a list\n",
    "1 in [1,2,3]\n",
    "print('***')\n",
    "list_num = [n for n in range(0,100) if n%2==0]\n",
    "print(list_num)\n",
    "print('***')\n",
    "# def times_tables():\n",
    "#     lst = []\n",
    "#     for i in range(10):\n",
    "#         for j in range (10):\n",
    "#             lst.append(i*j)\n",
    "#     return lst\n",
    "# Or can be written the same way\n",
    "times_tables= [j*i for i in range(10) for j in range(10)]\n",
    "import numpy as np\n",
    "times_tables = np.array(times_tables).reshape(10,10)\n",
    "times_tables"
   ]
  },
  {
   "cell_type": "code",
   "execution_count": 126,
   "metadata": {},
   "outputs": [
    {
     "name": "stdout",
     "output_type": "stream",
     "text": [
      "T This is a string Th\n",
      "******\n",
      "elephan  the hou\n",
      "******\n",
      "elephant\n",
      "in\n",
      "the\n",
      "house\n"
     ]
    }
   ],
   "source": [
    "# String Manipulation\n",
    "x = 'This is a string'\n",
    "print(x[0],x[0:],x[0:2])\n",
    "print('******')\n",
    "y = 'elephant in the house'\n",
    "print(y[:7],y[-10:-2]) # the -10th letter to the -2nd letter\n",
    "print('******')\n",
    "words = y.split(' ')\n",
    "for i in words:\n",
    "    print(i)"
   ]
  },
  {
   "cell_type": "code",
   "execution_count": 28,
   "metadata": {},
   "outputs": [
    {
     "name": "stdout",
     "output_type": "stream",
     "text": [
      "brooksch@umich.edu\n",
      "******\n",
      "{'Christopher Brooks': 'brooksch@umich.edu', 'Bill Gates': 'billg@microsoft.com', 'Umar Salman': '20100120@lums.edu.pk'}\n",
      "******\n",
      "brooksch@umich.edu\n",
      "billg@microsoft.com\n",
      "20100120@lums.edu.pk\n",
      "******\n",
      "Christopher Brooks\n",
      "Bill Gates\n",
      "Umar Salman\n",
      "******\n",
      "Christopher Brooks brooksch@umich.edu\n",
      "Bill Gates billg@microsoft.com\n",
      "Umar Salman 20100120@lums.edu.pk\n"
     ]
    }
   ],
   "source": [
    "# Dictionary Implementation\n",
    "dict = {'Christopher Brooks': 'brooksch@umich.edu', 'Bill Gates': 'billg@microsoft.com'}\n",
    "print(dict['Christopher Brooks'])\n",
    "print('******')\n",
    "dict['Umar Salman'] = '20100120@lums.edu.pk'\n",
    "print(dict)\n",
    "print('******')\n",
    "for email in dict.values():\n",
    "    print(email)\n",
    "print('******')\n",
    "for name in dict.keys():\n",
    "    print(name)\n",
    "print('******')\n",
    "for name, email in dict.items():\n",
    "    print(name, email)"
   ]
  },
  {
   "cell_type": "code",
   "execution_count": 64,
   "metadata": {},
   "outputs": [
    {
     "name": "stdout",
     "output_type": "stream",
     "text": [
      "  id Feature1 Feature2\n",
      "0  1        A        B\n",
      "1  2        C        D\n",
      "2  3        E        F\n",
      "3  4        G        H\n",
      "4  5        I        J\n",
      "******\n",
      "   id Feature1 Feature2\n",
      "0   1        K        L\n",
      "1   7        M        N\n",
      "2   8        O        P\n",
      "3   9        Q        R\n",
      "4  10        S        T\n",
      "******\n",
      "   id Feature1 Feature2\n",
      "0   1        A        B\n",
      "1   2        C        D\n",
      "2   3        E        F\n",
      "3   4        G        H\n",
      "4   5        I        J\n",
      "5   1        K        L\n",
      "6   7        M        N\n",
      "7   8        O        P\n",
      "8   9        Q        R\n",
      "9  10        S        T\n",
      "******\n",
      "     id Feature1 Feature2\n",
      "x 0   1        A        B\n",
      "  1   2        C        D\n",
      "  2   3        E        F\n",
      "  3   4        G        H\n",
      "  4   5        I        J\n",
      "y 0   1        K        L\n",
      "  1   7        M        N\n",
      "  2   8        O        P\n",
      "  3   9        Q        R\n",
      "  4  10        S        T\n",
      "******\n",
      "   id Feature1 Feature2\n",
      "0   1        K        L\n",
      "1   7        M        N\n",
      "2   8        O        P\n",
      "3   9        Q        R\n",
      "4  10        S        T\n",
      "******\n",
      "   id Feature3\n",
      "0   3        U\n",
      "1   2        V\n",
      "2   1        W\n",
      "3   4        X\n",
      "4   5        Y\n",
      "5   6        U\n",
      "6   7        V\n",
      "7   8        W\n",
      "8   9        X\n",
      "9  10        Y\n",
      "******\n"
     ]
    }
   ],
   "source": [
    "# Pandas Concatenate\n",
    "import pandas as pd\n",
    "data1 = {\n",
    "        'id': ['1', '2', '3', '4', '5'],\n",
    "        'Feature1': ['A', 'C', 'E', 'G', 'I'],\n",
    "        'Feature2': ['B', 'D', 'F', 'H', 'J']}\n",
    "df1 = pd.DataFrame(data1, columns = ['id', 'Feature1', 'Feature2'])\n",
    "print(df1)\n",
    "print('******')\n",
    "data2 = {\n",
    "        'id': ['1', '7', '8', '9','10'], # Starts from 1 to see INNER JOIN in merge\n",
    "        'Feature1': ['K', 'M', 'O', 'Q', 'S'],\n",
    "        'Feature2': ['L', 'N', 'P', 'R', 'T']}\n",
    "df2 = pd.DataFrame(data2, columns = ['id', 'Feature1', 'Feature2'])\n",
    "print(df2)\n",
    "print('******')\n",
    "df12 = pd.concat([df1, df2], ignore_index = True)\n",
    "# Otherwise the indexes will be like 0 1 2 3 4 0 1 2 3 4\n",
    "print(df12)\n",
    "print('******')\n",
    "df12xy = pd.concat([df1, df2], keys= ['x','y'])\n",
    "print(df12xy)\n",
    "print('******')\n",
    "print(df12xy.loc['y'])\n",
    "print('******')\n",
    "data3 = {\n",
    "    'id':['3','2','1','4','5','6','7','8','9','10'], # 1 and 3 are replaced to see effects in Merge\n",
    "    'Feature3': ['U','V','W','X','Y','U','V','W','X','Y']}\n",
    "df3 = pd.DataFrame(data3, columns = ['id','Feature3'])\n",
    "print(df3)\n",
    "print('******')"
   ]
  },
  {
   "cell_type": "code",
   "execution_count": 72,
   "metadata": {},
   "outputs": [
    {
     "name": "stdout",
     "output_type": "stream",
     "text": [
      "   id Feature1 Feature2 Feature3\n",
      "0   1        A        B        W\n",
      "1   1        K        L        W\n",
      "2   2        C        D        V\n",
      "3   3        E        F        U\n",
      "4   4        G        H        X\n",
      "5   5        I        J        Y\n",
      "6   7        M        N        V\n",
      "7   8        O        P        W\n",
      "8   9        Q        R        X\n",
      "9  10        S        T        Y\n",
      "******\n",
      "    id Feature1 Feature2 Feature3\n",
      "0    1        A        B        W\n",
      "1    1        K        L        W\n",
      "2    2        C        D        V\n",
      "3    3        E        F        U\n",
      "4    4        G        H        X\n",
      "5    5        I        J        Y\n",
      "6    7        M        N        V\n",
      "7    8        O        P        W\n",
      "8    9        Q        R        X\n",
      "9   10        S        T        Y\n",
      "10  11       X1       X2       X3\n",
      "******\n",
      "   id Feature1_1 Feature2_1 Feature1_2 Feature2_2\n",
      "0   1          A          B          K          L\n",
      "1   2          C          D        NaN        NaN\n",
      "2   3          E          F        NaN        NaN\n",
      "3   4          G          H        NaN        NaN\n",
      "4   5          I          J        NaN        NaN\n",
      "5   7        NaN        NaN          M          N\n",
      "6   8        NaN        NaN          O          P\n",
      "7   9        NaN        NaN          Q          R\n",
      "8  10        NaN        NaN          S          T\n",
      "******\n",
      "  id Feature1_1 Feature2_1 Feature1_2 Feature2_2\n",
      "0  1          A          B          K          L\n"
     ]
    }
   ],
   "source": [
    "# Pandas Merge\n",
    "df_merge = pd.merge(df12, df3,left_on = 'id', right_on='id') # Or simply just on='id'\n",
    "print(df_merge)\n",
    "print('******')\n",
    "add_row = pd.Series(['11', 'X1', 'X2', 'X3'],index=['id','Feature1', 'Feature2', 'Feature3'])\n",
    "df_addrow = df_merge.append(add_row, ignore_index=True)\n",
    "print(df_addrow)\n",
    "print('******')\n",
    "df_outer = pd.merge(df1, df2, on='id', how ='outer', suffixes=('_1','_2'))\n",
    "print(df_outer)\n",
    "print('******')\n",
    "df_inner = pd.merge(df1, df2, on='id', how ='inner', suffixes=('_1','_2'))\n",
    "print(df_inner)\n"
   ]
  },
  {
   "cell_type": "code",
   "execution_count": 87,
   "metadata": {},
   "outputs": [
    {
     "name": "stdout",
     "output_type": "stream",
     "text": [
      "          0\n",
      "0  0.636369\n",
      "1  0.688311\n",
      "2 -0.793447\n",
      "3 -0.792848\n",
      "4  1.108619\n",
      "5 -0.964438\n",
      "6 -0.638642\n",
      "7  0.933633\n",
      "8 -2.355914\n",
      "9 -0.079536\n",
      "******\n",
      "          0\n",
      "0  0.727153\n",
      "1  0.319676\n",
      "2  0.590637\n",
      "3  0.613562\n",
      "4  0.607586\n",
      "5  0.657651\n",
      "6  0.461938\n",
      "7  0.082364\n",
      "8  0.055367\n",
      "9  0.583401\n",
      "******\n",
      "[ True False  True False  True  True False  True False  True]\n",
      "******\n",
      "   id Feature1 Feature2 Feature3\n",
      "0   1        A        B        W\n",
      "2   2        C        D        V\n",
      "4   4        G        H        X\n",
      "5   5        I        J        Y\n",
      "7   8        O        P        W\n",
      "9  10        S        T        Y\n",
      "1    1\n",
      "3    3\n",
      "6    7\n",
      "8    9\n",
      "Name: id, dtype: object\n",
      "  id Feature1 Feature2 Feature3\n",
      "1  1        K        L        W\n",
      "3  3        E        F        U\n",
      "6  7        M        N        V\n",
      "8  9        Q        R        X\n"
     ]
    }
   ],
   "source": [
    "# iloc Random & Bool\n",
    "import numpy as np\n",
    "len(df_merge)\n",
    "boolTable = pd.DataFrame(np.random.randn(len(df_merge), 1)) \n",
    "# 1 is the number of columns and len(df_merge) is the size of the df being made\n",
    "print(boolTable)\n",
    "print('******')\n",
    "for i in range(len(boolTable)):\n",
    "    boolTable.iloc[i,0] = np.random.uniform(0,1) # Random numbers between 0 and 1\n",
    "print(boolTable)\n",
    "print('******')\n",
    "boolTable = np.random.rand(len(boolTable)) < 0.60\n",
    "print(boolTable)\n",
    "print('******')\n",
    "Train = df_merge[boolTable]\n",
    "print(Train)\n",
    "print('******')\n",
    "Test = df_merge[~boolTable]\n",
    "print(Test.iloc[:,0]) # Gets you the first column of the Data Frame\n",
    "print('******')\n",
    "print(Test)"
   ]
  },
  {
   "cell_type": "code",
   "execution_count": 89,
   "metadata": {},
   "outputs": [
    {
     "name": "stdout",
     "output_type": "stream",
     "text": [
      "Christopher Brooks lives in Ann Arbor, MI, USA and works in the department School of Information\n"
     ]
    }
   ],
   "source": [
    "# Classes\n",
    "\n",
    "class Person:\n",
    "    department = 'School of Information' #a class variable\n",
    "\n",
    "    def set_name(self, new_name): #a method\n",
    "        self.name = new_name\n",
    "    def set_location(self, new_location):\n",
    "        self.location = new_location\n",
    "person = Person()\n",
    "person.set_name('Christopher Brooks')\n",
    "person.set_location('Ann Arbor, MI, USA')\n",
    "print('{} lives in {} and works in the department {}'.format(person.name, person.location, person.department))"
   ]
  },
  {
   "cell_type": "code",
   "execution_count": 104,
   "metadata": {},
   "outputs": [
    {
     "name": "stdout",
     "output_type": "stream",
     "text": [
      "[1, 3, 4]\n",
      "******\n",
      "[2, 4, 6, 8]\n",
      "******\n",
      "[2, 4, 6, 8]\n",
      "******\n",
      "[5, 7, 9]\n"
     ]
    }
   ],
   "source": [
    "# MApping Function and Lambda\n",
    "store1 = [1,5,6]\n",
    "store2 = [2,3,4]\n",
    "cheapest = map(min,store1, store2) # map(function, parameters)\n",
    "print(list(cheapest))\n",
    "print('******')\n",
    "def addition(n): \n",
    "\treturn n + n \n",
    "numbers = (1, 2, 3, 4) \n",
    "result = map(addition, numbers) \n",
    "print(list(result)) \n",
    "print('******')\n",
    "numbers = (1, 2, 3, 4) \n",
    "result = map(lambda x: x + x, numbers) \n",
    "print(list(result)) \n",
    "print('******')\n",
    "numbers1 = [1, 2, 3] \n",
    "numbers2 = [4, 5, 6] \n",
    "result = map(lambda x, y: x + y, numbers1, numbers2) \n",
    "# Lambda acts as the func name, give its params x,y next to it then after the semi colon put the function\n",
    "# Then inserts the actual arguements you want to use\n",
    "print(list(result)) "
   ]
  },
  {
   "cell_type": "code",
   "execution_count": 117,
   "metadata": {},
   "outputs": [
    {
     "name": "stdout",
     "output_type": "stream",
     "text": [
      "[ 0  2  4  6  8 10 12 14 16 18 20 22 24 26 28]\n",
      "******\n",
      "[[ 0  2  4  6  8]\n",
      " [10 12 14 16 18]\n",
      " [20 22 24 26 28]]\n",
      "******\n",
      "[0.  0.5 1.  1.5 2.  2.5 3.  3.5 4. ]\n",
      "******\n",
      "[[1. 1.]\n",
      " [1. 1.]\n",
      " [1. 1.]]\n",
      "[[0. 0. 0.]\n",
      " [0. 0. 0.]]\n",
      "******\n",
      "[[1. 0. 0.]\n",
      " [0. 1. 0.]\n",
      " [0. 0. 1.]]\n",
      "******\n",
      "4\n",
      "******\n",
      "[[ 4  5  6]\n",
      " [16 25 36]]\n",
      "int32\n",
      "float32\n"
     ]
    }
   ],
   "source": [
    "# Numpy\n",
    "n = np.arange(0, 30, 2) # start at 0 count up by 2, stop before 30\n",
    "print(n)\n",
    "print('******')\n",
    "n = n.reshape(3, 5) # reshape array to be 3x5\n",
    "print(n)\n",
    "print('******')\n",
    "o = np.linspace(0, 4, 9) # return 9 evenly spaced values from 0 to 4\n",
    "print(o)\n",
    "print('******')\n",
    "print(np.ones((3, 2)))\n",
    "print(np.zeros((2, 3)))\n",
    "print('******')\n",
    "print(np.eye(3)) # eye returns a 2-D array with ones on the diagonal and zeros elsewhere.\n",
    "print('******')\n",
    "a = np.array([-4, -2, 1, 3, 5])\n",
    "# argmax and argmin return the index of the maximum and minimum values in the array.\n",
    "print(a.argmax())\n",
    "print('******')\n",
    "y = np.array([4, 5, 6])\n",
    "z = np.array([y, y**2])\n",
    "print(z)\n",
    "print(z.dtype)\n",
    "z = z.astype('f')\n",
    "print(z.dtype)"
   ]
  },
  {
   "cell_type": "code",
   "execution_count": null,
   "metadata": {},
   "outputs": [],
   "source": []
  },
  {
   "cell_type": "code",
   "execution_count": null,
   "metadata": {},
   "outputs": [],
   "source": []
  }
 ],
 "metadata": {
  "kernelspec": {
   "display_name": "Python 3",
   "language": "python",
   "name": "python3"
  },
  "language_info": {
   "codemirror_mode": {
    "name": "ipython",
    "version": 3
   },
   "file_extension": ".py",
   "mimetype": "text/x-python",
   "name": "python",
   "nbconvert_exporter": "python",
   "pygments_lexer": "ipython3",
   "version": "3.7.1"
  }
 },
 "nbformat": 4,
 "nbformat_minor": 2
}
