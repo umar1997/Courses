{
  "nbformat": 4,
  "nbformat_minor": 0,
  "metadata": {
    "colab": {
      "name": "customer.ipynb",
      "provenance": [],
      "collapsed_sections": []
    },
    "kernelspec": {
      "name": "python3",
      "display_name": "Python 3"
    }
  },
  "cells": [
    {
      "cell_type": "code",
      "metadata": {
        "id": "siqC1wGtFLus",
        "colab_type": "code",
        "outputId": "94255af5-87e4-4588-9337-e2e0b5f3b543",
        "colab": {
          "base_uri": "https://localhost:8080/",
          "height": 121
        }
      },
      "source": [
        "from google.colab import drive\n",
        "drive.mount('drive') # Or drive.mount('/content/drive')"
      ],
      "execution_count": 0,
      "outputs": [
        {
          "output_type": "stream",
          "text": [
            "Go to this URL in a browser: https://accounts.google.com/o/oauth2/auth?client_id=947318989803-6bn6qk8qdgf4n4g3pfee6491hc0brc4i.apps.googleusercontent.com&redirect_uri=urn%3Aietf%3Awg%3Aoauth%3A2.0%3Aoob&scope=email%20https%3A%2F%2Fwww.googleapis.com%2Fauth%2Fdocs.test%20https%3A%2F%2Fwww.googleapis.com%2Fauth%2Fdrive%20https%3A%2F%2Fwww.googleapis.com%2Fauth%2Fdrive.photos.readonly%20https%3A%2F%2Fwww.googleapis.com%2Fauth%2Fpeopleapi.readonly&response_type=code\n",
            "\n",
            "Enter your authorization code:\n",
            "··········\n",
            "Mounted at drive\n"
          ],
          "name": "stdout"
        }
      ]
    },
    {
      "cell_type": "code",
      "metadata": {
        "id": "P8Al0_g1kutK",
        "colab_type": "code",
        "outputId": "2c94a042-8d41-43ed-80f7-55f58f2e77cc",
        "colab": {
          "base_uri": "https://localhost:8080/",
          "height": 34
        }
      },
      "source": [
        "import os\n",
        "\n",
        "dir = \"/content/drive/My Drive/Practice/\"\n",
        "files = os.listdir(dir)\n",
        "files"
      ],
      "execution_count": 0,
      "outputs": [
        {
          "output_type": "execute_result",
          "data": {
            "text/plain": [
              "['user_order.csv', 'order_product.csv']"
            ]
          },
          "metadata": {
            "tags": []
          },
          "execution_count": 3
        }
      ]
    },
    {
      "cell_type": "code",
      "metadata": {
        "id": "_2xWPOkelaz-",
        "colab_type": "code",
        "outputId": "23d93a73-9f6c-44d5-bc96-32272af60d1d",
        "colab": {
          "base_uri": "https://localhost:8080/",
          "height": 50
        }
      },
      "source": [
        "list_of_files = [dir + i for i in files]\n",
        "list_of_files"
      ],
      "execution_count": 0,
      "outputs": [
        {
          "output_type": "execute_result",
          "data": {
            "text/plain": [
              "['/content/drive/My Drive/Practice/user_order.csv',\n",
              " '/content/drive/My Drive/Practice/order_product.csv']"
            ]
          },
          "metadata": {
            "tags": []
          },
          "execution_count": 4
        }
      ]
    },
    {
      "cell_type": "code",
      "metadata": {
        "id": "Z25srdTBnFfk",
        "colab_type": "code",
        "outputId": "6d113a55-7c22-47e1-8599-aa4fc15b3af5",
        "colab": {
          "base_uri": "https://localhost:8080/",
          "height": 571
        }
      },
      "source": [
        "# Read multiple CSVs and merge\n",
        "import csv\n",
        "import pandas as pd\n",
        "import numpy as np\n",
        "\n",
        "list_of_dfs = []\n",
        "for f in list_of_files:\n",
        "  temp_df = pd.read_csv(f)\n",
        "  list_of_dfs.append(temp_df)\n",
        "\n",
        "df = pd.merge(list_of_dfs[0],list_of_dfs[1], on='order_id')\n",
        "print(df)\n"
      ],
      "execution_count": 0,
      "outputs": [
        {
          "output_type": "stream",
          "text": [
            "    user_id  order_id  order_dow  ...    product_name  product_price  product_type\n",
            "0     20100         1     Monday  ...        Lingerie            250      Clothing\n",
            "1     20268         2   Thursday  ...          Shirts            600      Clothing\n",
            "2     20118         3   Saturday  ...        Bannanas            150     Groceries\n",
            "3     20108         4     Sunday  ...         Notepad            250    Stationary\n",
            "4     20100         5    Tuesday  ...          Cereal            240     Groceries\n",
            "5     20269         6     Monday  ...         Stapler            200    Stationary\n",
            "6     20120         7     Friday  ...            Tape            120    Stationary\n",
            "7     20041         8  Wednesday  ...           Pants            400      Clothing\n",
            "8     20268         9   Thursday  ...          Apples            180     Groceries\n",
            "9     20100        10     Sunday  ...           Wheat            350     Groceries\n",
            "10    20118        11  Wednesday  ...         Chicken            500     Groceries\n",
            "11    20056        12     Friday  ...           Books            300    Stationary\n",
            "12    20268        13   Saturday  ...           Belts            150      Clothing\n",
            "13    20120        14    Tuesday  ...          Folder            220    Stationary\n",
            "14    20041        15     Monday  ...            Milk            100     Groceries\n",
            "15    20108        16  Wednesday  ...        T-Shirts            300      Clothing\n",
            "16    20268        17   Thursday  ...            Rice            450     Groceries\n",
            "17    20056        18    Tuesday  ...           Vests            200      Clothing\n",
            "18    20269        19     Sunday  ...           Shoes            600      Clothing\n",
            "19    20006        20     Friday  ...            Pens            100    Stationary\n",
            "20    20285        21   Thursday  ...            Glue            150    Stationary\n",
            "21    20269        22   Thursday  ...         Lentils            300     Groceries\n",
            "22    20100        23     Friday  ...           Socks            100      Clothing\n",
            "23    20108        24   Saturday  ...         Ketchup            200     Groceries\n",
            "24    20120        25  Wednesday  ...     Chart Paper             80    Stationary\n",
            "25    20118        26     Monday  ...  Colour Pencils            150    Stationary\n",
            "26    20284        27     Sunday  ...            Eggs             90     Groceries\n",
            "27    20056        28    Tuesday  ...     Highlighter            100    Stationary\n",
            "28    20268        29     Friday  ...          Shorts            350      Clothing\n",
            "29    20120        30     Monday  ...             Tie            200      Clothing\n",
            "\n",
            "[30 rows x 9 columns]\n"
          ],
          "name": "stdout"
        }
      ]
    },
    {
      "cell_type": "code",
      "metadata": {
        "id": "FBWz_i1-o3Hz",
        "colab_type": "code",
        "outputId": "b2b3a718-9be7-492e-8e5d-2b8331f8e137",
        "colab": {
          "base_uri": "https://localhost:8080/",
          "height": 118
        }
      },
      "source": [
        "# Column Names\n",
        "print(df.keys()) # Gives the columns\n",
        "\n",
        "attributes = df.columns.values\n",
        "attributes"
      ],
      "execution_count": 0,
      "outputs": [
        {
          "output_type": "stream",
          "text": [
            "Index(['user_id', 'order_id', 'order_dow', 'items_purchased', 'total_bill',\n",
            "       'product_id', 'product_name', 'product_price', 'product_type'],\n",
            "      dtype='object')\n"
          ],
          "name": "stdout"
        },
        {
          "output_type": "execute_result",
          "data": {
            "text/plain": [
              "array(['user_id', 'order_id', 'order_dow', 'items_purchased',\n",
              "       'total_bill', 'product_id', 'product_name', 'product_price',\n",
              "       'product_type'], dtype=object)"
            ]
          },
          "metadata": {
            "tags": []
          },
          "execution_count": 6
        }
      ]
    },
    {
      "cell_type": "code",
      "metadata": {
        "id": "j7_9ab4PZKal",
        "colab_type": "code",
        "outputId": "8c21ff05-a506-4806-dd1c-ef195178ccde",
        "colab": {
          "base_uri": "https://localhost:8080/",
          "height": 34
        }
      },
      "source": [
        "# Set\n",
        "customers = set()\n",
        "for u in df['user_id']:\n",
        "  customers.add(u)\n",
        "\n",
        "customers"
      ],
      "execution_count": 0,
      "outputs": [
        {
          "output_type": "execute_result",
          "data": {
            "text/plain": [
              "{20006, 20041, 20056, 20100, 20108, 20118, 20120, 20268, 20269, 20284, 20285}"
            ]
          },
          "metadata": {
            "tags": []
          },
          "execution_count": 7
        }
      ]
    },
    {
      "cell_type": "code",
      "metadata": {
        "id": "nbLlM9FZj_ek",
        "colab_type": "code",
        "outputId": "7dfc7731-bb64-477f-e7ce-47b559a5a6d6",
        "colab": {
          "base_uri": "https://localhost:8080/",
          "height": 202
        }
      },
      "source": [
        "# Group By (It comines all the same entries together as one unique entry)\n",
        "for group, frame in df.groupby('user_id'):\n",
        "  sum = np.sum(frame['total_bill'])\n",
        "  print(\"Total sum for user \"+ str(group) + \" is :\" + str(sum))"
      ],
      "execution_count": 0,
      "outputs": [
        {
          "output_type": "stream",
          "text": [
            "Total sum for user 20006 is :160\n",
            "Total sum for user 20041 is :1860\n",
            "Total sum for user 20056 is :1320\n",
            "Total sum for user 20100 is :2850\n",
            "Total sum for user 20108 is :750\n",
            "Total sum for user 20118 is :2080\n",
            "Total sum for user 20120 is :2300\n",
            "Total sum for user 20268 is :3110\n",
            "Total sum for user 20269 is :2200\n",
            "Total sum for user 20284 is :850\n",
            "Total sum for user 20285 is :500\n"
          ],
          "name": "stdout"
        }
      ]
    },
    {
      "cell_type": "code",
      "metadata": {
        "id": "ZvH6PfZDjxWf",
        "colab_type": "code",
        "outputId": "e510346c-c943-4748-c50c-faf4c21a6f06",
        "colab": {
          "base_uri": "https://localhost:8080/",
          "height": 151
        }
      },
      "source": [
        "# Apply (A function you want to apply on the dataframe columns)\n",
        "def sumTotal(row): # The whole row comes in this\n",
        "  row['sum_total_price'] = row['items_purchased']*row['product_price']\n",
        "  return row\n",
        "\n",
        "df = df.apply(sumTotal, axis=1)\n",
        "print(df.head())"
      ],
      "execution_count": 0,
      "outputs": [
        {
          "output_type": "stream",
          "text": [
            "   user_id  order_id order_dow  ...  product_price  product_type  sum_total_price\n",
            "0    20100         1    Monday  ...            250      Clothing             1000\n",
            "1    20268         2  Thursday  ...            600      Clothing             1800\n",
            "2    20118         3  Saturday  ...            150     Groceries              450\n",
            "3    20108         4    Sunday  ...            250    Stationary              500\n",
            "4    20100         5   Tuesday  ...            240     Groceries             1680\n",
            "\n",
            "[5 rows x 10 columns]\n"
          ],
          "name": "stdout"
        }
      ]
    },
    {
      "cell_type": "code",
      "metadata": {
        "id": "BmG5EZgOpOoZ",
        "colab_type": "code",
        "outputId": "75ff2e74-2650-490a-9d54-2c56f3153639",
        "colab": {
          "base_uri": "https://localhost:8080/",
          "height": 195
        }
      },
      "source": [
        "# Add a Series after using apply & lamda\n",
        "import copy\n",
        "cdf = df.copy()\n",
        "cdf = cdf.apply(lambda row: row['total_bill']*1.6, axis = 1)\n",
        "\n",
        "df['addTax'] = pd.Series(cdf)\n",
        "df.head()"
      ],
      "execution_count": 0,
      "outputs": [
        {
          "output_type": "execute_result",
          "data": {
            "text/html": [
              "<div>\n",
              "<style scoped>\n",
              "    .dataframe tbody tr th:only-of-type {\n",
              "        vertical-align: middle;\n",
              "    }\n",
              "\n",
              "    .dataframe tbody tr th {\n",
              "        vertical-align: top;\n",
              "    }\n",
              "\n",
              "    .dataframe thead th {\n",
              "        text-align: right;\n",
              "    }\n",
              "</style>\n",
              "<table border=\"1\" class=\"dataframe\">\n",
              "  <thead>\n",
              "    <tr style=\"text-align: right;\">\n",
              "      <th></th>\n",
              "      <th>user_id</th>\n",
              "      <th>order_id</th>\n",
              "      <th>order_dow</th>\n",
              "      <th>items_purchased</th>\n",
              "      <th>total_bill</th>\n",
              "      <th>product_id</th>\n",
              "      <th>product_name</th>\n",
              "      <th>product_price</th>\n",
              "      <th>product_type</th>\n",
              "      <th>sum_total_price</th>\n",
              "      <th>addTax</th>\n",
              "    </tr>\n",
              "  </thead>\n",
              "  <tbody>\n",
              "    <tr>\n",
              "      <th>0</th>\n",
              "      <td>20100</td>\n",
              "      <td>1</td>\n",
              "      <td>Monday</td>\n",
              "      <td>4</td>\n",
              "      <td>600</td>\n",
              "      <td>206</td>\n",
              "      <td>Lingerie</td>\n",
              "      <td>250</td>\n",
              "      <td>Clothing</td>\n",
              "      <td>1000</td>\n",
              "      <td>960.0</td>\n",
              "    </tr>\n",
              "    <tr>\n",
              "      <th>1</th>\n",
              "      <td>20268</td>\n",
              "      <td>2</td>\n",
              "      <td>Thursday</td>\n",
              "      <td>3</td>\n",
              "      <td>300</td>\n",
              "      <td>200</td>\n",
              "      <td>Shirts</td>\n",
              "      <td>600</td>\n",
              "      <td>Clothing</td>\n",
              "      <td>1800</td>\n",
              "      <td>480.0</td>\n",
              "    </tr>\n",
              "    <tr>\n",
              "      <th>2</th>\n",
              "      <td>20118</td>\n",
              "      <td>3</td>\n",
              "      <td>Saturday</td>\n",
              "      <td>3</td>\n",
              "      <td>700</td>\n",
              "      <td>102</td>\n",
              "      <td>Bannanas</td>\n",
              "      <td>150</td>\n",
              "      <td>Groceries</td>\n",
              "      <td>450</td>\n",
              "      <td>1120.0</td>\n",
              "    </tr>\n",
              "    <tr>\n",
              "      <th>3</th>\n",
              "      <td>20108</td>\n",
              "      <td>4</td>\n",
              "      <td>Sunday</td>\n",
              "      <td>2</td>\n",
              "      <td>150</td>\n",
              "      <td>301</td>\n",
              "      <td>Notepad</td>\n",
              "      <td>250</td>\n",
              "      <td>Stationary</td>\n",
              "      <td>500</td>\n",
              "      <td>240.0</td>\n",
              "    </tr>\n",
              "    <tr>\n",
              "      <th>4</th>\n",
              "      <td>20100</td>\n",
              "      <td>5</td>\n",
              "      <td>Tuesday</td>\n",
              "      <td>7</td>\n",
              "      <td>1000</td>\n",
              "      <td>104</td>\n",
              "      <td>Cereal</td>\n",
              "      <td>240</td>\n",
              "      <td>Groceries</td>\n",
              "      <td>1680</td>\n",
              "      <td>1600.0</td>\n",
              "    </tr>\n",
              "  </tbody>\n",
              "</table>\n",
              "</div>"
            ],
            "text/plain": [
              "   user_id  order_id order_dow  ...  product_type  sum_total_price  addTax\n",
              "0    20100         1    Monday  ...      Clothing             1000   960.0\n",
              "1    20268         2  Thursday  ...      Clothing             1800   480.0\n",
              "2    20118         3  Saturday  ...     Groceries              450  1120.0\n",
              "3    20108         4    Sunday  ...    Stationary              500   240.0\n",
              "4    20100         5   Tuesday  ...     Groceries             1680  1600.0\n",
              "\n",
              "[5 rows x 11 columns]"
            ]
          },
          "metadata": {
            "tags": []
          },
          "execution_count": 10
        }
      ]
    },
    {
      "cell_type": "code",
      "metadata": {
        "id": "8cv2BgfJs4X_",
        "colab_type": "code",
        "outputId": "131c46b0-f998-4c80-ad1c-4db5a4921788",
        "colab": {
          "base_uri": "https://localhost:8080/",
          "height": 235
        }
      },
      "source": [
        "# Using Groupby and Apply in the same phrase\n",
        "# All the Tax one user gave\n",
        "def onlyTax(df, withTax, withoutTax):\n",
        "  return np.sum(df[withTax] - df[withoutTax])\n",
        "        \n",
        "print(df.groupby('user_id').apply(onlyTax, 'addTax', 'total_bill'))"
      ],
      "execution_count": 0,
      "outputs": [
        {
          "output_type": "stream",
          "text": [
            "user_id\n",
            "20006      96.0\n",
            "20041    1116.0\n",
            "20056     792.0\n",
            "20100    1710.0\n",
            "20108     450.0\n",
            "20118    1248.0\n",
            "20120    1380.0\n",
            "20268    1866.0\n",
            "20269    1320.0\n",
            "20284     510.0\n",
            "20285     300.0\n",
            "dtype: float64\n"
          ],
          "name": "stdout"
        }
      ]
    },
    {
      "cell_type": "code",
      "metadata": {
        "id": "aMCEfbVGgNqj",
        "colab_type": "code",
        "outputId": "e430fa6e-3913-464c-c57e-21a4898d6040",
        "colab": {
          "base_uri": "https://localhost:8080/",
          "height": 284
        }
      },
      "source": [
        "# In agg you pass in a dictionary the name the columns \n",
        "# you want and after the : the function you want to apply\n",
        "# If want to a new column put the thing you are applying function on in [total_bill]\n",
        "# And the new name as dict key ow just use the df column name as the dict key\n",
        "bdf =df.groupby('order_dow').agg({'total_bill': np.sum})\n",
        "bdf"
      ],
      "execution_count": 0,
      "outputs": [
        {
          "output_type": "execute_result",
          "data": {
            "text/html": [
              "<div>\n",
              "<style scoped>\n",
              "    .dataframe tbody tr th:only-of-type {\n",
              "        vertical-align: middle;\n",
              "    }\n",
              "\n",
              "    .dataframe tbody tr th {\n",
              "        vertical-align: top;\n",
              "    }\n",
              "\n",
              "    .dataframe thead th {\n",
              "        text-align: right;\n",
              "    }\n",
              "</style>\n",
              "<table border=\"1\" class=\"dataframe\">\n",
              "  <thead>\n",
              "    <tr style=\"text-align: right;\">\n",
              "      <th></th>\n",
              "      <th>total_bill</th>\n",
              "    </tr>\n",
              "    <tr>\n",
              "      <th>order_dow</th>\n",
              "      <th></th>\n",
              "    </tr>\n",
              "  </thead>\n",
              "  <tbody>\n",
              "    <tr>\n",
              "      <th>Friday</th>\n",
              "      <td>3960</td>\n",
              "    </tr>\n",
              "    <tr>\n",
              "      <th>Monday</th>\n",
              "      <td>3310</td>\n",
              "    </tr>\n",
              "    <tr>\n",
              "      <th>Saturday</th>\n",
              "      <td>1190</td>\n",
              "    </tr>\n",
              "    <tr>\n",
              "      <th>Sunday</th>\n",
              "      <td>2100</td>\n",
              "    </tr>\n",
              "    <tr>\n",
              "      <th>Thursday</th>\n",
              "      <td>2430</td>\n",
              "    </tr>\n",
              "    <tr>\n",
              "      <th>Tuesday</th>\n",
              "      <td>2170</td>\n",
              "    </tr>\n",
              "    <tr>\n",
              "      <th>Wednesday</th>\n",
              "      <td>2820</td>\n",
              "    </tr>\n",
              "  </tbody>\n",
              "</table>\n",
              "</div>"
            ],
            "text/plain": [
              "           total_bill\n",
              "order_dow            \n",
              "Friday           3960\n",
              "Monday           3310\n",
              "Saturday         1190\n",
              "Sunday           2100\n",
              "Thursday         2430\n",
              "Tuesday          2170\n",
              "Wednesday        2820"
            ]
          },
          "metadata": {
            "tags": []
          },
          "execution_count": 29
        }
      ]
    },
    {
      "cell_type": "code",
      "metadata": {
        "id": "2hbiTB0vk1MX",
        "colab_type": "code",
        "outputId": "fb12fc8e-e1f3-45f9-edf6-321a7e3da3d6",
        "colab": {
          "base_uri": "https://localhost:8080/",
          "height": 347
        }
      },
      "source": [
        "# Another way to use agg, here on total_bill we use two functions\n",
        "# In this dictionary the keys are new columns you wish to add to the df\n",
        "df.groupby('order_dow')['total_bill','sum_total_price'].agg({'sum':np.sum, 'avg':np.average})"
      ],
      "execution_count": 0,
      "outputs": [
        {
          "output_type": "stream",
          "text": [
            "/usr/local/lib/python3.6/dist-packages/pandas/core/groupby/generic.py:1315: FutureWarning: using a dict with renaming is deprecated and will be removed in a future version\n",
            "  return super(DataFrameGroupBy, self).aggregate(arg, *args, **kwargs)\n"
          ],
          "name": "stderr"
        },
        {
          "output_type": "execute_result",
          "data": {
            "text/html": [
              "<div>\n",
              "<style scoped>\n",
              "    .dataframe tbody tr th:only-of-type {\n",
              "        vertical-align: middle;\n",
              "    }\n",
              "\n",
              "    .dataframe tbody tr th {\n",
              "        vertical-align: top;\n",
              "    }\n",
              "\n",
              "    .dataframe thead tr th {\n",
              "        text-align: left;\n",
              "    }\n",
              "\n",
              "    .dataframe thead tr:last-of-type th {\n",
              "        text-align: right;\n",
              "    }\n",
              "</style>\n",
              "<table border=\"1\" class=\"dataframe\">\n",
              "  <thead>\n",
              "    <tr>\n",
              "      <th></th>\n",
              "      <th colspan=\"2\" halign=\"left\">sum</th>\n",
              "      <th colspan=\"2\" halign=\"left\">avg</th>\n",
              "    </tr>\n",
              "    <tr>\n",
              "      <th></th>\n",
              "      <th>total_bill</th>\n",
              "      <th>sum_total_price</th>\n",
              "      <th>total_bill</th>\n",
              "      <th>sum_total_price</th>\n",
              "    </tr>\n",
              "    <tr>\n",
              "      <th>order_dow</th>\n",
              "      <th></th>\n",
              "      <th></th>\n",
              "      <th></th>\n",
              "      <th></th>\n",
              "    </tr>\n",
              "  </thead>\n",
              "  <tbody>\n",
              "    <tr>\n",
              "      <th>Friday</th>\n",
              "      <td>3960</td>\n",
              "      <td>5530</td>\n",
              "      <td>792.000000</td>\n",
              "      <td>1106.000000</td>\n",
              "    </tr>\n",
              "    <tr>\n",
              "      <th>Monday</th>\n",
              "      <td>3310</td>\n",
              "      <td>3250</td>\n",
              "      <td>662.000000</td>\n",
              "      <td>650.000000</td>\n",
              "    </tr>\n",
              "    <tr>\n",
              "      <th>Saturday</th>\n",
              "      <td>1190</td>\n",
              "      <td>1000</td>\n",
              "      <td>396.666667</td>\n",
              "      <td>333.333333</td>\n",
              "    </tr>\n",
              "    <tr>\n",
              "      <th>Sunday</th>\n",
              "      <td>2100</td>\n",
              "      <td>4050</td>\n",
              "      <td>525.000000</td>\n",
              "      <td>1012.500000</td>\n",
              "    </tr>\n",
              "    <tr>\n",
              "      <th>Thursday</th>\n",
              "      <td>2430</td>\n",
              "      <td>5490</td>\n",
              "      <td>486.000000</td>\n",
              "      <td>1098.000000</td>\n",
              "    </tr>\n",
              "    <tr>\n",
              "      <th>Tuesday</th>\n",
              "      <td>2170</td>\n",
              "      <td>3220</td>\n",
              "      <td>542.500000</td>\n",
              "      <td>805.000000</td>\n",
              "    </tr>\n",
              "    <tr>\n",
              "      <th>Wednesday</th>\n",
              "      <td>2820</td>\n",
              "      <td>5480</td>\n",
              "      <td>705.000000</td>\n",
              "      <td>1370.000000</td>\n",
              "    </tr>\n",
              "  </tbody>\n",
              "</table>\n",
              "</div>"
            ],
            "text/plain": [
              "                 sum                         avg                \n",
              "          total_bill sum_total_price  total_bill sum_total_price\n",
              "order_dow                                                       \n",
              "Friday          3960            5530  792.000000     1106.000000\n",
              "Monday          3310            3250  662.000000      650.000000\n",
              "Saturday        1190            1000  396.666667      333.333333\n",
              "Sunday          2100            4050  525.000000     1012.500000\n",
              "Thursday        2430            5490  486.000000     1098.000000\n",
              "Tuesday         2170            3220  542.500000      805.000000\n",
              "Wednesday       2820            5480  705.000000     1370.000000"
            ]
          },
          "metadata": {
            "tags": []
          },
          "execution_count": 25
        }
      ]
    },
    {
      "cell_type": "code",
      "metadata": {
        "id": "F8t-yKWgmaCW",
        "colab_type": "code",
        "colab": {}
      },
      "source": [
        ""
      ],
      "execution_count": 0,
      "outputs": []
    }
  ]
}