{
 "cells": [
  {
   "cell_type": "code",
   "execution_count": 1,
   "metadata": {},
   "outputs": [],
   "source": [
    "import pandas as pd\n",
    "import numpy as np\n",
    "import threading\n",
    "\n",
    "import random\n",
    "import re\n",
    "import math\n",
    "from collections import Counter\n",
    "\n",
    "import os"
   ]
  },
  {
   "cell_type": "code",
   "execution_count": 2,
   "metadata": {},
   "outputs": [
    {
     "data": {
      "text/plain": [
       "['negative-words.txt', 'positive-words.txt', 'test', 'train']"
      ]
     },
     "execution_count": 2,
     "metadata": {},
     "output_type": "execute_result"
    }
   ],
   "source": [
    "dir = './Dataset/'\n",
    "path = os.listdir('./Dataset')\n",
    "path"
   ]
  },
  {
   "cell_type": "code",
   "execution_count": 3,
   "metadata": {},
   "outputs": [
    {
     "data": {
      "text/plain": [
       "['a+', 'abound', 'abounds', 'abundance', 'abundant']"
      ]
     },
     "execution_count": 3,
     "metadata": {},
     "output_type": "execute_result"
    }
   ],
   "source": [
    "f = open(dir + 'positive-words.txt', 'r')\n",
    "pos_words = f.read().lower().split('\\n')\n",
    "pos_words[:5]"
   ]
  },
  {
   "cell_type": "code",
   "execution_count": 4,
   "metadata": {},
   "outputs": [
    {
     "data": {
      "text/plain": [
       "['2-faced', '2-faces', 'abnormal', 'abolish', 'abominable']"
      ]
     },
     "execution_count": 4,
     "metadata": {},
     "output_type": "execute_result"
    }
   ],
   "source": [
    "f = open(dir + 'negative-words.txt', 'r')\n",
    "neg_words = f.read().lower().split('\\n')\n",
    "neg_words[:5]"
   ]
  },
  {
   "cell_type": "code",
   "execution_count": 5,
   "metadata": {},
   "outputs": [
    {
     "name": "stdout",
     "output_type": "stream",
     "text": [
      "Negative Words:  4783\n",
      "Positive Words:  2006\n"
     ]
    }
   ],
   "source": [
    "print('Negative Words: ',len(neg_words))\n",
    "print('Positive Words: ',len(pos_words))"
   ]
  },
  {
   "cell_type": "code",
   "execution_count": 6,
   "metadata": {},
   "outputs": [],
   "source": [
    "train_dir = dir + 'train/'\n",
    "test_dir = dir + 'test/'"
   ]
  },
  {
   "cell_type": "code",
   "execution_count": 7,
   "metadata": {},
   "outputs": [],
   "source": [
    "pos_train_path = train_dir + 'pos/'\n",
    "neg_train_path = train_dir + 'neg/'\n",
    "pos_test_path = test_dir + 'pos/'\n",
    "neg_test_path = test_dir + 'neg/'"
   ]
  },
  {
   "cell_type": "code",
   "execution_count": 8,
   "metadata": {},
   "outputs": [
    {
     "name": "stdout",
     "output_type": "stream",
     "text": [
      "12500\n",
      "12500\n",
      "12500\n",
      "12500\n"
     ]
    }
   ],
   "source": [
    "print(len(os.listdir(pos_train_path)))\n",
    "print(len(os.listdir(neg_train_path)))\n",
    "print(len(os.listdir(pos_test_path)))\n",
    "print(len(os.listdir(neg_test_path)))"
   ]
  },
  {
   "cell_type": "code",
   "execution_count": 9,
   "metadata": {
    "scrolled": false
   },
   "outputs": [],
   "source": [
    "dict = {}\n",
    "\n",
    "def makeFrame(PATH, STATUS, THREAD):\n",
    "    frame = []\n",
    "    for file in os.listdir(PATH):\n",
    "        f = open(PATH + file, 'r', encoding=\"utf8\")\n",
    "        s = f.read()\n",
    "        exclamation, no_word = 0, 0\n",
    "        if '!' in s:\n",
    "            exclamation = 1\n",
    "        if 'no' in s.split():\n",
    "            no_word = 1\n",
    "        s = re.sub('[^A-Za-z0-9\\s]+','',s.replace('<br />','').replace('.',' ')).lower().strip().split()\n",
    "        n_w, n_p = 0, 0\n",
    "        for w in Counter(s).items():\n",
    "            if w[0] in neg_words:\n",
    "                n_w += w[1]\n",
    "            elif w[0] in pos_words:\n",
    "                n_p += w[1]\n",
    "        logCount = math.log(len(s))\n",
    "        frame.append([int(file.strip('.txt').split('_')[0]), int(file.strip('.txt').split('_')[-1]), s, n_w, n_p, logCount, exclamation, no_word, STATUS])\n",
    "    dict[THREAD] = frame"
   ]
  },
  {
   "cell_type": "code",
   "execution_count": 10,
   "metadata": {},
   "outputs": [],
   "source": [
    "try:\n",
    "    t1 = threading.Thread(target= makeFrame, args=(pos_train_path, 1, '+ve_Train',))\n",
    "    t2 = threading.Thread(target= makeFrame, args= (neg_train_path, 0, '-ve_Train',))\n",
    "    t3 = threading.Thread(target= makeFrame, args= (pos_test_path, 1, '+ve_Test',))\n",
    "    t4 = threading.Thread(target= makeFrame, args= (neg_test_path, 0,'-ve_Test',) )\n",
    "except:\n",
    "    print(\"Error: Unable To Start Thread\")"
   ]
  },
  {
   "cell_type": "code",
   "execution_count": 11,
   "metadata": {},
   "outputs": [
    {
     "name": "stdout",
     "output_type": "stream",
     "text": [
      "Finished All Threads\n"
     ]
    }
   ],
   "source": [
    "t1.start()\n",
    "t2.start()\n",
    "t3.start()\n",
    "t4.start()\n",
    "\n",
    "t1.join()\n",
    "t2.join()\n",
    "t3.join()\n",
    "t4.join()\n",
    "print('Finished All Threads')"
   ]
  },
  {
   "cell_type": "code",
   "execution_count": 16,
   "metadata": {},
   "outputs": [
    {
     "data": {
      "text/html": [
       "<div>\n",
       "<style scoped>\n",
       "    .dataframe tbody tr th:only-of-type {\n",
       "        vertical-align: middle;\n",
       "    }\n",
       "\n",
       "    .dataframe tbody tr th {\n",
       "        vertical-align: top;\n",
       "    }\n",
       "\n",
       "    .dataframe thead th {\n",
       "        text-align: right;\n",
       "    }\n",
       "</style>\n",
       "<table border=\"1\" class=\"dataframe\">\n",
       "  <thead>\n",
       "    <tr style=\"text-align: right;\">\n",
       "      <th></th>\n",
       "      <th>Unique_ID</th>\n",
       "      <th>Rating</th>\n",
       "      <th>Text</th>\n",
       "      <th>Negative_Words</th>\n",
       "      <th>Positive_Words</th>\n",
       "      <th>Log_Word_Count</th>\n",
       "      <th>Exclamation_Mark</th>\n",
       "      <th>No_Word</th>\n",
       "      <th>Status</th>\n",
       "    </tr>\n",
       "  </thead>\n",
       "  <tbody>\n",
       "    <tr>\n",
       "      <th>0</th>\n",
       "      <td>0</td>\n",
       "      <td>10</td>\n",
       "      <td>[i, went, and, saw, this, movie, last, night, ...</td>\n",
       "      <td>3</td>\n",
       "      <td>4</td>\n",
       "      <td>5.023881</td>\n",
       "      <td>0</td>\n",
       "      <td>0</td>\n",
       "      <td>1</td>\n",
       "    </tr>\n",
       "    <tr>\n",
       "      <th>1</th>\n",
       "      <td>10000</td>\n",
       "      <td>7</td>\n",
       "      <td>[actor, turned, director, bill, paxton, follow...</td>\n",
       "      <td>6</td>\n",
       "      <td>19</td>\n",
       "      <td>5.840642</td>\n",
       "      <td>0</td>\n",
       "      <td>1</td>\n",
       "      <td>1</td>\n",
       "    </tr>\n",
       "    <tr>\n",
       "      <th>2</th>\n",
       "      <td>10001</td>\n",
       "      <td>9</td>\n",
       "      <td>[as, a, recreational, golfer, with, some, know...</td>\n",
       "      <td>9</td>\n",
       "      <td>9</td>\n",
       "      <td>5.484797</td>\n",
       "      <td>0</td>\n",
       "      <td>0</td>\n",
       "      <td>1</td>\n",
       "    </tr>\n",
       "    <tr>\n",
       "      <th>3</th>\n",
       "      <td>10002</td>\n",
       "      <td>8</td>\n",
       "      <td>[i, saw, this, film, in, a, sneak, preview, an...</td>\n",
       "      <td>2</td>\n",
       "      <td>14</td>\n",
       "      <td>4.804021</td>\n",
       "      <td>0</td>\n",
       "      <td>0</td>\n",
       "      <td>1</td>\n",
       "    </tr>\n",
       "    <tr>\n",
       "      <th>4</th>\n",
       "      <td>10003</td>\n",
       "      <td>8</td>\n",
       "      <td>[bill, paxton, has, taken, the, true, story, o...</td>\n",
       "      <td>3</td>\n",
       "      <td>15</td>\n",
       "      <td>5.308268</td>\n",
       "      <td>0</td>\n",
       "      <td>0</td>\n",
       "      <td>1</td>\n",
       "    </tr>\n",
       "  </tbody>\n",
       "</table>\n",
       "</div>"
      ],
      "text/plain": [
       "   Unique_ID  Rating                                               Text  \\\n",
       "0          0      10  [i, went, and, saw, this, movie, last, night, ...   \n",
       "1      10000       7  [actor, turned, director, bill, paxton, follow...   \n",
       "2      10001       9  [as, a, recreational, golfer, with, some, know...   \n",
       "3      10002       8  [i, saw, this, film, in, a, sneak, preview, an...   \n",
       "4      10003       8  [bill, paxton, has, taken, the, true, story, o...   \n",
       "\n",
       "   Negative_Words  Positive_Words  Log_Word_Count  Exclamation_Mark  No_Word  \\\n",
       "0               3               4        5.023881                 0        0   \n",
       "1               6              19        5.840642                 0        1   \n",
       "2               9               9        5.484797                 0        0   \n",
       "3               2              14        4.804021                 0        0   \n",
       "4               3              15        5.308268                 0        0   \n",
       "\n",
       "   Status  \n",
       "0       1  \n",
       "1       1  \n",
       "2       1  \n",
       "3       1  \n",
       "4       1  "
      ]
     },
     "metadata": {},
     "output_type": "display_data"
    },
    {
     "data": {
      "text/html": [
       "<div>\n",
       "<style scoped>\n",
       "    .dataframe tbody tr th:only-of-type {\n",
       "        vertical-align: middle;\n",
       "    }\n",
       "\n",
       "    .dataframe tbody tr th {\n",
       "        vertical-align: top;\n",
       "    }\n",
       "\n",
       "    .dataframe thead th {\n",
       "        text-align: right;\n",
       "    }\n",
       "</style>\n",
       "<table border=\"1\" class=\"dataframe\">\n",
       "  <thead>\n",
       "    <tr style=\"text-align: right;\">\n",
       "      <th></th>\n",
       "      <th>Unique_ID</th>\n",
       "      <th>Rating</th>\n",
       "      <th>Text</th>\n",
       "      <th>Negative_Words</th>\n",
       "      <th>Positive_Words</th>\n",
       "      <th>Log_Word_Count</th>\n",
       "      <th>Exclamation_Mark</th>\n",
       "      <th>No_Word</th>\n",
       "      <th>Status</th>\n",
       "    </tr>\n",
       "  </thead>\n",
       "  <tbody>\n",
       "    <tr>\n",
       "      <th>12495</th>\n",
       "      <td>9998</td>\n",
       "      <td>1</td>\n",
       "      <td>[i, occasionally, let, my, kids, watch, this, ...</td>\n",
       "      <td>11</td>\n",
       "      <td>4</td>\n",
       "      <td>4.644391</td>\n",
       "      <td>0</td>\n",
       "      <td>0</td>\n",
       "      <td>0</td>\n",
       "    </tr>\n",
       "    <tr>\n",
       "      <th>12496</th>\n",
       "      <td>9999</td>\n",
       "      <td>1</td>\n",
       "      <td>[when, all, we, have, anymore, is, pretty, muc...</td>\n",
       "      <td>7</td>\n",
       "      <td>9</td>\n",
       "      <td>5.099866</td>\n",
       "      <td>0</td>\n",
       "      <td>0</td>\n",
       "      <td>0</td>\n",
       "    </tr>\n",
       "    <tr>\n",
       "      <th>12497</th>\n",
       "      <td>999</td>\n",
       "      <td>3</td>\n",
       "      <td>[the, basic, genre, is, a, thriller, intercut,...</td>\n",
       "      <td>9</td>\n",
       "      <td>8</td>\n",
       "      <td>5.575949</td>\n",
       "      <td>0</td>\n",
       "      <td>1</td>\n",
       "      <td>0</td>\n",
       "    </tr>\n",
       "    <tr>\n",
       "      <th>12498</th>\n",
       "      <td>99</td>\n",
       "      <td>3</td>\n",
       "      <td>[four, things, intrigued, me, as, to, this, fi...</td>\n",
       "      <td>6</td>\n",
       "      <td>8</td>\n",
       "      <td>4.836282</td>\n",
       "      <td>0</td>\n",
       "      <td>0</td>\n",
       "      <td>0</td>\n",
       "    </tr>\n",
       "    <tr>\n",
       "      <th>12499</th>\n",
       "      <td>9</td>\n",
       "      <td>4</td>\n",
       "      <td>[david, bryces, comments, nearby, are, excepti...</td>\n",
       "      <td>15</td>\n",
       "      <td>27</td>\n",
       "      <td>5.968708</td>\n",
       "      <td>1</td>\n",
       "      <td>0</td>\n",
       "      <td>0</td>\n",
       "    </tr>\n",
       "  </tbody>\n",
       "</table>\n",
       "</div>"
      ],
      "text/plain": [
       "       Unique_ID  Rating                                               Text  \\\n",
       "12495       9998       1  [i, occasionally, let, my, kids, watch, this, ...   \n",
       "12496       9999       1  [when, all, we, have, anymore, is, pretty, muc...   \n",
       "12497        999       3  [the, basic, genre, is, a, thriller, intercut,...   \n",
       "12498         99       3  [four, things, intrigued, me, as, to, this, fi...   \n",
       "12499          9       4  [david, bryces, comments, nearby, are, excepti...   \n",
       "\n",
       "       Negative_Words  Positive_Words  Log_Word_Count  Exclamation_Mark  \\\n",
       "12495              11               4        4.644391                 0   \n",
       "12496               7               9        5.099866                 0   \n",
       "12497               9               8        5.575949                 0   \n",
       "12498               6               8        4.836282                 0   \n",
       "12499              15              27        5.968708                 1   \n",
       "\n",
       "       No_Word  Status  \n",
       "12495        0       0  \n",
       "12496        0       0  \n",
       "12497        1       0  \n",
       "12498        0       0  \n",
       "12499        0       0  "
      ]
     },
     "metadata": {},
     "output_type": "display_data"
    }
   ],
   "source": [
    "df_Ptest = pd.DataFrame(dict['+ve_Test'], columns = ['Unique_ID' , 'Rating', 'Text', 'Negative_Words', 'Positive_Words', 'Log_Word_Count', 'Exclamation_Mark', 'No_Word','Status'])\n",
    "df_Ntest = pd.DataFrame(dict['-ve_Test'], columns = ['Unique_ID' , 'Rating', 'Text', 'Negative_Words', 'Positive_Words', 'Log_Word_Count', 'Exclamation_Mark', 'No_Word','Status'])\n",
    "df_test_all = pd.concat([df_Ptest, df_Ntest])\n",
    "display(df_test_all.head(), df_test_all.tail())"
   ]
  },
  {
   "cell_type": "code",
   "execution_count": 17,
   "metadata": {
    "scrolled": false
   },
   "outputs": [
    {
     "data": {
      "text/html": [
       "<div>\n",
       "<style scoped>\n",
       "    .dataframe tbody tr th:only-of-type {\n",
       "        vertical-align: middle;\n",
       "    }\n",
       "\n",
       "    .dataframe tbody tr th {\n",
       "        vertical-align: top;\n",
       "    }\n",
       "\n",
       "    .dataframe thead th {\n",
       "        text-align: right;\n",
       "    }\n",
       "</style>\n",
       "<table border=\"1\" class=\"dataframe\">\n",
       "  <thead>\n",
       "    <tr style=\"text-align: right;\">\n",
       "      <th></th>\n",
       "      <th>Unique_ID</th>\n",
       "      <th>Rating</th>\n",
       "      <th>Text</th>\n",
       "      <th>Negative_Words</th>\n",
       "      <th>Positive_Words</th>\n",
       "      <th>Log_Word_Count</th>\n",
       "      <th>Exclamation_Mark</th>\n",
       "      <th>No_Word</th>\n",
       "      <th>Status</th>\n",
       "    </tr>\n",
       "  </thead>\n",
       "  <tbody>\n",
       "    <tr>\n",
       "      <th>0</th>\n",
       "      <td>0</td>\n",
       "      <td>9</td>\n",
       "      <td>[bromwell, high, is, a, cartoon, comedy, it, r...</td>\n",
       "      <td>5</td>\n",
       "      <td>5</td>\n",
       "      <td>4.927254</td>\n",
       "      <td>1</td>\n",
       "      <td>0</td>\n",
       "      <td>1</td>\n",
       "    </tr>\n",
       "    <tr>\n",
       "      <th>1</th>\n",
       "      <td>10000</td>\n",
       "      <td>8</td>\n",
       "      <td>[homelessness, or, houselessness, as, george, ...</td>\n",
       "      <td>15</td>\n",
       "      <td>17</td>\n",
       "      <td>6.049733</td>\n",
       "      <td>0</td>\n",
       "      <td>0</td>\n",
       "      <td>1</td>\n",
       "    </tr>\n",
       "    <tr>\n",
       "      <th>2</th>\n",
       "      <td>10001</td>\n",
       "      <td>10</td>\n",
       "      <td>[brilliant, overacting, by, lesley, ann, warre...</td>\n",
       "      <td>7</td>\n",
       "      <td>9</td>\n",
       "      <td>4.990433</td>\n",
       "      <td>0</td>\n",
       "      <td>0</td>\n",
       "      <td>1</td>\n",
       "    </tr>\n",
       "    <tr>\n",
       "      <th>3</th>\n",
       "      <td>10002</td>\n",
       "      <td>7</td>\n",
       "      <td>[this, is, easily, the, most, underrated, film...</td>\n",
       "      <td>6</td>\n",
       "      <td>8</td>\n",
       "      <td>4.820282</td>\n",
       "      <td>0</td>\n",
       "      <td>0</td>\n",
       "      <td>1</td>\n",
       "    </tr>\n",
       "    <tr>\n",
       "      <th>4</th>\n",
       "      <td>10003</td>\n",
       "      <td>8</td>\n",
       "      <td>[this, is, not, the, typical, mel, brooks, fil...</td>\n",
       "      <td>2</td>\n",
       "      <td>6</td>\n",
       "      <td>4.787492</td>\n",
       "      <td>0</td>\n",
       "      <td>0</td>\n",
       "      <td>1</td>\n",
       "    </tr>\n",
       "  </tbody>\n",
       "</table>\n",
       "</div>"
      ],
      "text/plain": [
       "   Unique_ID  Rating                                               Text  \\\n",
       "0          0       9  [bromwell, high, is, a, cartoon, comedy, it, r...   \n",
       "1      10000       8  [homelessness, or, houselessness, as, george, ...   \n",
       "2      10001      10  [brilliant, overacting, by, lesley, ann, warre...   \n",
       "3      10002       7  [this, is, easily, the, most, underrated, film...   \n",
       "4      10003       8  [this, is, not, the, typical, mel, brooks, fil...   \n",
       "\n",
       "   Negative_Words  Positive_Words  Log_Word_Count  Exclamation_Mark  No_Word  \\\n",
       "0               5               5        4.927254                 1        0   \n",
       "1              15              17        6.049733                 0        0   \n",
       "2               7               9        4.990433                 0        0   \n",
       "3               6               8        4.820282                 0        0   \n",
       "4               2               6        4.787492                 0        0   \n",
       "\n",
       "   Status  \n",
       "0       1  \n",
       "1       1  \n",
       "2       1  \n",
       "3       1  \n",
       "4       1  "
      ]
     },
     "metadata": {},
     "output_type": "display_data"
    },
    {
     "data": {
      "text/html": [
       "<div>\n",
       "<style scoped>\n",
       "    .dataframe tbody tr th:only-of-type {\n",
       "        vertical-align: middle;\n",
       "    }\n",
       "\n",
       "    .dataframe tbody tr th {\n",
       "        vertical-align: top;\n",
       "    }\n",
       "\n",
       "    .dataframe thead th {\n",
       "        text-align: right;\n",
       "    }\n",
       "</style>\n",
       "<table border=\"1\" class=\"dataframe\">\n",
       "  <thead>\n",
       "    <tr style=\"text-align: right;\">\n",
       "      <th></th>\n",
       "      <th>Unique_ID</th>\n",
       "      <th>Rating</th>\n",
       "      <th>Text</th>\n",
       "      <th>Negative_Words</th>\n",
       "      <th>Positive_Words</th>\n",
       "      <th>Log_Word_Count</th>\n",
       "      <th>Exclamation_Mark</th>\n",
       "      <th>No_Word</th>\n",
       "      <th>Status</th>\n",
       "    </tr>\n",
       "  </thead>\n",
       "  <tbody>\n",
       "    <tr>\n",
       "      <th>12495</th>\n",
       "      <td>9998</td>\n",
       "      <td>4</td>\n",
       "      <td>[towards, the, end, of, the, movie, i, felt, i...</td>\n",
       "      <td>10</td>\n",
       "      <td>12</td>\n",
       "      <td>5.634790</td>\n",
       "      <td>0</td>\n",
       "      <td>0</td>\n",
       "      <td>0</td>\n",
       "    </tr>\n",
       "    <tr>\n",
       "      <th>12496</th>\n",
       "      <td>9999</td>\n",
       "      <td>3</td>\n",
       "      <td>[this, is, the, kind, of, movie, that, my, ene...</td>\n",
       "      <td>7</td>\n",
       "      <td>6</td>\n",
       "      <td>4.997212</td>\n",
       "      <td>1</td>\n",
       "      <td>1</td>\n",
       "      <td>0</td>\n",
       "    </tr>\n",
       "    <tr>\n",
       "      <th>12497</th>\n",
       "      <td>999</td>\n",
       "      <td>3</td>\n",
       "      <td>[i, saw, descent, last, night, at, the, stockh...</td>\n",
       "      <td>14</td>\n",
       "      <td>14</td>\n",
       "      <td>5.659482</td>\n",
       "      <td>1</td>\n",
       "      <td>0</td>\n",
       "      <td>0</td>\n",
       "    </tr>\n",
       "    <tr>\n",
       "      <th>12498</th>\n",
       "      <td>99</td>\n",
       "      <td>1</td>\n",
       "      <td>[some, films, that, you, pick, up, for, a, pou...</td>\n",
       "      <td>17</td>\n",
       "      <td>9</td>\n",
       "      <td>5.424950</td>\n",
       "      <td>0</td>\n",
       "      <td>0</td>\n",
       "      <td>0</td>\n",
       "    </tr>\n",
       "    <tr>\n",
       "      <th>12499</th>\n",
       "      <td>9</td>\n",
       "      <td>1</td>\n",
       "      <td>[this, is, one, of, the, dumbest, films, ive, ...</td>\n",
       "      <td>9</td>\n",
       "      <td>4</td>\n",
       "      <td>4.927254</td>\n",
       "      <td>0</td>\n",
       "      <td>0</td>\n",
       "      <td>0</td>\n",
       "    </tr>\n",
       "  </tbody>\n",
       "</table>\n",
       "</div>"
      ],
      "text/plain": [
       "       Unique_ID  Rating                                               Text  \\\n",
       "12495       9998       4  [towards, the, end, of, the, movie, i, felt, i...   \n",
       "12496       9999       3  [this, is, the, kind, of, movie, that, my, ene...   \n",
       "12497        999       3  [i, saw, descent, last, night, at, the, stockh...   \n",
       "12498         99       1  [some, films, that, you, pick, up, for, a, pou...   \n",
       "12499          9       1  [this, is, one, of, the, dumbest, films, ive, ...   \n",
       "\n",
       "       Negative_Words  Positive_Words  Log_Word_Count  Exclamation_Mark  \\\n",
       "12495              10              12        5.634790                 0   \n",
       "12496               7               6        4.997212                 1   \n",
       "12497              14              14        5.659482                 1   \n",
       "12498              17               9        5.424950                 0   \n",
       "12499               9               4        4.927254                 0   \n",
       "\n",
       "       No_Word  Status  \n",
       "12495        0       0  \n",
       "12496        1       0  \n",
       "12497        0       0  \n",
       "12498        0       0  \n",
       "12499        0       0  "
      ]
     },
     "metadata": {},
     "output_type": "display_data"
    }
   ],
   "source": [
    "df_Ptrain = pd.DataFrame(dict['+ve_Train'], columns = ['Unique_ID' , 'Rating', 'Text', 'Negative_Words', 'Positive_Words', 'Log_Word_Count', 'Exclamation_Mark', 'No_Word','Status'])\n",
    "df_Ntrain = pd.DataFrame(dict['-ve_Train'], columns = ['Unique_ID' , 'Rating', 'Text', 'Negative_Words', 'Positive_Words', 'Log_Word_Count', 'Exclamation_Mark', 'No_Word','Status'])\n",
    "df_train_all = pd.concat([df_Ptrain, df_Ntrain])\n",
    "display(df_train_all.head(), df_train_all.tail())"
   ]
  },
  {
   "cell_type": "code",
   "execution_count": 18,
   "metadata": {},
   "outputs": [
    {
     "name": "stdout",
     "output_type": "stream",
     "text": [
      "unnatural\n",
      "pig\n",
      "absurd\n",
      "insane\n",
      "violent\n",
      "crazy\n",
      "unfortunately\n",
      "absurd\n"
     ]
    }
   ],
   "source": [
    "for i in df_train_all.iloc[12500]['Text']:\n",
    "    if i in neg_words:\n",
    "        print(i)"
   ]
  },
  {
   "cell_type": "code",
   "execution_count": 19,
   "metadata": {},
   "outputs": [
    {
     "data": {
      "text/html": [
       "<div>\n",
       "<style scoped>\n",
       "    .dataframe tbody tr th:only-of-type {\n",
       "        vertical-align: middle;\n",
       "    }\n",
       "\n",
       "    .dataframe tbody tr th {\n",
       "        vertical-align: top;\n",
       "    }\n",
       "\n",
       "    .dataframe thead th {\n",
       "        text-align: right;\n",
       "    }\n",
       "</style>\n",
       "<table border=\"1\" class=\"dataframe\">\n",
       "  <thead>\n",
       "    <tr style=\"text-align: right;\">\n",
       "      <th></th>\n",
       "      <th>Rating</th>\n",
       "      <th>Negative_Words</th>\n",
       "      <th>Positive_Words</th>\n",
       "      <th>Log_Word_Count</th>\n",
       "      <th>Exclamation_Mark</th>\n",
       "      <th>No_Word</th>\n",
       "      <th>Status</th>\n",
       "    </tr>\n",
       "  </thead>\n",
       "  <tbody>\n",
       "    <tr>\n",
       "      <th>0</th>\n",
       "      <td>10</td>\n",
       "      <td>3</td>\n",
       "      <td>4</td>\n",
       "      <td>5.023881</td>\n",
       "      <td>0</td>\n",
       "      <td>0</td>\n",
       "      <td>1</td>\n",
       "    </tr>\n",
       "    <tr>\n",
       "      <th>1</th>\n",
       "      <td>7</td>\n",
       "      <td>6</td>\n",
       "      <td>19</td>\n",
       "      <td>5.840642</td>\n",
       "      <td>0</td>\n",
       "      <td>1</td>\n",
       "      <td>1</td>\n",
       "    </tr>\n",
       "    <tr>\n",
       "      <th>2</th>\n",
       "      <td>9</td>\n",
       "      <td>9</td>\n",
       "      <td>9</td>\n",
       "      <td>5.484797</td>\n",
       "      <td>0</td>\n",
       "      <td>0</td>\n",
       "      <td>1</td>\n",
       "    </tr>\n",
       "    <tr>\n",
       "      <th>3</th>\n",
       "      <td>8</td>\n",
       "      <td>2</td>\n",
       "      <td>14</td>\n",
       "      <td>4.804021</td>\n",
       "      <td>0</td>\n",
       "      <td>0</td>\n",
       "      <td>1</td>\n",
       "    </tr>\n",
       "    <tr>\n",
       "      <th>4</th>\n",
       "      <td>8</td>\n",
       "      <td>3</td>\n",
       "      <td>15</td>\n",
       "      <td>5.308268</td>\n",
       "      <td>0</td>\n",
       "      <td>0</td>\n",
       "      <td>1</td>\n",
       "    </tr>\n",
       "  </tbody>\n",
       "</table>\n",
       "</div>"
      ],
      "text/plain": [
       "   Rating  Negative_Words  Positive_Words  Log_Word_Count  Exclamation_Mark  \\\n",
       "0      10               3               4        5.023881                 0   \n",
       "1       7               6              19        5.840642                 0   \n",
       "2       9               9               9        5.484797                 0   \n",
       "3       8               2              14        4.804021                 0   \n",
       "4       8               3              15        5.308268                 0   \n",
       "\n",
       "   No_Word  Status  \n",
       "0        0       1  \n",
       "1        1       1  \n",
       "2        0       1  \n",
       "3        0       1  \n",
       "4        0       1  "
      ]
     },
     "execution_count": 19,
     "metadata": {},
     "output_type": "execute_result"
    }
   ],
   "source": [
    "df_test = df_test_all.reset_index().drop(columns = ['index','Text','Unique_ID'])\n",
    "df_test.head()"
   ]
  },
  {
   "cell_type": "code",
   "execution_count": 20,
   "metadata": {},
   "outputs": [
    {
     "data": {
      "text/html": [
       "<div>\n",
       "<style scoped>\n",
       "    .dataframe tbody tr th:only-of-type {\n",
       "        vertical-align: middle;\n",
       "    }\n",
       "\n",
       "    .dataframe tbody tr th {\n",
       "        vertical-align: top;\n",
       "    }\n",
       "\n",
       "    .dataframe thead th {\n",
       "        text-align: right;\n",
       "    }\n",
       "</style>\n",
       "<table border=\"1\" class=\"dataframe\">\n",
       "  <thead>\n",
       "    <tr style=\"text-align: right;\">\n",
       "      <th></th>\n",
       "      <th>Rating</th>\n",
       "      <th>Negative_Words</th>\n",
       "      <th>Positive_Words</th>\n",
       "      <th>Log_Word_Count</th>\n",
       "      <th>Exclamation_Mark</th>\n",
       "      <th>No_Word</th>\n",
       "      <th>Status</th>\n",
       "    </tr>\n",
       "  </thead>\n",
       "  <tbody>\n",
       "    <tr>\n",
       "      <th>0</th>\n",
       "      <td>9</td>\n",
       "      <td>5</td>\n",
       "      <td>5</td>\n",
       "      <td>4.927254</td>\n",
       "      <td>1</td>\n",
       "      <td>0</td>\n",
       "      <td>1</td>\n",
       "    </tr>\n",
       "    <tr>\n",
       "      <th>1</th>\n",
       "      <td>8</td>\n",
       "      <td>15</td>\n",
       "      <td>17</td>\n",
       "      <td>6.049733</td>\n",
       "      <td>0</td>\n",
       "      <td>0</td>\n",
       "      <td>1</td>\n",
       "    </tr>\n",
       "    <tr>\n",
       "      <th>2</th>\n",
       "      <td>10</td>\n",
       "      <td>7</td>\n",
       "      <td>9</td>\n",
       "      <td>4.990433</td>\n",
       "      <td>0</td>\n",
       "      <td>0</td>\n",
       "      <td>1</td>\n",
       "    </tr>\n",
       "    <tr>\n",
       "      <th>3</th>\n",
       "      <td>7</td>\n",
       "      <td>6</td>\n",
       "      <td>8</td>\n",
       "      <td>4.820282</td>\n",
       "      <td>0</td>\n",
       "      <td>0</td>\n",
       "      <td>1</td>\n",
       "    </tr>\n",
       "    <tr>\n",
       "      <th>4</th>\n",
       "      <td>8</td>\n",
       "      <td>2</td>\n",
       "      <td>6</td>\n",
       "      <td>4.787492</td>\n",
       "      <td>0</td>\n",
       "      <td>0</td>\n",
       "      <td>1</td>\n",
       "    </tr>\n",
       "  </tbody>\n",
       "</table>\n",
       "</div>"
      ],
      "text/plain": [
       "   Rating  Negative_Words  Positive_Words  Log_Word_Count  Exclamation_Mark  \\\n",
       "0       9               5               5        4.927254                 1   \n",
       "1       8              15              17        6.049733                 0   \n",
       "2      10               7               9        4.990433                 0   \n",
       "3       7               6               8        4.820282                 0   \n",
       "4       8               2               6        4.787492                 0   \n",
       "\n",
       "   No_Word  Status  \n",
       "0        0       1  \n",
       "1        0       1  \n",
       "2        0       1  \n",
       "3        0       1  \n",
       "4        0       1  "
      ]
     },
     "execution_count": 20,
     "metadata": {},
     "output_type": "execute_result"
    }
   ],
   "source": [
    "df_train_original = df_train_all.reset_index().drop(columns = ['index','Text','Unique_ID'])\n",
    "df_train_original.head()"
   ]
  },
  {
   "cell_type": "code",
   "execution_count": 21,
   "metadata": {},
   "outputs": [
    {
     "data": {
      "text/html": [
       "<div>\n",
       "<style scoped>\n",
       "    .dataframe tbody tr th:only-of-type {\n",
       "        vertical-align: middle;\n",
       "    }\n",
       "\n",
       "    .dataframe tbody tr th {\n",
       "        vertical-align: top;\n",
       "    }\n",
       "\n",
       "    .dataframe thead th {\n",
       "        text-align: right;\n",
       "    }\n",
       "</style>\n",
       "<table border=\"1\" class=\"dataframe\">\n",
       "  <thead>\n",
       "    <tr style=\"text-align: right;\">\n",
       "      <th></th>\n",
       "      <th>Rating</th>\n",
       "      <th>Negative_Words</th>\n",
       "      <th>Positive_Words</th>\n",
       "      <th>Log_Word_Count</th>\n",
       "      <th>Exclamation_Mark</th>\n",
       "      <th>No_Word</th>\n",
       "      <th>Status</th>\n",
       "    </tr>\n",
       "  </thead>\n",
       "  <tbody>\n",
       "    <tr>\n",
       "      <th>22441</th>\n",
       "      <td>2</td>\n",
       "      <td>6</td>\n",
       "      <td>5</td>\n",
       "      <td>5.283204</td>\n",
       "      <td>0</td>\n",
       "      <td>0</td>\n",
       "      <td>0</td>\n",
       "    </tr>\n",
       "    <tr>\n",
       "      <th>8845</th>\n",
       "      <td>10</td>\n",
       "      <td>16</td>\n",
       "      <td>32</td>\n",
       "      <td>6.595781</td>\n",
       "      <td>1</td>\n",
       "      <td>0</td>\n",
       "      <td>1</td>\n",
       "    </tr>\n",
       "    <tr>\n",
       "      <th>4865</th>\n",
       "      <td>10</td>\n",
       "      <td>0</td>\n",
       "      <td>8</td>\n",
       "      <td>4.804021</td>\n",
       "      <td>1</td>\n",
       "      <td>0</td>\n",
       "      <td>1</td>\n",
       "    </tr>\n",
       "    <tr>\n",
       "      <th>22149</th>\n",
       "      <td>4</td>\n",
       "      <td>4</td>\n",
       "      <td>7</td>\n",
       "      <td>4.700480</td>\n",
       "      <td>0</td>\n",
       "      <td>0</td>\n",
       "      <td>0</td>\n",
       "    </tr>\n",
       "    <tr>\n",
       "      <th>21845</th>\n",
       "      <td>3</td>\n",
       "      <td>6</td>\n",
       "      <td>3</td>\n",
       "      <td>4.804021</td>\n",
       "      <td>0</td>\n",
       "      <td>0</td>\n",
       "      <td>0</td>\n",
       "    </tr>\n",
       "    <tr>\n",
       "      <th>...</th>\n",
       "      <td>...</td>\n",
       "      <td>...</td>\n",
       "      <td>...</td>\n",
       "      <td>...</td>\n",
       "      <td>...</td>\n",
       "      <td>...</td>\n",
       "      <td>...</td>\n",
       "    </tr>\n",
       "    <tr>\n",
       "      <th>4922</th>\n",
       "      <td>8</td>\n",
       "      <td>9</td>\n",
       "      <td>12</td>\n",
       "      <td>5.365976</td>\n",
       "      <td>0</td>\n",
       "      <td>0</td>\n",
       "      <td>1</td>\n",
       "    </tr>\n",
       "    <tr>\n",
       "      <th>15611</th>\n",
       "      <td>1</td>\n",
       "      <td>3</td>\n",
       "      <td>4</td>\n",
       "      <td>3.610918</td>\n",
       "      <td>0</td>\n",
       "      <td>0</td>\n",
       "      <td>0</td>\n",
       "    </tr>\n",
       "    <tr>\n",
       "      <th>11953</th>\n",
       "      <td>9</td>\n",
       "      <td>9</td>\n",
       "      <td>10</td>\n",
       "      <td>5.123964</td>\n",
       "      <td>0</td>\n",
       "      <td>0</td>\n",
       "      <td>1</td>\n",
       "    </tr>\n",
       "    <tr>\n",
       "      <th>19807</th>\n",
       "      <td>1</td>\n",
       "      <td>4</td>\n",
       "      <td>0</td>\n",
       "      <td>2.890372</td>\n",
       "      <td>0</td>\n",
       "      <td>0</td>\n",
       "      <td>0</td>\n",
       "    </tr>\n",
       "    <tr>\n",
       "      <th>6098</th>\n",
       "      <td>10</td>\n",
       "      <td>5</td>\n",
       "      <td>11</td>\n",
       "      <td>4.919981</td>\n",
       "      <td>0</td>\n",
       "      <td>0</td>\n",
       "      <td>1</td>\n",
       "    </tr>\n",
       "  </tbody>\n",
       "</table>\n",
       "<p>25000 rows × 7 columns</p>\n",
       "</div>"
      ],
      "text/plain": [
       "       Rating  Negative_Words  Positive_Words  Log_Word_Count  \\\n",
       "22441       2               6               5        5.283204   \n",
       "8845       10              16              32        6.595781   \n",
       "4865       10               0               8        4.804021   \n",
       "22149       4               4               7        4.700480   \n",
       "21845       3               6               3        4.804021   \n",
       "...       ...             ...             ...             ...   \n",
       "4922        8               9              12        5.365976   \n",
       "15611       1               3               4        3.610918   \n",
       "11953       9               9              10        5.123964   \n",
       "19807       1               4               0        2.890372   \n",
       "6098       10               5              11        4.919981   \n",
       "\n",
       "       Exclamation_Mark  No_Word  Status  \n",
       "22441                 0        0       0  \n",
       "8845                  1        0       1  \n",
       "4865                  1        0       1  \n",
       "22149                 0        0       0  \n",
       "21845                 0        0       0  \n",
       "...                 ...      ...     ...  \n",
       "4922                  0        0       1  \n",
       "15611                 0        0       0  \n",
       "11953                 0        0       1  \n",
       "19807                 0        0       0  \n",
       "6098                  0        0       1  \n",
       "\n",
       "[25000 rows x 7 columns]"
      ]
     },
     "execution_count": 21,
     "metadata": {},
     "output_type": "execute_result"
    }
   ],
   "source": [
    "from sklearn.utils import shuffle\n",
    "from sklearn.preprocessing import MinMaxScaler\n",
    "df_train = shuffle(df_train_original)\n",
    "df_train"
   ]
  },
  {
   "cell_type": "code",
   "execution_count": 22,
   "metadata": {},
   "outputs": [
    {
     "name": "stdout",
     "output_type": "stream",
     "text": [
      "(25000, 6)\n",
      "(25000, 1)\n"
     ]
    }
   ],
   "source": [
    "Y_Test = df_test[['Status']].to_numpy()\n",
    "X_Test = df_test[df_test.columns[:-1]].to_numpy()\n",
    "\n",
    "scaler_test = MinMaxScaler()\n",
    "X_Test = scaler_test.fit_transform(X_Test)\n",
    "print(X_Test.shape)\n",
    "print(Y_Test.shape)"
   ]
  },
  {
   "cell_type": "code",
   "execution_count": 23,
   "metadata": {},
   "outputs": [
    {
     "name": "stdout",
     "output_type": "stream",
     "text": [
      "(25000, 6)\n",
      "(25000, 1)\n"
     ]
    }
   ],
   "source": [
    "Y = df_train[['Status']].to_numpy()\n",
    "X = df_train[df_train.columns[:-1]].to_numpy()\n",
    "\n",
    "scaler = MinMaxScaler()\n",
    "X = scaler.fit_transform(X)\n",
    "\n",
    "print(X.shape)\n",
    "print(Y.shape)"
   ]
  },
  {
   "cell_type": "code",
   "execution_count": 24,
   "metadata": {},
   "outputs": [
    {
     "name": "stdout",
     "output_type": "stream",
     "text": [
      "(25000,) (25000,)\n"
     ]
    }
   ],
   "source": [
    "Y_Test = Y_Test.reshape(-1)\n",
    "Y = Y.reshape(-1)\n",
    "print(Y.shape, Y_Test.shape)"
   ]
  },
  {
   "cell_type": "code",
   "execution_count": 26,
   "metadata": {},
   "outputs": [
    {
     "name": "stdout",
     "output_type": "stream",
     "text": [
      "[[0.11111111 0.06185567 0.05319149 0.54180671 0.         0.        ]\n",
      " [1.         0.16494845 0.34042553 0.78040246 1.         0.        ]\n",
      " [1.         0.         0.08510638 0.45470252 1.         0.        ]\n",
      " [0.33333333 0.04123711 0.07446809 0.43588124 0.         0.        ]\n",
      " [0.22222222 0.06185567 0.03191489 0.45470252 0.         0.        ]] [0 1 1 0 0]\n",
      "[[1.         0.024      0.04938272 0.5755794  0.         0.        ]\n",
      " [0.66666667 0.048      0.2345679  0.70481644 0.         1.        ]\n",
      " [0.88888889 0.072      0.11111111 0.64851072 0.         0.        ]\n",
      " [0.77777778 0.016      0.17283951 0.54079078 0.         0.        ]\n",
      " [0.77777778 0.024      0.18518519 0.6205783  0.         0.        ]] [1 1 1 1 1]\n"
     ]
    }
   ],
   "source": [
    "print(X[:5], Y[:5])\n",
    "print(X_Test[:5], Y_Test[:5])"
   ]
  },
  {
   "cell_type": "code",
   "execution_count": 27,
   "metadata": {},
   "outputs": [
    {
     "data": {
      "text/plain": [
       "<matplotlib.image.AxesImage at 0x233632b1e48>"
      ]
     },
     "execution_count": 27,
     "metadata": {},
     "output_type": "execute_result"
    },
    {
     "data": {
      "image/png": "[encoded data removed]",
      "text/plain": [
       "<Figure size 864x576 with 1 Axes>"
      ]
     },
     "metadata": {
      "needs_background": "light"
     },
     "output_type": "display_data"
    }
   ],
   "source": [
    "import matplotlib.pyplot as plt\n",
    "import matplotlib.image as mpimg\n",
    "\n",
    "plt.figure(figsize=(12,8))\n",
    "img = mpimg.imread('Cross_Entropy.PNG')\n",
    "plt.imshow(img)"
   ]
  },
  {
   "cell_type": "code",
   "execution_count": 220,
   "metadata": {},
   "outputs": [],
   "source": [
    "def sigmoid(Z):\n",
    "    return 1./(1. + np.exp(-Z))\n",
    "\n",
    "def cross_entropy_loss(y_pred, y_true):\n",
    "        return (-(y_true * np.log(y_pred))).sum()/float(len(y_true))\n",
    "    \n",
    "def predict(X, W):\n",
    "    Y_pred = np.dot(X,W)\n",
    "    Y_pred = sigmoid(Y_pred)\n",
    "    Y_pred = np.where(Y_pred > 0.5, 1, 0)\n",
    "    return Y_pred\n",
    "\n",
    "def evaluation(X_Test, Y_Test, W):\n",
    "    Y_Pred = predict(X_Test, W)\n",
    "    Y_A = pd.Series(Y_Test, name='Actual')\n",
    "    Y_P = pd.Series(Y_Pred, name='Predicted')\n",
    "    df_confusion = pd.crosstab(Y_P, Y_A, margins=True)\n",
    "    display(df_confusion)\n",
    "    \n",
    "    data_primary = {'True Positives': int(df_confusion[1][1]),\n",
    "        'True Negatives': df_confusion[0][0],\n",
    "        'False Positives': df_confusion[0][1],\n",
    "        'False Negatives': df_confusion[1][0]}\n",
    "\n",
    "    display(pd.DataFrame.from_dict(data_primary, orient='index', columns = ['Values']))\n",
    "    \n",
    "    data_secondary = {\n",
    "        'Accuracy': (df_confusion[0][0] + df_confusion[1][1])/df_confusion['All']['All'],\n",
    "        'Precision': df_confusion[1][1]/df_confusion['All'][1],\n",
    "        'Recall': df_confusion[1][1]/df_confusion[1]['All'],\n",
    "        'F1-Score': 2*(((df_confusion[1][1]/df_confusion['All'][1])*(df_confusion[1][1]/df_confusion[1]['All']))/((df_confusion[1][1]/df_confusion['All'][1])+(df_confusion[1][1]/df_confusion[1]['All'])))}\n",
    "\n",
    "    display(pd.DataFrame.from_dict(data_secondary, orient='index', columns = ['Values']))\n",
    "    \n",
    "    return df_confusion"
   ]
  },
  {
   "cell_type": "code",
   "execution_count": 221,
   "metadata": {},
   "outputs": [],
   "source": [
    "n_epoch = 3000\n",
    "alpha = 0.0001\n",
    "\n",
    "def gradientDescent(X, Y, alpha, n_epoch, mode = None):\n",
    "    J = list()  \n",
    "\n",
    "    W = np.random.normal(0,0.1,X.shape[1])\n",
    "    if mode == 'BGD':\n",
    "        for epoch in range(n_epoch):\n",
    "            theta = W\n",
    "            Z = np.dot(X,W) # (25000, 6) x (6, 1)\n",
    "            Y_hat = sigmoid(Z) # (25000,)\n",
    "            L = Y_hat - Y # (25000,)\n",
    "            W = theta - ( alpha * np.dot(np.transpose(X),L) ) # (6,25000) x (25000,)\n",
    "\n",
    "            J.append(cross_entropy_loss(Y_hat, Y))\n",
    "    elif mode == 'SGD':\n",
    "        for epoch in range(n_epoch):\n",
    "            for row in range(len(X)):\n",
    "                theta = W\n",
    "                Z = np.dot(X[row],W) # (1, 6) x (6, 1)\n",
    "                Y_hat = sigmoid(Z) # (1,)\n",
    "                L = Y_hat - Y[row] # (1,)\n",
    "                W = theta - (alpha * np.dot(np.transpose(X[row]),L)) # (6,1) x (1,)\n",
    "#                 W = theta - (alpha * (X[row]*L))\n",
    "            J.append(cross_entropy_loss(Y_hat, Y))\n",
    "                \n",
    "    return W, J"
   ]
  },
  {
   "cell_type": "code",
   "execution_count": 222,
   "metadata": {},
   "outputs": [],
   "source": [
    "W_BGD, J_BGD = gradientDescent(X ,Y, alpha, n_epoch, mode = 'BGD')"
   ]
  },
  {
   "cell_type": "code",
   "execution_count": 226,
   "metadata": {},
   "outputs": [],
   "source": [
    "W_SGD, J_SGD = gradientDescent(X ,Y, alpha, n_epoch, mode = 'SGD')"
   ]
  },
  {
   "cell_type": "code",
   "execution_count": 227,
   "metadata": {},
   "outputs": [
    {
     "data": {
      "image/png": "[encoded data removed]",
      "text/plain": [
       "<Figure size 432x288 with 1 Axes>"
      ]
     },
     "metadata": {
      "needs_background": "light"
     },
     "output_type": "display_data"
    }
   ],
   "source": [
    "import matplotlib.pyplot as plt \n",
    "def plot_graph(J):\n",
    "    x = np.arange(1,3001) \n",
    "    y = J \n",
    "\n",
    "    plt.plot(x, y) \n",
    "\n",
    "    plt.xlabel('# of Epochs')  \n",
    "    plt.ylabel('Cost') \n",
    "\n",
    "    plt.title('Cost Function Graph') \n",
    "\n",
    "    plt.show()\n",
    "    \n",
    "plot_graph(J_BGD)"
   ]
  },
  {
   "cell_type": "code",
   "execution_count": 228,
   "metadata": {},
   "outputs": [
    {
     "data": {
      "image/png": "[encoded data removed]",
      "text/plain": [
       "<Figure size 432x288 with 1 Axes>"
      ]
     },
     "metadata": {
      "needs_background": "light"
     },
     "output_type": "display_data"
    }
   ],
   "source": [
    "plot_graph(J_SGD)"
   ]
  },
  {
   "cell_type": "code",
   "execution_count": 229,
   "metadata": {},
   "outputs": [
    {
     "name": "stdout",
     "output_type": "stream",
     "text": [
      "0.007801110642743273 4.672369860671627e-06\n"
     ]
    }
   ],
   "source": [
    "print(J_BGD[-1],J_SGD[-1])"
   ]
  },
  {
   "cell_type": "code",
   "execution_count": 230,
   "metadata": {},
   "outputs": [
    {
     "data": {
      "text/plain": [
       "<matplotlib.image.AxesImage at 0x233676912e8>"
      ]
     },
     "execution_count": 230,
     "metadata": {},
     "output_type": "execute_result"
    },
    {
     "data": {
      "image/png": "[encoded data removed]",
      "text/plain": [
       "<Figure size 1008x720 with 1 Axes>"
      ]
     },
     "metadata": {
      "needs_background": "light"
     },
     "output_type": "display_data"
    }
   ],
   "source": [
    "plt.figure(figsize=(14,10))\n",
    "img = mpimg.imread('Evaluation.PNG')\n",
    "plt.imshow(img)"
   ]
  },
  {
   "cell_type": "code",
   "execution_count": 231,
   "metadata": {},
   "outputs": [
    {
     "data": {
      "text/html": [
       "<div>\n",
       "<style scoped>\n",
       "    .dataframe tbody tr th:only-of-type {\n",
       "        vertical-align: middle;\n",
       "    }\n",
       "\n",
       "    .dataframe tbody tr th {\n",
       "        vertical-align: top;\n",
       "    }\n",
       "\n",
       "    .dataframe thead th {\n",
       "        text-align: right;\n",
       "    }\n",
       "</style>\n",
       "<table border=\"1\" class=\"dataframe\">\n",
       "  <thead>\n",
       "    <tr style=\"text-align: right;\">\n",
       "      <th>Actual</th>\n",
       "      <th>0</th>\n",
       "      <th>1</th>\n",
       "      <th>All</th>\n",
       "    </tr>\n",
       "    <tr>\n",
       "      <th>Predicted</th>\n",
       "      <th></th>\n",
       "      <th></th>\n",
       "      <th></th>\n",
       "    </tr>\n",
       "  </thead>\n",
       "  <tbody>\n",
       "    <tr>\n",
       "      <th>0</th>\n",
       "      <td>12487</td>\n",
       "      <td>47</td>\n",
       "      <td>12534</td>\n",
       "    </tr>\n",
       "    <tr>\n",
       "      <th>1</th>\n",
       "      <td>13</td>\n",
       "      <td>12453</td>\n",
       "      <td>12466</td>\n",
       "    </tr>\n",
       "    <tr>\n",
       "      <th>All</th>\n",
       "      <td>12500</td>\n",
       "      <td>12500</td>\n",
       "      <td>25000</td>\n",
       "    </tr>\n",
       "  </tbody>\n",
       "</table>\n",
       "</div>"
      ],
      "text/plain": [
       "Actual         0      1    All\n",
       "Predicted                     \n",
       "0          12487     47  12534\n",
       "1             13  12453  12466\n",
       "All        12500  12500  25000"
      ]
     },
     "metadata": {},
     "output_type": "display_data"
    },
    {
     "data": {
      "text/html": [
       "<div>\n",
       "<style scoped>\n",
       "    .dataframe tbody tr th:only-of-type {\n",
       "        vertical-align: middle;\n",
       "    }\n",
       "\n",
       "    .dataframe tbody tr th {\n",
       "        vertical-align: top;\n",
       "    }\n",
       "\n",
       "    .dataframe thead th {\n",
       "        text-align: right;\n",
       "    }\n",
       "</style>\n",
       "<table border=\"1\" class=\"dataframe\">\n",
       "  <thead>\n",
       "    <tr style=\"text-align: right;\">\n",
       "      <th></th>\n",
       "      <th>Values</th>\n",
       "    </tr>\n",
       "  </thead>\n",
       "  <tbody>\n",
       "    <tr>\n",
       "      <th>True Positives</th>\n",
       "      <td>12453</td>\n",
       "    </tr>\n",
       "    <tr>\n",
       "      <th>True Negatives</th>\n",
       "      <td>12487</td>\n",
       "    </tr>\n",
       "    <tr>\n",
       "      <th>False Positives</th>\n",
       "      <td>13</td>\n",
       "    </tr>\n",
       "    <tr>\n",
       "      <th>False Negatives</th>\n",
       "      <td>47</td>\n",
       "    </tr>\n",
       "  </tbody>\n",
       "</table>\n",
       "</div>"
      ],
      "text/plain": [
       "                 Values\n",
       "True Positives    12453\n",
       "True Negatives    12487\n",
       "False Positives      13\n",
       "False Negatives      47"
      ]
     },
     "metadata": {},
     "output_type": "display_data"
    },
    {
     "data": {
      "text/html": [
       "<div>\n",
       "<style scoped>\n",
       "    .dataframe tbody tr th:only-of-type {\n",
       "        vertical-align: middle;\n",
       "    }\n",
       "\n",
       "    .dataframe tbody tr th {\n",
       "        vertical-align: top;\n",
       "    }\n",
       "\n",
       "    .dataframe thead th {\n",
       "        text-align: right;\n",
       "    }\n",
       "</style>\n",
       "<table border=\"1\" class=\"dataframe\">\n",
       "  <thead>\n",
       "    <tr style=\"text-align: right;\">\n",
       "      <th></th>\n",
       "      <th>Values</th>\n",
       "    </tr>\n",
       "  </thead>\n",
       "  <tbody>\n",
       "    <tr>\n",
       "      <th>Accuracy</th>\n",
       "      <td>0.997600</td>\n",
       "    </tr>\n",
       "    <tr>\n",
       "      <th>Precision</th>\n",
       "      <td>0.998957</td>\n",
       "    </tr>\n",
       "    <tr>\n",
       "      <th>Recall</th>\n",
       "      <td>0.996240</td>\n",
       "    </tr>\n",
       "    <tr>\n",
       "      <th>F1-Score</th>\n",
       "      <td>0.997597</td>\n",
       "    </tr>\n",
       "  </tbody>\n",
       "</table>\n",
       "</div>"
      ],
      "text/plain": [
       "             Values\n",
       "Accuracy   0.997600\n",
       "Precision  0.998957\n",
       "Recall     0.996240\n",
       "F1-Score   0.997597"
      ]
     },
     "metadata": {},
     "output_type": "display_data"
    }
   ],
   "source": [
    "df_confusion = evaluation(X_Test, Y_Test, W_BGD)"
   ]
  },
  {
   "cell_type": "code",
   "execution_count": 232,
   "metadata": {},
   "outputs": [
    {
     "data": {
      "text/html": [
       "<div>\n",
       "<style scoped>\n",
       "    .dataframe tbody tr th:only-of-type {\n",
       "        vertical-align: middle;\n",
       "    }\n",
       "\n",
       "    .dataframe tbody tr th {\n",
       "        vertical-align: top;\n",
       "    }\n",
       "\n",
       "    .dataframe thead th {\n",
       "        text-align: right;\n",
       "    }\n",
       "</style>\n",
       "<table border=\"1\" class=\"dataframe\">\n",
       "  <thead>\n",
       "    <tr style=\"text-align: right;\">\n",
       "      <th>Actual</th>\n",
       "      <th>0</th>\n",
       "      <th>1</th>\n",
       "      <th>All</th>\n",
       "    </tr>\n",
       "    <tr>\n",
       "      <th>Predicted</th>\n",
       "      <th></th>\n",
       "      <th></th>\n",
       "      <th></th>\n",
       "    </tr>\n",
       "  </thead>\n",
       "  <tbody>\n",
       "    <tr>\n",
       "      <th>0</th>\n",
       "      <td>12487</td>\n",
       "      <td>45</td>\n",
       "      <td>12532</td>\n",
       "    </tr>\n",
       "    <tr>\n",
       "      <th>1</th>\n",
       "      <td>13</td>\n",
       "      <td>12455</td>\n",
       "      <td>12468</td>\n",
       "    </tr>\n",
       "    <tr>\n",
       "      <th>All</th>\n",
       "      <td>12500</td>\n",
       "      <td>12500</td>\n",
       "      <td>25000</td>\n",
       "    </tr>\n",
       "  </tbody>\n",
       "</table>\n",
       "</div>"
      ],
      "text/plain": [
       "Actual         0      1    All\n",
       "Predicted                     \n",
       "0          12487     45  12532\n",
       "1             13  12455  12468\n",
       "All        12500  12500  25000"
      ]
     },
     "metadata": {},
     "output_type": "display_data"
    },
    {
     "data": {
      "text/html": [
       "<div>\n",
       "<style scoped>\n",
       "    .dataframe tbody tr th:only-of-type {\n",
       "        vertical-align: middle;\n",
       "    }\n",
       "\n",
       "    .dataframe tbody tr th {\n",
       "        vertical-align: top;\n",
       "    }\n",
       "\n",
       "    .dataframe thead th {\n",
       "        text-align: right;\n",
       "    }\n",
       "</style>\n",
       "<table border=\"1\" class=\"dataframe\">\n",
       "  <thead>\n",
       "    <tr style=\"text-align: right;\">\n",
       "      <th></th>\n",
       "      <th>Values</th>\n",
       "    </tr>\n",
       "  </thead>\n",
       "  <tbody>\n",
       "    <tr>\n",
       "      <th>True Positives</th>\n",
       "      <td>12455</td>\n",
       "    </tr>\n",
       "    <tr>\n",
       "      <th>True Negatives</th>\n",
       "      <td>12487</td>\n",
       "    </tr>\n",
       "    <tr>\n",
       "      <th>False Positives</th>\n",
       "      <td>13</td>\n",
       "    </tr>\n",
       "    <tr>\n",
       "      <th>False Negatives</th>\n",
       "      <td>45</td>\n",
       "    </tr>\n",
       "  </tbody>\n",
       "</table>\n",
       "</div>"
      ],
      "text/plain": [
       "                 Values\n",
       "True Positives    12455\n",
       "True Negatives    12487\n",
       "False Positives      13\n",
       "False Negatives      45"
      ]
     },
     "metadata": {},
     "output_type": "display_data"
    },
    {
     "data": {
      "text/html": [
       "<div>\n",
       "<style scoped>\n",
       "    .dataframe tbody tr th:only-of-type {\n",
       "        vertical-align: middle;\n",
       "    }\n",
       "\n",
       "    .dataframe tbody tr th {\n",
       "        vertical-align: top;\n",
       "    }\n",
       "\n",
       "    .dataframe thead th {\n",
       "        text-align: right;\n",
       "    }\n",
       "</style>\n",
       "<table border=\"1\" class=\"dataframe\">\n",
       "  <thead>\n",
       "    <tr style=\"text-align: right;\">\n",
       "      <th></th>\n",
       "      <th>Values</th>\n",
       "    </tr>\n",
       "  </thead>\n",
       "  <tbody>\n",
       "    <tr>\n",
       "      <th>Accuracy</th>\n",
       "      <td>0.997680</td>\n",
       "    </tr>\n",
       "    <tr>\n",
       "      <th>Precision</th>\n",
       "      <td>0.998957</td>\n",
       "    </tr>\n",
       "    <tr>\n",
       "      <th>Recall</th>\n",
       "      <td>0.996400</td>\n",
       "    </tr>\n",
       "    <tr>\n",
       "      <th>F1-Score</th>\n",
       "      <td>0.997677</td>\n",
       "    </tr>\n",
       "  </tbody>\n",
       "</table>\n",
       "</div>"
      ],
      "text/plain": [
       "             Values\n",
       "Accuracy   0.997680\n",
       "Precision  0.998957\n",
       "Recall     0.996400\n",
       "F1-Score   0.997677"
      ]
     },
     "metadata": {},
     "output_type": "display_data"
    }
   ],
   "source": [
    "df_confusion = evaluation(X_Test, Y_Test, W_SGD)"
   ]
  },
  {
   "cell_type": "code",
   "execution_count": 233,
   "metadata": {},
   "outputs": [
    {
     "data": {
      "text/plain": [
       "array([ 19.88866178,   2.70781605,   7.561571  , -19.61492001,\n",
       "        -0.15298829,   0.18442954])"
      ]
     },
     "execution_count": 233,
     "metadata": {},
     "output_type": "execute_result"
    }
   ],
   "source": [
    "W_SGD"
   ]
  },
  {
   "cell_type": "code",
   "execution_count": 234,
   "metadata": {},
   "outputs": [
    {
     "data": {
      "text/plain": [
       "array([ 19.90171036,   2.78793804,   7.49938125, -19.62871352,\n",
       "        -0.15314955,   0.18437142])"
      ]
     },
     "execution_count": 234,
     "metadata": {},
     "output_type": "execute_result"
    }
   ],
   "source": [
    "W_BGD"
   ]
  },
  {
   "cell_type": "code",
   "execution_count": null,
   "metadata": {},
   "outputs": [],
   "source": []
  }
 ],
 "metadata": {
  "kernelspec": {
   "display_name": "Python 3",
   "language": "python",
   "name": "python3"
  },
  "language_info": {
   "codemirror_mode": {
    "name": "ipython",
    "version": 3
   },
   "file_extension": ".py",
   "mimetype": "text/x-python",
   "name": "python",
   "nbconvert_exporter": "python",
   "pygments_lexer": "ipython3",
   "version": "3.7.1"
  }
 },
 "nbformat": 4,
 "nbformat_minor": 2
}
