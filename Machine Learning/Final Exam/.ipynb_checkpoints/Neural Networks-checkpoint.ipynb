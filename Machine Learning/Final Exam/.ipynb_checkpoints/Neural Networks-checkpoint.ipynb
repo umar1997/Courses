{
 "cells": [
  {
   "cell_type": "code",
   "execution_count": 1,
   "metadata": {},
   "outputs": [],
   "source": [
    "import numpy as np"
   ]
  },
  {
   "cell_type": "code",
   "execution_count": 2,
   "metadata": {},
   "outputs": [],
   "source": [
    "def sigmoid(Z):\n",
    "    \n",
    "    A = 1/(1+np.exp(-Z))\n",
    "    cache = Z\n",
    "    \n",
    "    return A, cache\n",
    "\n",
    "def sigmoid_backward(dA, cache):\n",
    "    \n",
    "    Z = cache\n",
    "    \n",
    "    s = 1/(1+np.exp(-Z))\n",
    "    dZ = dA * s * (1-s)\n",
    "    \n",
    "    assert (dZ.shape == Z.shape)\n",
    "    \n",
    "    return dZ\n",
    "\n"
   ]
  },
  {
   "cell_type": "code",
   "execution_count": 3,
   "metadata": {},
   "outputs": [],
   "source": [
    "X = np.array([[4.8,5.7,5.1,5.7,4.6],\n",
    "            [3.0,3.0,3.8,2.9,3.2],\n",
    "            [1.4,4.2,1.6,4.2,1.4]])\n",
    "Y = np.array([0,1,0,1,0])\n",
    "def initialize_parameters(n_x, n_h1, n_h2, n_y):\n",
    "    np.random.seed(1)\n",
    "    \n",
    "    \n",
    "    W1 = np.array([[0.1,-0.5,0.3],[-0.2,0.6,-0.4]]) # (2,3)\n",
    "    b1 = np.array([[0],[0]]) # (2,0)\n",
    "    W2 = np.array([[-1,1],[1,1],[1,-1]]) #(3,2)\n",
    "    b2 = np.array([[0],[0],[0]]) #(3,1)\n",
    "    W3 = np.array([[-1,-1,1]]) #(1,3)\n",
    "    b3 = np.array([[0]]) #(1,1)\n",
    "    \n",
    "    assert(W1.shape == (n_h1, n_x))\n",
    "    assert(b1.shape == (n_h1, 1))\n",
    "    assert(W2.shape == (n_h2, n_h1))\n",
    "    assert(b2.shape == (n_h2, 1))\n",
    "    assert(W3.shape == (n_y, n_h2))\n",
    "    assert(b3.shape == (n_y, 1))\n",
    "    \n",
    "    parameters = {\"W1\": W1,\n",
    "                  \"b1\": b1,\n",
    "                  \"W2\": W2,\n",
    "                  \"b2\": b2,\n",
    "                  \"W3\": W3,\n",
    "                  \"b3\": b3}\n",
    "    \n",
    "    return parameters    "
   ]
  },
  {
   "cell_type": "code",
   "execution_count": 4,
   "metadata": {},
   "outputs": [
    {
     "name": "stdout",
     "output_type": "stream",
     "text": [
      "W1 = \n",
      "[[ 0.1 -0.5  0.3]\n",
      " [-0.2  0.6 -0.4]]\n",
      "b1 = \n",
      "[[0]\n",
      " [0]]\n",
      "W2 = \n",
      "[[-1  1]\n",
      " [ 1  1]\n",
      " [ 1 -1]]\n",
      "b2 = \n",
      "[[0]\n",
      " [0]\n",
      " [0]]\n",
      "W3 = \n",
      "[[-1 -1  1]]\n",
      "b3 = \n",
      "[[0]]\n"
     ]
    }
   ],
   "source": [
    "parameters = initialize_parameters(3,2,3,1)\n",
    "print(\"W1 = \\n\" + str(parameters[\"W1\"]))\n",
    "print(\"b1 = \\n\" + str(parameters[\"b1\"]))\n",
    "print(\"W2 = \\n\" + str(parameters[\"W2\"]))\n",
    "print(\"b2 = \\n\" + str(parameters[\"b2\"]))\n",
    "print(\"W3 = \\n\" + str(parameters[\"W3\"]))\n",
    "print(\"b3 = \\n\" + str(parameters[\"b3\"]))"
   ]
  },
  {
   "cell_type": "code",
   "execution_count": 5,
   "metadata": {},
   "outputs": [],
   "source": [
    "def linear_forward(A, W, b):\n",
    "    Z = np.dot(W,A)+b\n",
    "    assert(Z.shape == (W.shape[0], A.shape[1]))\n",
    "    cache = (A, W, b)\n",
    "    \n",
    "    return Z, cache"
   ]
  },
  {
   "cell_type": "code",
   "execution_count": 15,
   "metadata": {},
   "outputs": [],
   "source": [
    "def linear_activation_forward(A_prev, W, b, activation):\n",
    "    if activation == \"sigmoid\":\n",
    "        Z, linear_cache = linear_forward(A_prev, W, b)\n",
    "        A, activation_cache = sigmoid(Z)\n",
    "        print(Z)\n",
    "    assert (A.shape == (W.shape[0], A_prev.shape[1]))\n",
    "    cache = (linear_cache, activation_cache)\n",
    "\n",
    "    return A, cache"
   ]
  },
  {
   "cell_type": "code",
   "execution_count": 16,
   "metadata": {},
   "outputs": [],
   "source": [
    "def L_model_forward(X, parameters):\n",
    "    caches = []\n",
    "    A = X\n",
    "    L = len(parameters) // 2\n",
    "    for l in range(1, L):\n",
    "        A_prev = A\n",
    "        print(\"Z\"+str(l))\n",
    "        A, cache = linear_activation_forward(A_prev, \n",
    "                                             parameters['W' + str(l)], \n",
    "                                             parameters['b' + str(l)], \n",
    "                                             activation='sigmoid')\n",
    "        caches.append(cache)\n",
    "        print(\"A\"+str(l))\n",
    "        print(A)\n",
    "    AL, cache = linear_activation_forward(A, \n",
    "                                          parameters['W' + str(L)], \n",
    "                                          parameters['b' + str(L)], \n",
    "                                          activation='sigmoid')\n",
    "    caches.append(cache)\n",
    "    print(\"A\"+str(L))\n",
    "    print(AL)\n",
    "    assert(AL.shape == (1,X.shape[1]))\n",
    "            \n",
    "    return AL, caches"
   ]
  },
  {
   "cell_type": "code",
   "execution_count": 17,
   "metadata": {},
   "outputs": [
    {
     "name": "stdout",
     "output_type": "stream",
     "text": [
      "Z1\n",
      "[[-0.6   0.33 -0.91  0.38 -0.72]\n",
      " [ 0.28 -1.02  0.62 -1.08  0.44]]\n",
      "A1\n",
      "[[0.35434369 0.58175938 0.28699984 0.5938731  0.32739298]\n",
      " [0.56954622 0.2650274  0.65021855 0.25350602 0.60825903]]\n",
      "Z2\n",
      "[[ 0.21520253 -0.31673198  0.36321871 -0.34036709  0.28086605]\n",
      " [ 0.92388992  0.84678678  0.93721839  0.84737912  0.93565201]\n",
      " [-0.21520253  0.31673198 -0.36321871  0.34036709 -0.28086605]]\n",
      "A2\n",
      "[[0.55359395 0.4214724  0.58981937 0.41572031 0.56975853]\n",
      " [0.71583404 0.69989266 0.71853744 0.70001706 0.71822055]\n",
      " [0.44640605 0.5785276  0.41018063 0.58427969 0.43024147]]\n",
      "[[-0.82302195 -0.54283745 -0.89817618 -0.53145768 -0.85773762]]\n",
      "A3\n",
      "[[0.30512256 0.36752777 0.28942544 0.37017697 0.29781224]]\n"
     ]
    }
   ],
   "source": [
    "AL, caches = L_model_forward(X, parameters)"
   ]
  },
  {
   "cell_type": "code",
   "execution_count": 18,
   "metadata": {},
   "outputs": [],
   "source": [
    "def compute_cost(AL, Y):\n",
    "    m = Y.shape[1]\n",
    "    cost = (-1/m)* np.sum(np.multiply(Y, np.log(AL)) + np.multiply(1-Y, np.log(1-AL)))\n",
    "    cost = np.squeeze(cost)\n",
    "    assert(cost.shape == ())\n",
    "    \n",
    "    return cost"
   ]
  },
  {
   "cell_type": "markdown",
   "metadata": {},
   "source": [
    "### Backpropogation"
   ]
  },
  {
   "cell_type": "code",
   "execution_count": 35,
   "metadata": {},
   "outputs": [],
   "source": [
    "def linear_backward(dZ, cache):\n",
    "    A_prev, W, b = cache\n",
    "    m = A_prev.shape[1]\n",
    "\n",
    "    dW = (1/m)*np.dot(dZ, A_prev.T)\n",
    "    db = (1/m)*np.sum(dZ, axis=1, keepdims=True)\n",
    "    dA_prev = np.dot(W.T,dZ)\n",
    "    \n",
    "    assert (dA_prev.shape == A_prev.shape)\n",
    "    assert (dW.shape == W.shape)\n",
    "    assert (db.shape == b.shape)\n",
    "    \n",
    "    return dA_prev, dW, db"
   ]
  },
  {
   "cell_type": "code",
   "execution_count": 36,
   "metadata": {},
   "outputs": [],
   "source": [
    "def linear_activation_backward(dA, cache, activation):\n",
    "    linear_cache, activation_cache = cache\n",
    "    if activation == \"sigmoid\":\n",
    "        dZ = sigmoid_backward(dA, cache[1])\n",
    "        print('dZ \\n')\n",
    "        print(dZ)\n",
    "        dA_prev, dW, db = linear_backward(dZ, linear_cache)\n",
    "        print('dW \\n')\n",
    "        print(dW)\n",
    "        print('db \\n')\n",
    "        print(db)\n",
    "    return dA_prev, dW, db"
   ]
  },
  {
   "cell_type": "code",
   "execution_count": 37,
   "metadata": {},
   "outputs": [],
   "source": [
    "def L_model_backward(AL, Y, caches):\n",
    "    grads = {}\n",
    "    \n",
    "    L = len(caches) # the number of layers\n",
    "    m = AL.shape[1]\n",
    "    Y = Y.reshape(AL.shape)\n",
    "    \n",
    "    dAL = - (np.divide(Y, AL) - np.divide(1 - Y, 1 - AL))\n",
    "    current_cache = caches[L-1]\n",
    "    grads[\"dA\" + str(L-1)], grads[\"dW\" + str(L)], grads[\"db\" + str(L)] = linear_activation_backward(dAL, current_cache, activation = \"sigmoid\")\n",
    "    \n",
    "    for l in reversed(range(L-1)):\n",
    "        current_cache = caches[l]\n",
    "        dA_prev_temp, dW_temp, db_temp = linear_activation_backward(grads[\"dA\" + str(l + 1)], current_cache, activation = \"sigmoid\")\n",
    "        grads[\"dA\" + str(l)] = dA_prev_temp\n",
    "        grads[\"dW\" + str(l + 1)] = dW_temp\n",
    "        grads[\"db\" + str(l + 1)] = db_temp\n",
    "    return grads"
   ]
  },
  {
   "cell_type": "code",
   "execution_count": 38,
   "metadata": {
    "scrolled": false
   },
   "outputs": [
    {
     "name": "stdout",
     "output_type": "stream",
     "text": [
      "dZ \n",
      "\n",
      "[[ 0.30512256 -0.63247223  0.28942544 -0.62982303  0.29781224]]\n",
      "dW \n",
      "\n",
      "[[-0.0038192  -0.04865491 -0.0701678 ]]\n",
      "db \n",
      "\n",
      "[[-0.07398701]]\n",
      "dZ \n",
      "\n",
      "[[-0.07540423  0.15421787 -0.07002141  0.15298208 -0.07300383]\n",
      " [-0.06206671  0.13284632 -0.0585338   0.13225854 -0.06027118]\n",
      " [ 0.07540423 -0.15421787  0.07002141 -0.15298208  0.07300383]]\n",
      "dW \n",
      "\n",
      "[[ 0.02197071 -0.01064536]\n",
      " [ 0.01946098 -0.00826677]\n",
      " [-0.02197071  0.01064536]]\n",
      "db \n",
      "\n",
      "[[ 0.01775409]\n",
      " [ 0.01684663]\n",
      " [-0.01775409]]\n",
      "dZ \n",
      "\n",
      "[[ 0.02030272 -0.04272361  0.01667927 -0.04189569  0.01887976]\n",
      " [-0.05218919  0.08595639 -0.04516315  0.08292958 -0.04915212]]\n",
      "dW \n",
      "\n",
      "[[-0.04259316 -0.01299275 -0.05477175]\n",
      " [ 0.05114202  0.00257813  0.09903644]]\n",
      "db \n",
      "\n",
      "[[-0.00575151]\n",
      " [ 0.0044763 ]]\n"
     ]
    }
   ],
   "source": [
    "grads = L_model_backward(AL, Y, caches)\n",
    "\n",
    "\n",
    "# def print_grads(grads):\n",
    "#     print (\"dW1 = \"+ str(grads[\"dW1\"]))\n",
    "#     print (\"db1 = \"+ str(grads[\"db1\"]))\n",
    "#     print (\"dA1 = \"+ str(grads[\"dA1\"]))\n",
    "    \n",
    "# print_grads(grads)"
   ]
  },
  {
   "cell_type": "markdown",
   "metadata": {},
   "source": [
    "### Update Parameters"
   ]
  },
  {
   "cell_type": "code",
   "execution_count": 39,
   "metadata": {},
   "outputs": [],
   "source": [
    "def update_parameters(parameters, grads, learning_rate):\n",
    "    L = len(parameters) // 2\n",
    "    for l in range(L):\n",
    "        parameters[\"W\" + str(l+1)] = parameters[\"W\" + str(l+1)] - learning_rate * grads[\"dW\" + str(l + 1)]\n",
    "        parameters[\"b\" + str(l+1)] = parameters[\"b\" + str(l+1)] - learning_rate * grads[\"db\" + str(l + 1)]\n",
    "    return parameters"
   ]
  },
  {
   "cell_type": "code",
   "execution_count": 40,
   "metadata": {},
   "outputs": [],
   "source": [
    "parameters = update_parameters(parameters, grads, 1)"
   ]
  },
  {
   "cell_type": "code",
   "execution_count": 41,
   "metadata": {},
   "outputs": [
    {
     "data": {
      "text/plain": [
       "{'W1': array([[ 0.14259316, -0.48700725,  0.35477175],\n",
       "        [-0.25114202,  0.59742187, -0.49903644]]), 'b1': array([[ 0.00575151],\n",
       "        [-0.0044763 ]]), 'W2': array([[-1.02197071,  1.01064536],\n",
       "        [ 0.98053902,  1.00826677],\n",
       "        [ 1.02197071, -1.01064536]]), 'b2': array([[-0.01775409],\n",
       "        [-0.01684663],\n",
       "        [ 0.01775409]]), 'W3': array([[-0.9961808 , -0.95134509,  1.0701678 ]]), 'b3': array([[0.07398701]])}"
      ]
     },
     "execution_count": 41,
     "metadata": {},
     "output_type": "execute_result"
    }
   ],
   "source": [
    "parameters"
   ]
  },
  {
   "cell_type": "code",
   "execution_count": null,
   "metadata": {},
   "outputs": [],
   "source": []
  }
 ],
 "metadata": {
  "kernelspec": {
   "display_name": "Python 3",
   "language": "python",
   "name": "python3"
  },
  "language_info": {
   "codemirror_mode": {
    "name": "ipython",
    "version": 3
   },
   "file_extension": ".py",
   "mimetype": "text/x-python",
   "name": "python",
   "nbconvert_exporter": "python",
   "pygments_lexer": "ipython3",
   "version": "3.7.1"
  }
 },
 "nbformat": 4,
 "nbformat_minor": 2
}
