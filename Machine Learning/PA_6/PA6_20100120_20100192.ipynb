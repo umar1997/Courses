{
 "cells": [
  {
   "cell_type": "markdown",
   "metadata": {},
   "source": [
    "### Import Libraries"
   ]
  },
  {
   "cell_type": "code",
   "execution_count": 1,
   "metadata": {},
   "outputs": [],
   "source": [
    "import numpy as np\n",
    "import pandas as pd\n",
    "import gensim\n",
    "import string"
   ]
  },
  {
   "cell_type": "markdown",
   "metadata": {},
   "source": [
    "### Preprocessing"
   ]
  },
  {
   "cell_type": "code",
   "execution_count": 2,
   "metadata": {},
   "outputs": [
    {
     "data": {
      "text/plain": [
       "153"
      ]
     },
     "execution_count": 2,
     "metadata": {},
     "output_type": "execute_result"
    }
   ],
   "source": [
    "'''\n",
    "Getting all the stopwords\n",
    "'''\n",
    "with open(\"stopwords.txt\") as f: stopwords = f.read().split(\"\\n\")\n",
    "\n",
    "len(stopwords)"
   ]
  },
  {
   "cell_type": "code",
   "execution_count": 3,
   "metadata": {},
   "outputs": [],
   "source": [
    "'''\n",
    "preprocess function takes a string\n",
    "and returns a preprocessed string\n",
    "- turn to lower\n",
    "- removes punctuations\n",
    "- removes stopwords\n",
    "'''\n",
    "def preprocess(x):\n",
    "  x = x.translate(str.maketrans('', '', string.punctuation))\n",
    "  x = x.lower().split()\n",
    "  x = [ele for ele in x if ele not in stopwords]\n",
    "  return x\n",
    "\n",
    "'''\n",
    "get_data takes the filename of the dataset\n",
    "and returns standard X and y vectors. X is \n",
    "also preprocessed here\n",
    "'''\n",
    "def get_data(filename):\n",
    "  with open(filename, encoding=\"utf8\") as f: data = f.read().split(\"\\n\")\n",
    "  data = [ele for ele in data if len(ele)>0]\n",
    "  x, y = [], []\n",
    "  for line in data:\n",
    "    y += [line[0]]\n",
    "    x += [preprocess(line[2:])]\n",
    "  return x, y"
   ]
  },
  {
   "cell_type": "code",
   "execution_count": 4,
   "metadata": {},
   "outputs": [],
   "source": [
    "raw_x, raw_y = get_data(\"train.txt\")\n",
    "test_x, test_y = get_data(\"test.txt\")"
   ]
  },
  {
   "cell_type": "markdown",
   "metadata": {},
   "source": [
    "### Word2Vec Embedding"
   ]
  },
  {
   "cell_type": "code",
   "execution_count": 5,
   "metadata": {},
   "outputs": [],
   "source": [
    "model = gensim.models.KeyedVectors.load_word2vec_format('GoogleNews-vectors-negative300.bin', binary=True)"
   ]
  },
  {
   "cell_type": "code",
   "execution_count": 6,
   "metadata": {},
   "outputs": [
    {
     "data": {
      "text/plain": [
       "True"
      ]
     },
     "execution_count": 6,
     "metadata": {},
     "output_type": "execute_result"
    }
   ],
   "source": [
    "\"UNK\" in model"
   ]
  },
  {
   "cell_type": "code",
   "execution_count": 7,
   "metadata": {},
   "outputs": [
    {
     "name": "stdout",
     "output_type": "stream",
     "text": [
      "(22892, 300) (5724, 300) (22892,) (5724,)\n"
     ]
    }
   ],
   "source": [
    "'''\n",
    "get_embeddings\n",
    "- vector of words as input\n",
    "- gets embeddings for each word in the input\n",
    "- averages out all the embeddings and returns a vector\n",
    "'''\n",
    "def get_embeddings(vec):\n",
    "  embs = []\n",
    "  for w in vec:\n",
    "    if w in model: embs += [model[w]]\n",
    "    else: embs += [model[\"UNK\"]]\n",
    "  return np.mean(embs, axis=0)\n",
    "\n",
    "'''\n",
    "transform gets the input data x and \n",
    "returns the x where each vector is now\n",
    "transformed to word embeddings\n",
    "'''\n",
    "def transform(data): return [get_embeddings(ele) for ele in data]\n",
    "\n",
    "X_Train = np.asarray(transform(raw_x))\n",
    "X_Test = np.asarray(transform(test_x))\n",
    "Y_Train = np.asarray(raw_y, dtype='int64')\n",
    "Y_Test = np.asarray(test_y, dtype='int64')\n",
    "\n",
    "print(X_Train.shape, X_Test.shape, Y_Train.shape, Y_Test.shape)"
   ]
  },
  {
   "cell_type": "markdown",
   "metadata": {},
   "source": [
    "### Evaluation Metrics"
   ]
  },
  {
   "cell_type": "code",
   "execution_count": 8,
   "metadata": {},
   "outputs": [
    {
     "data": {
      "text/plain": [
       "array([0, 1], dtype=int64)"
      ]
     },
     "execution_count": 8,
     "metadata": {},
     "output_type": "execute_result"
    }
   ],
   "source": [
    "classes = np.unique(Y_Test)\n",
    "classes"
   ]
  },
  {
   "cell_type": "code",
   "execution_count": 9,
   "metadata": {},
   "outputs": [],
   "source": [
    "'''\n",
    "Confusion Matrix and Evaluation Report Code\n",
    "'''\n",
    "def confusion_matrix(Y_Pred, Y_Test):    \n",
    "    Y_A = pd.Series(Y_Test, name='Actual')\n",
    "    Y_P = pd.Series(Y_Pred, name='Predicted')\n",
    "    df_confusion = pd.crosstab(Y_P, Y_A, margins=True)\n",
    "    display(df_confusion)\n",
    "    return df_confusion\n",
    "\n",
    "def evaluationReport(df_conf):\n",
    "    print('EVALUATION REPORT \\n')\n",
    "    print('-----------------')\n",
    "    df_c = df_conf.iloc[:-1,:-1]\n",
    "    TP, FP, FN, TN, P, R, F, A = [], [], [], [], [], [], [], []\n",
    "    for i, c in enumerate(classes):\n",
    "        TP.append(df_c.iloc[i][i])\n",
    "        FP.append(sum(df_c.iloc[i,:]) - TP[-1])\n",
    "        FN.append(sum(df_c.iloc[:,i]) - TP[-1])\n",
    "        TN.append(df_conf.iloc[len(df_conf)-1,len(df_conf)-1] - TP[-1] - FP[-1] - FN[-1])\n",
    "        A.append((TP[-1]+TN[-1])/(df_conf.iloc[len(df_conf)-1,len(df_conf)-1]))\n",
    "        P.append( (TP[-1])/(TP[-1] + FP[-1]) )\n",
    "        R.append( (TP[-1])/(TP[-1] + FN[-1]) )\n",
    "        F.append( (2*P[-1]*R[-1])/(P[-1]+R[-1]) )\n",
    "        print('With Respect To: ', c) # .capitalize()) if a sting\n",
    "        print('\\n')\n",
    "        print('    True Positives : ', TP[-1])\n",
    "        print('    True Negatives : ', TN[-1])\n",
    "        print('    False Positives: ', FP[-1])\n",
    "        print('    False Negatives: ', FN[-1])\n",
    "        print('    Accuracy       : ', (A[-1]))\n",
    "        print('    Precision      : ', (P[-1]))\n",
    "        print('    Recall         : ', (R[-1]))\n",
    "        print('    F1-Score       : ', (F[-1]))\n",
    "        print('\\n')\n",
    "    print('-----------------')\n",
    "    print('Macro Average (Accuracy) : ', sum(A)/float(len(classes)))\n",
    "    print('Macro Average (Precision): ', sum(P)/float(len(classes)))\n",
    "    print('Macro Average (Recall)   : ', sum(R)/float(len(classes)))\n",
    "    print('Macro Average (F1-Score) : ', (sum(F))/float(len(classes)))"
   ]
  },
  {
   "cell_type": "markdown",
   "metadata": {},
   "source": [
    "### LOGISTIC REGRESSION"
   ]
  },
  {
   "cell_type": "code",
   "execution_count": 10,
   "metadata": {},
   "outputs": [],
   "source": [
    "'''\n",
    "Sigmoid Activation, Cross Entropy Loss and Predict Code\n",
    "'''\n",
    "def sigmoid(Z):\n",
    "    return 1./(1. + np.exp(-Z))\n",
    "\n",
    "def cross_entropy_loss(y_pred, y_true):\n",
    "        return (-(y_true * np.log(y_pred))).sum()/float(len(y_true))\n",
    "    \n",
    "def predict(X, W):\n",
    "    Y_pred = np.dot(X,W)\n",
    "    Y_pred = sigmoid(Y_pred)\n",
    "    Y_pred = np.where(Y_pred > 0.5, 1, 0)\n",
    "    return Y_pred"
   ]
  },
  {
   "cell_type": "code",
   "execution_count": 59,
   "metadata": {},
   "outputs": [],
   "source": [
    "alpha = 0.005\n",
    "n_epoch = 50\n",
    "batch_size = 32\n",
    "\n",
    "'''\n",
    "Mini Batch Gradient Descent Code with batch_size = 32\n",
    "'''\n",
    "def mini_batch_gradientDescent(X, Y, alpha, n_epoch, batch_size):\n",
    "    J = list()\n",
    "    \n",
    "    X = np.insert(X, 0, 1, axis=1)\n",
    "    W = np.random.normal(0, 1, X.shape[1])\n",
    "    \n",
    "    batches = np.arange(0,X.shape[0], batch_size)\n",
    "    if X.shape[0] % batch_size != 0:\n",
    "        batches = batches[:-1]\n",
    "    \n",
    "    for epoch in range(n_epoch):\n",
    "        for batch in batches:\n",
    "            Z = np.dot(X[batch:batch+batch_size], W)\n",
    "            Y_hat = sigmoid(Z)\n",
    "            L = Y_hat - Y[batch:batch+batch_size]\n",
    "            W = W - ( alpha * np.dot(np.transpose(X[batch:batch+batch_size]),L) )\n",
    "        J.append(cross_entropy_loss(Y_hat, Y[batch:batch+batch_size]))\n",
    "    \n",
    "    return W, J\n",
    "Weights , Loss = mini_batch_gradientDescent(X_Train, Y_Train, alpha, n_epoch, batch_size)"
   ]
  },
  {
   "cell_type": "code",
   "execution_count": 61,
   "metadata": {},
   "outputs": [
    {
     "data": {
      "image/png": "[encoded data removed]",
      "text/plain": [
       "<Figure size 432x288 with 1 Axes>"
      ]
     },
     "metadata": {
      "needs_background": "light"
     },
     "output_type": "display_data"
    }
   ],
   "source": [
    "import matplotlib.pyplot as plt \n",
    "def plot_graph(J):\n",
    "    x = np.arange(1,51) \n",
    "    y = J \n",
    "    plt.plot(x, y) \n",
    "    plt.xlabel('# of Epochs')  \n",
    "    plt.ylabel('Cost') \n",
    "    plt.title('Cost Function Graph') \n",
    "    plt.show()\n",
    "    \n",
    "plot_graph(Loss)"
   ]
  },
  {
   "cell_type": "code",
   "execution_count": 62,
   "metadata": {},
   "outputs": [],
   "source": [
    "X_Test_LR = np.insert(X_Test, 0, 1, axis=1)\n",
    "Y_Pred = predict(X_Test_LR, Weights)"
   ]
  },
  {
   "cell_type": "code",
   "execution_count": 63,
   "metadata": {},
   "outputs": [
    {
     "data": {
      "text/html": [
       "<div>\n",
       "<style scoped>\n",
       "    .dataframe tbody tr th:only-of-type {\n",
       "        vertical-align: middle;\n",
       "    }\n",
       "\n",
       "    .dataframe tbody tr th {\n",
       "        vertical-align: top;\n",
       "    }\n",
       "\n",
       "    .dataframe thead th {\n",
       "        text-align: right;\n",
       "    }\n",
       "</style>\n",
       "<table border=\"1\" class=\"dataframe\">\n",
       "  <thead>\n",
       "    <tr style=\"text-align: right;\">\n",
       "      <th>Actual</th>\n",
       "      <th>0</th>\n",
       "      <th>1</th>\n",
       "      <th>All</th>\n",
       "    </tr>\n",
       "    <tr>\n",
       "      <th>Predicted</th>\n",
       "      <th></th>\n",
       "      <th></th>\n",
       "      <th></th>\n",
       "    </tr>\n",
       "  </thead>\n",
       "  <tbody>\n",
       "    <tr>\n",
       "      <th>0</th>\n",
       "      <td>2333</td>\n",
       "      <td>838</td>\n",
       "      <td>3171</td>\n",
       "    </tr>\n",
       "    <tr>\n",
       "      <th>1</th>\n",
       "      <td>664</td>\n",
       "      <td>1889</td>\n",
       "      <td>2553</td>\n",
       "    </tr>\n",
       "    <tr>\n",
       "      <th>All</th>\n",
       "      <td>2997</td>\n",
       "      <td>2727</td>\n",
       "      <td>5724</td>\n",
       "    </tr>\n",
       "  </tbody>\n",
       "</table>\n",
       "</div>"
      ],
      "text/plain": [
       "Actual        0     1   All\n",
       "Predicted                  \n",
       "0          2333   838  3171\n",
       "1           664  1889  2553\n",
       "All        2997  2727  5724"
      ]
     },
     "metadata": {},
     "output_type": "display_data"
    }
   ],
   "source": [
    "LR_CM = confusion_matrix(Y_Pred, Y_Test)"
   ]
  },
  {
   "cell_type": "code",
   "execution_count": 64,
   "metadata": {},
   "outputs": [
    {
     "name": "stdout",
     "output_type": "stream",
     "text": [
      "EVALUATION REPORT \n",
      "\n",
      "-----------------\n",
      "With Respect To:  0\n",
      "\n",
      "\n",
      "    True Positives :  2333\n",
      "    True Negatives :  1889\n",
      "    False Positives:  838\n",
      "    False Negatives:  664\n",
      "    Accuracy       :  0.7375960866526904\n",
      "    Precision      :  0.7357300536108483\n",
      "    Recall         :  0.7784451117784451\n",
      "    F1-Score       :  0.756485084306096\n",
      "\n",
      "\n",
      "With Respect To:  1\n",
      "\n",
      "\n",
      "    True Positives :  1889\n",
      "    True Negatives :  2333\n",
      "    False Positives:  664\n",
      "    False Negatives:  838\n",
      "    Accuracy       :  0.7375960866526904\n",
      "    Precision      :  0.7399138268703486\n",
      "    Recall         :  0.6927026035936927\n",
      "    F1-Score       :  0.7155303030303031\n",
      "\n",
      "\n",
      "-----------------\n",
      "Macro Average (Accuracy) :  0.7375960866526904\n",
      "Macro Average (Precision):  0.7378219402405984\n",
      "Macro Average (Recall)   :  0.7355738576860689\n",
      "Macro Average (F1-Score) :  0.7360076936681995\n"
     ]
    }
   ],
   "source": [
    "evaluationReport(LR_CM)"
   ]
  },
  {
   "cell_type": "markdown",
   "metadata": {},
   "source": [
    "### K-Nearest Neighbor"
   ]
  },
  {
   "cell_type": "code",
   "execution_count": 16,
   "metadata": {},
   "outputs": [],
   "source": [
    "def get_mode(x_list):\n",
    "    return np.argmax(np.bincount(x_list))"
   ]
  },
  {
   "cell_type": "code",
   "execution_count": 17,
   "metadata": {},
   "outputs": [],
   "source": [
    "'''\n",
    "Get List of K most similar values\n",
    "'''\n",
    "def get_k_list(dist, k):\n",
    "    k_value = np.argpartition(dist, k)    \n",
    "    k_dist = dist[k_value[:k]]\n",
    "    labels = []\n",
    "    if (len(k_dist)%2) == 0:\n",
    "        for z in k_dist[:-1]:\n",
    "            ind = list(dist).index(z)\n",
    "            labels.append(Y_Train[ind])\n",
    "    else:\n",
    "        for z in k_dist:\n",
    "            ind = list(dist).index(z)\n",
    "            labels.append(Y_Train[ind])\n",
    "    return get_mode(np.asarray(labels))"
   ]
  },
  {
   "cell_type": "code",
   "execution_count": 18,
   "metadata": {},
   "outputs": [],
   "source": [
    "'''\n",
    "The KNN Algorithm using Cosine Similarity\n",
    "'''\n",
    "def KNNAlgorithm(a, b, k):\n",
    "    \n",
    "    a_norm = a/np.linalg.norm(a,axis = 1)[:,None]\n",
    "    b_norm = b/np.linalg.norm(b,axis = 1)[:,None]\n",
    "    distances = np.dot(a_norm,b_norm.T).T\n",
    "    distances = 1 - np.absolute(distances)\n",
    "\n",
    "    pred = np.apply_along_axis(get_k_list, 1, distances, k)\n",
    "    \n",
    "    return pred.reshape(-1)"
   ]
  },
  {
   "cell_type": "code",
   "execution_count": 19,
   "metadata": {
    "scrolled": false
   },
   "outputs": [
    {
     "name": "stdout",
     "output_type": "stream",
     "text": [
      "/n\n",
      "-----------------\n",
      "K Value:  1\n",
      "_____________\n"
     ]
    },
    {
     "data": {
      "text/html": [
       "<div>\n",
       "<style scoped>\n",
       "    .dataframe tbody tr th:only-of-type {\n",
       "        vertical-align: middle;\n",
       "    }\n",
       "\n",
       "    .dataframe tbody tr th {\n",
       "        vertical-align: top;\n",
       "    }\n",
       "\n",
       "    .dataframe thead th {\n",
       "        text-align: right;\n",
       "    }\n",
       "</style>\n",
       "<table border=\"1\" class=\"dataframe\">\n",
       "  <thead>\n",
       "    <tr style=\"text-align: right;\">\n",
       "      <th>Actual</th>\n",
       "      <th>0</th>\n",
       "      <th>1</th>\n",
       "      <th>All</th>\n",
       "    </tr>\n",
       "    <tr>\n",
       "      <th>Predicted</th>\n",
       "      <th></th>\n",
       "      <th></th>\n",
       "      <th></th>\n",
       "    </tr>\n",
       "  </thead>\n",
       "  <tbody>\n",
       "    <tr>\n",
       "      <th>0</th>\n",
       "      <td>2222</td>\n",
       "      <td>875</td>\n",
       "      <td>3097</td>\n",
       "    </tr>\n",
       "    <tr>\n",
       "      <th>1</th>\n",
       "      <td>775</td>\n",
       "      <td>1852</td>\n",
       "      <td>2627</td>\n",
       "    </tr>\n",
       "    <tr>\n",
       "      <th>All</th>\n",
       "      <td>2997</td>\n",
       "      <td>2727</td>\n",
       "      <td>5724</td>\n",
       "    </tr>\n",
       "  </tbody>\n",
       "</table>\n",
       "</div>"
      ],
      "text/plain": [
       "Actual        0     1   All\n",
       "Predicted                  \n",
       "0          2222   875  3097\n",
       "1           775  1852  2627\n",
       "All        2997  2727  5724"
      ]
     },
     "metadata": {},
     "output_type": "display_data"
    },
    {
     "name": "stdout",
     "output_type": "stream",
     "text": [
      "EVALUATION REPORT \n",
      "\n",
      "-----------------\n",
      "With Respect To:  0\n",
      "\n",
      "\n",
      "    True Positives :  2222\n",
      "    True Negatives :  1852\n",
      "    False Positives:  875\n",
      "    False Negatives:  775\n",
      "    Accuracy       :  0.7117400419287212\n",
      "    Precision      :  0.7174685179205683\n",
      "    Recall         :  0.7414080747414081\n",
      "    F1-Score       :  0.7292418772563177\n",
      "\n",
      "\n",
      "With Respect To:  1\n",
      "\n",
      "\n",
      "    True Positives :  1852\n",
      "    True Negatives :  2222\n",
      "    False Positives:  775\n",
      "    False Negatives:  875\n",
      "    Accuracy       :  0.7117400419287212\n",
      "    Precision      :  0.7049866768176627\n",
      "    Recall         :  0.6791345801246791\n",
      "    F1-Score       :  0.691819200597684\n",
      "\n",
      "\n",
      "-----------------\n",
      "Macro Average (Accuracy) :  0.7117400419287212\n",
      "Macro Average (Precision):  0.7112275973691156\n",
      "Macro Average (Recall)   :  0.7102713274330437\n",
      "Macro Average (F1-Score) :  0.7105305389270009\n",
      "/n\n",
      "-----------------\n",
      "K Value:  3\n",
      "_____________\n"
     ]
    },
    {
     "data": {
      "text/html": [
       "<div>\n",
       "<style scoped>\n",
       "    .dataframe tbody tr th:only-of-type {\n",
       "        vertical-align: middle;\n",
       "    }\n",
       "\n",
       "    .dataframe tbody tr th {\n",
       "        vertical-align: top;\n",
       "    }\n",
       "\n",
       "    .dataframe thead th {\n",
       "        text-align: right;\n",
       "    }\n",
       "</style>\n",
       "<table border=\"1\" class=\"dataframe\">\n",
       "  <thead>\n",
       "    <tr style=\"text-align: right;\">\n",
       "      <th>Actual</th>\n",
       "      <th>0</th>\n",
       "      <th>1</th>\n",
       "      <th>All</th>\n",
       "    </tr>\n",
       "    <tr>\n",
       "      <th>Predicted</th>\n",
       "      <th></th>\n",
       "      <th></th>\n",
       "      <th></th>\n",
       "    </tr>\n",
       "  </thead>\n",
       "  <tbody>\n",
       "    <tr>\n",
       "      <th>0</th>\n",
       "      <td>2309</td>\n",
       "      <td>836</td>\n",
       "      <td>3145</td>\n",
       "    </tr>\n",
       "    <tr>\n",
       "      <th>1</th>\n",
       "      <td>688</td>\n",
       "      <td>1891</td>\n",
       "      <td>2579</td>\n",
       "    </tr>\n",
       "    <tr>\n",
       "      <th>All</th>\n",
       "      <td>2997</td>\n",
       "      <td>2727</td>\n",
       "      <td>5724</td>\n",
       "    </tr>\n",
       "  </tbody>\n",
       "</table>\n",
       "</div>"
      ],
      "text/plain": [
       "Actual        0     1   All\n",
       "Predicted                  \n",
       "0          2309   836  3145\n",
       "1           688  1891  2579\n",
       "All        2997  2727  5724"
      ]
     },
     "metadata": {},
     "output_type": "display_data"
    },
    {
     "name": "stdout",
     "output_type": "stream",
     "text": [
      "EVALUATION REPORT \n",
      "\n",
      "-----------------\n",
      "With Respect To:  0\n",
      "\n",
      "\n",
      "    True Positives :  2309\n",
      "    True Negatives :  1891\n",
      "    False Positives:  836\n",
      "    False Negatives:  688\n",
      "    Accuracy       :  0.7337526205450734\n",
      "    Precision      :  0.734181240063593\n",
      "    Recall         :  0.7704371037704371\n",
      "    F1-Score       :  0.7518723542819928\n",
      "\n",
      "\n",
      "With Respect To:  1\n",
      "\n",
      "\n",
      "    True Positives :  1891\n",
      "    True Negatives :  2309\n",
      "    False Positives:  688\n",
      "    False Negatives:  836\n",
      "    Accuracy       :  0.7337526205450734\n",
      "    Precision      :  0.7332299340829779\n",
      "    Recall         :  0.6934360102676934\n",
      "    F1-Score       :  0.7127779871843195\n",
      "\n",
      "\n",
      "-----------------\n",
      "Macro Average (Accuracy) :  0.7337526205450734\n",
      "Macro Average (Precision):  0.7337055870732854\n",
      "Macro Average (Recall)   :  0.7319365570190652\n",
      "Macro Average (F1-Score) :  0.7323251707331562\n",
      "/n\n",
      "-----------------\n",
      "K Value:  5\n",
      "_____________\n"
     ]
    },
    {
     "data": {
      "text/html": [
       "<div>\n",
       "<style scoped>\n",
       "    .dataframe tbody tr th:only-of-type {\n",
       "        vertical-align: middle;\n",
       "    }\n",
       "\n",
       "    .dataframe tbody tr th {\n",
       "        vertical-align: top;\n",
       "    }\n",
       "\n",
       "    .dataframe thead th {\n",
       "        text-align: right;\n",
       "    }\n",
       "</style>\n",
       "<table border=\"1\" class=\"dataframe\">\n",
       "  <thead>\n",
       "    <tr style=\"text-align: right;\">\n",
       "      <th>Actual</th>\n",
       "      <th>0</th>\n",
       "      <th>1</th>\n",
       "      <th>All</th>\n",
       "    </tr>\n",
       "    <tr>\n",
       "      <th>Predicted</th>\n",
       "      <th></th>\n",
       "      <th></th>\n",
       "      <th></th>\n",
       "    </tr>\n",
       "  </thead>\n",
       "  <tbody>\n",
       "    <tr>\n",
       "      <th>0</th>\n",
       "      <td>2341</td>\n",
       "      <td>780</td>\n",
       "      <td>3121</td>\n",
       "    </tr>\n",
       "    <tr>\n",
       "      <th>1</th>\n",
       "      <td>656</td>\n",
       "      <td>1947</td>\n",
       "      <td>2603</td>\n",
       "    </tr>\n",
       "    <tr>\n",
       "      <th>All</th>\n",
       "      <td>2997</td>\n",
       "      <td>2727</td>\n",
       "      <td>5724</td>\n",
       "    </tr>\n",
       "  </tbody>\n",
       "</table>\n",
       "</div>"
      ],
      "text/plain": [
       "Actual        0     1   All\n",
       "Predicted                  \n",
       "0          2341   780  3121\n",
       "1           656  1947  2603\n",
       "All        2997  2727  5724"
      ]
     },
     "metadata": {},
     "output_type": "display_data"
    },
    {
     "name": "stdout",
     "output_type": "stream",
     "text": [
      "EVALUATION REPORT \n",
      "\n",
      "-----------------\n",
      "With Respect To:  0\n",
      "\n",
      "\n",
      "    True Positives :  2341\n",
      "    True Negatives :  1947\n",
      "    False Positives:  780\n",
      "    False Negatives:  656\n",
      "    Accuracy       :  0.7491264849755416\n",
      "    Precision      :  0.75008010253124\n",
      "    Recall         :  0.7811144477811145\n",
      "    F1-Score       :  0.7652827721477609\n",
      "\n",
      "\n",
      "With Respect To:  1\n",
      "\n",
      "\n",
      "    True Positives :  1947\n",
      "    True Negatives :  2341\n",
      "    False Positives:  656\n",
      "    False Negatives:  780\n",
      "    Accuracy       :  0.7491264849755416\n",
      "    Precision      :  0.7479830964271994\n",
      "    Recall         :  0.713971397139714\n",
      "    F1-Score       :  0.7305816135084428\n",
      "\n",
      "\n",
      "-----------------\n",
      "Macro Average (Accuracy) :  0.7491264849755416\n",
      "Macro Average (Precision):  0.7490315994792197\n",
      "Macro Average (Recall)   :  0.7475429224604142\n",
      "Macro Average (F1-Score) :  0.7479321928281017\n",
      "/n\n",
      "-----------------\n",
      "K Value:  7\n",
      "_____________\n"
     ]
    },
    {
     "data": {
      "text/html": [
       "<div>\n",
       "<style scoped>\n",
       "    .dataframe tbody tr th:only-of-type {\n",
       "        vertical-align: middle;\n",
       "    }\n",
       "\n",
       "    .dataframe tbody tr th {\n",
       "        vertical-align: top;\n",
       "    }\n",
       "\n",
       "    .dataframe thead th {\n",
       "        text-align: right;\n",
       "    }\n",
       "</style>\n",
       "<table border=\"1\" class=\"dataframe\">\n",
       "  <thead>\n",
       "    <tr style=\"text-align: right;\">\n",
       "      <th>Actual</th>\n",
       "      <th>0</th>\n",
       "      <th>1</th>\n",
       "      <th>All</th>\n",
       "    </tr>\n",
       "    <tr>\n",
       "      <th>Predicted</th>\n",
       "      <th></th>\n",
       "      <th></th>\n",
       "      <th></th>\n",
       "    </tr>\n",
       "  </thead>\n",
       "  <tbody>\n",
       "    <tr>\n",
       "      <th>0</th>\n",
       "      <td>2371</td>\n",
       "      <td>812</td>\n",
       "      <td>3183</td>\n",
       "    </tr>\n",
       "    <tr>\n",
       "      <th>1</th>\n",
       "      <td>626</td>\n",
       "      <td>1915</td>\n",
       "      <td>2541</td>\n",
       "    </tr>\n",
       "    <tr>\n",
       "      <th>All</th>\n",
       "      <td>2997</td>\n",
       "      <td>2727</td>\n",
       "      <td>5724</td>\n",
       "    </tr>\n",
       "  </tbody>\n",
       "</table>\n",
       "</div>"
      ],
      "text/plain": [
       "Actual        0     1   All\n",
       "Predicted                  \n",
       "0          2371   812  3183\n",
       "1           626  1915  2541\n",
       "All        2997  2727  5724"
      ]
     },
     "metadata": {},
     "output_type": "display_data"
    },
    {
     "name": "stdout",
     "output_type": "stream",
     "text": [
      "EVALUATION REPORT \n",
      "\n",
      "-----------------\n",
      "With Respect To:  0\n",
      "\n",
      "\n",
      "    True Positives :  2371\n",
      "    True Negatives :  1915\n",
      "    False Positives:  812\n",
      "    False Negatives:  626\n",
      "    Accuracy       :  0.7487770789657582\n",
      "    Precision      :  0.744894753377317\n",
      "    Recall         :  0.7911244577911245\n",
      "    F1-Score       :  0.7673139158576052\n",
      "\n",
      "\n",
      "With Respect To:  1\n",
      "\n",
      "\n",
      "    True Positives :  1915\n",
      "    True Negatives :  2371\n",
      "    False Positives:  626\n",
      "    False Negatives:  812\n",
      "    Accuracy       :  0.7487770789657582\n",
      "    Precision      :  0.7536402990948445\n",
      "    Recall         :  0.7022368903557022\n",
      "    F1-Score       :  0.7270311313591494\n",
      "\n",
      "\n",
      "-----------------\n",
      "Macro Average (Accuracy) :  0.7487770789657582\n",
      "Macro Average (Precision):  0.7492675262360808\n",
      "Macro Average (Recall)   :  0.7466806740734133\n",
      "Macro Average (F1-Score) :  0.7471725236083773\n",
      "/n\n",
      "-----------------\n",
      "K Value:  10\n",
      "_____________\n"
     ]
    },
    {
     "data": {
      "text/html": [
       "<div>\n",
       "<style scoped>\n",
       "    .dataframe tbody tr th:only-of-type {\n",
       "        vertical-align: middle;\n",
       "    }\n",
       "\n",
       "    .dataframe tbody tr th {\n",
       "        vertical-align: top;\n",
       "    }\n",
       "\n",
       "    .dataframe thead th {\n",
       "        text-align: right;\n",
       "    }\n",
       "</style>\n",
       "<table border=\"1\" class=\"dataframe\">\n",
       "  <thead>\n",
       "    <tr style=\"text-align: right;\">\n",
       "      <th>Actual</th>\n",
       "      <th>0</th>\n",
       "      <th>1</th>\n",
       "      <th>All</th>\n",
       "    </tr>\n",
       "    <tr>\n",
       "      <th>Predicted</th>\n",
       "      <th></th>\n",
       "      <th></th>\n",
       "      <th></th>\n",
       "    </tr>\n",
       "  </thead>\n",
       "  <tbody>\n",
       "    <tr>\n",
       "      <th>0</th>\n",
       "      <td>2383</td>\n",
       "      <td>795</td>\n",
       "      <td>3178</td>\n",
       "    </tr>\n",
       "    <tr>\n",
       "      <th>1</th>\n",
       "      <td>614</td>\n",
       "      <td>1932</td>\n",
       "      <td>2546</td>\n",
       "    </tr>\n",
       "    <tr>\n",
       "      <th>All</th>\n",
       "      <td>2997</td>\n",
       "      <td>2727</td>\n",
       "      <td>5724</td>\n",
       "    </tr>\n",
       "  </tbody>\n",
       "</table>\n",
       "</div>"
      ],
      "text/plain": [
       "Actual        0     1   All\n",
       "Predicted                  \n",
       "0          2383   795  3178\n",
       "1           614  1932  2546\n",
       "All        2997  2727  5724"
      ]
     },
     "metadata": {},
     "output_type": "display_data"
    },
    {
     "name": "stdout",
     "output_type": "stream",
     "text": [
      "EVALUATION REPORT \n",
      "\n",
      "-----------------\n",
      "With Respect To:  0\n",
      "\n",
      "\n",
      "    True Positives :  2383\n",
      "    True Negatives :  1932\n",
      "    False Positives:  795\n",
      "    False Negatives:  614\n",
      "    Accuracy       :  0.7538434661076171\n",
      "    Precision      :  0.749842668344871\n",
      "    Recall         :  0.7951284617951284\n",
      "    F1-Score       :  0.7718218623481782\n",
      "\n",
      "\n",
      "With Respect To:  1\n",
      "\n",
      "\n",
      "    True Positives :  1932\n",
      "    True Negatives :  2383\n",
      "    False Positives:  614\n",
      "    False Negatives:  795\n",
      "    Accuracy       :  0.7538434661076171\n",
      "    Precision      :  0.7588373919874313\n",
      "    Recall         :  0.7084708470847084\n",
      "    F1-Score       :  0.7327896832922435\n",
      "\n",
      "\n",
      "-----------------\n",
      "Macro Average (Accuracy) :  0.7538434661076171\n",
      "Macro Average (Precision):  0.7543400301661511\n",
      "Macro Average (Recall)   :  0.7517996544399184\n",
      "Macro Average (F1-Score) :  0.7523057728202108\n"
     ]
    }
   ],
   "source": [
    "K = [1,3,5,7,10]\n",
    "for k in K:\n",
    "    Y_Pred = KNNAlgorithm(X_Train, X_Test, k)\n",
    "    print('/n')\n",
    "    print('-----------------')\n",
    "    print('K Value: ', k)\n",
    "    print('_____________')\n",
    "    KNN_CM = confusion_matrix(Y_Pred, Y_Test)\n",
    "    evaluationReport(KNN_CM)"
   ]
  },
  {
   "cell_type": "markdown",
   "metadata": {},
   "source": [
    "### Perceptron Algorithm"
   ]
  },
  {
   "cell_type": "code",
   "execution_count": 20,
   "metadata": {},
   "outputs": [
    {
     "data": {
      "text/plain": [
       "array([-1,  1])"
      ]
     },
     "execution_count": 20,
     "metadata": {},
     "output_type": "execute_result"
    }
   ],
   "source": [
    "'''\n",
    "Change Labels for Perceptron to 1 and -1\n",
    "'''\n",
    "Y_Train_P = np.where(Y_Train < 1, -1, 1)\n",
    "np.unique(Y_Train_P)"
   ]
  },
  {
   "cell_type": "code",
   "execution_count": 21,
   "metadata": {},
   "outputs": [],
   "source": [
    "import matplotlib.pyplot as plt \n",
    "\n",
    "'''\n",
    "Perceptron Algorithm\n",
    "'''\n",
    "def perceptron(X, Y):\n",
    "\n",
    "    w = np.zeros(X.shape[1])\n",
    "    epochs = 40\n",
    "    eta = 0.2\n",
    "    errors = []\n",
    "    for e in range(epochs):\n",
    "        total_error = 0\n",
    "        for i in range(len(X)):\n",
    "            if (np.dot(X[i], w)*Y[i]) <= 0:\n",
    "                total_error += (np.dot(X[i], w)*Y[i])\n",
    "                w = w + eta*X[i]*Y[i]\n",
    "        errors.append(total_error*-1)\n",
    "#     plt.plot(errors)\n",
    "#     plt.xlabel('Epoch')\n",
    "#     plt.ylabel('Total Loss')\n",
    "    return w"
   ]
  },
  {
   "cell_type": "code",
   "execution_count": 22,
   "metadata": {},
   "outputs": [],
   "source": [
    "W_P = perceptron(X_Train, Y_Train_P)"
   ]
  },
  {
   "cell_type": "code",
   "execution_count": 25,
   "metadata": {},
   "outputs": [],
   "source": [
    "'''\n",
    "Predicting Test Data Using Perceptron Algorithm\n",
    "'''\n",
    "def predict_perceptron(X_P, W_P):\n",
    "    Y_pred = np.dot(X_P,W_P)\n",
    "    Y_pred = np.where(Y_pred > 0 , 1 , 0)\n",
    "    return Y_pred\n",
    "Y_P = predict_perceptron(X_Test, W_P)"
   ]
  },
  {
   "cell_type": "code",
   "execution_count": 26,
   "metadata": {},
   "outputs": [
    {
     "data": {
      "text/html": [
       "<div>\n",
       "<style scoped>\n",
       "    .dataframe tbody tr th:only-of-type {\n",
       "        vertical-align: middle;\n",
       "    }\n",
       "\n",
       "    .dataframe tbody tr th {\n",
       "        vertical-align: top;\n",
       "    }\n",
       "\n",
       "    .dataframe thead th {\n",
       "        text-align: right;\n",
       "    }\n",
       "</style>\n",
       "<table border=\"1\" class=\"dataframe\">\n",
       "  <thead>\n",
       "    <tr style=\"text-align: right;\">\n",
       "      <th>Actual</th>\n",
       "      <th>0</th>\n",
       "      <th>1</th>\n",
       "      <th>All</th>\n",
       "    </tr>\n",
       "    <tr>\n",
       "      <th>Predicted</th>\n",
       "      <th></th>\n",
       "      <th></th>\n",
       "      <th></th>\n",
       "    </tr>\n",
       "  </thead>\n",
       "  <tbody>\n",
       "    <tr>\n",
       "      <th>0</th>\n",
       "      <td>1690</td>\n",
       "      <td>675</td>\n",
       "      <td>2365</td>\n",
       "    </tr>\n",
       "    <tr>\n",
       "      <th>1</th>\n",
       "      <td>1307</td>\n",
       "      <td>2052</td>\n",
       "      <td>3359</td>\n",
       "    </tr>\n",
       "    <tr>\n",
       "      <th>All</th>\n",
       "      <td>2997</td>\n",
       "      <td>2727</td>\n",
       "      <td>5724</td>\n",
       "    </tr>\n",
       "  </tbody>\n",
       "</table>\n",
       "</div>"
      ],
      "text/plain": [
       "Actual        0     1   All\n",
       "Predicted                  \n",
       "0          1690   675  2365\n",
       "1          1307  2052  3359\n",
       "All        2997  2727  5724"
      ]
     },
     "metadata": {},
     "output_type": "display_data"
    },
    {
     "name": "stdout",
     "output_type": "stream",
     "text": [
      "EVALUATION REPORT \n",
      "\n",
      "-----------------\n",
      "With Respect To:  0\n",
      "\n",
      "\n",
      "    True Positives :  1690\n",
      "    True Negatives :  2052\n",
      "    False Positives:  675\n",
      "    False Negatives:  1307\n",
      "    Accuracy       :  0.6537386443046821\n",
      "    Precision      :  0.7145877378435518\n",
      "    Recall         :  0.5638972305638972\n",
      "    F1-Score       :  0.630361805296531\n",
      "\n",
      "\n",
      "With Respect To:  1\n",
      "\n",
      "\n",
      "    True Positives :  2052\n",
      "    True Negatives :  1690\n",
      "    False Positives:  1307\n",
      "    False Negatives:  675\n",
      "    Accuracy       :  0.6537386443046821\n",
      "    Precision      :  0.6108961000297708\n",
      "    Recall         :  0.7524752475247525\n",
      "    F1-Score       :  0.6743345382845876\n",
      "\n",
      "\n",
      "-----------------\n",
      "Macro Average (Accuracy) :  0.6537386443046821\n",
      "Macro Average (Precision):  0.6627419189366612\n",
      "Macro Average (Recall)   :  0.6581862390443248\n",
      "Macro Average (F1-Score) :  0.6523481717905593\n"
     ]
    }
   ],
   "source": [
    "P_CM = confusion_matrix(Y_P, Y_Test)\n",
    "evaluationReport(P_CM)"
   ]
  },
  {
   "cell_type": "markdown",
   "metadata": {},
   "source": [
    "_The End_"
   ]
  }
 ],
 "metadata": {
  "kernelspec": {
   "display_name": "Python 3",
   "language": "python",
   "name": "python3"
  },
  "language_info": {
   "codemirror_mode": {
    "name": "ipython",
    "version": 3
   },
   "file_extension": ".py",
   "mimetype": "text/x-python",
   "name": "python",
   "nbconvert_exporter": "python",
   "pygments_lexer": "ipython3",
   "version": "3.7.1"
  }
 },
 "nbformat": 4,
 "nbformat_minor": 2
}
